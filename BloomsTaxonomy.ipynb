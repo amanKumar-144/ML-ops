{
  "nbformat": 4,
  "nbformat_minor": 0,
  "metadata": {
    "colab": {
      "name": "BloomsTaxonomy.ipynb",
      "provenance": [],
      "collapsed_sections": [],
      "authorship_tag": "ABX9TyOAVPSREyXRSQ/zOFi3aIRg",
      "include_colab_link": true
    },
    "kernelspec": {
      "name": "python3",
      "display_name": "Python 3"
    },
    "language_info": {
      "name": "python"
    },
    "accelerator": "GPU"
  },
  "cells": [
    {
      "cell_type": "markdown",
      "metadata": {
        "id": "view-in-github",
        "colab_type": "text"
      },
      "source": [
        "<a href=\"https://colab.research.google.com/github/revengeWillBeTaken/ML-ops/blob/master/BloomsTaxonomy.ipynb\" target=\"_parent\"><img src=\"https://colab.research.google.com/assets/colab-badge.svg\" alt=\"Open In Colab\"/></a>"
      ]
    },
    {
      "cell_type": "code",
      "metadata": {
        "colab": {
          "base_uri": "https://localhost:8080/"
        },
        "id": "OuJjPnoNXEbs",
        "outputId": "a0ecf9ad-3d77-4a3e-f5b1-7541c724b23b"
      },
      "source": [
        "!nvidia-smi"
      ],
      "execution_count": null,
      "outputs": [
        {
          "output_type": "stream",
          "text": [
            "Tue Mar 23 17:14:01 2021       \n",
            "+-----------------------------------------------------------------------------+\n",
            "| NVIDIA-SMI 460.56       Driver Version: 460.32.03    CUDA Version: 11.2     |\n",
            "|-------------------------------+----------------------+----------------------+\n",
            "| GPU  Name        Persistence-M| Bus-Id        Disp.A | Volatile Uncorr. ECC |\n",
            "| Fan  Temp  Perf  Pwr:Usage/Cap|         Memory-Usage | GPU-Util  Compute M. |\n",
            "|                               |                      |               MIG M. |\n",
            "|===============================+======================+======================|\n",
            "|   0  Tesla K80           Off  | 00000000:00:04.0 Off |                    0 |\n",
            "| N/A   57C    P0    61W / 149W |   8362MiB / 11441MiB |      0%      Default |\n",
            "|                               |                      |                  N/A |\n",
            "+-------------------------------+----------------------+----------------------+\n",
            "                                                                               \n",
            "+-----------------------------------------------------------------------------+\n",
            "| Processes:                                                                  |\n",
            "|  GPU   GI   CI        PID   Type   Process name                  GPU Memory |\n",
            "|        ID   ID                                                   Usage      |\n",
            "|=============================================================================|\n",
            "+-----------------------------------------------------------------------------+\n"
          ],
          "name": "stdout"
        }
      ]
    },
    {
      "cell_type": "code",
      "metadata": {
        "colab": {
          "base_uri": "https://localhost:8080/"
        },
        "id": "74xtMZ0rYEjg",
        "outputId": "a78c8e63-07ed-43ca-b2bc-bf90abf5720c"
      },
      "source": [
        "!pip install keras tf-models-official pydot graphviz "
      ],
      "execution_count": null,
      "outputs": [
        {
          "output_type": "stream",
          "text": [
            "Requirement already satisfied: keras in /usr/local/lib/python3.7/dist-packages (2.4.3)\n",
            "Requirement already satisfied: tf-models-official in /usr/local/lib/python3.7/dist-packages (2.4.0)\n",
            "Requirement already satisfied: pydot in /usr/local/lib/python3.7/dist-packages (1.3.0)\n",
            "Requirement already satisfied: graphviz in /usr/local/lib/python3.7/dist-packages (0.10.1)\n",
            "Requirement already satisfied: scipy>=0.14 in /usr/local/lib/python3.7/dist-packages (from keras) (1.4.1)\n",
            "Requirement already satisfied: numpy>=1.9.1 in /usr/local/lib/python3.7/dist-packages (from keras) (1.19.5)\n",
            "Requirement already satisfied: pyyaml in /usr/local/lib/python3.7/dist-packages (from keras) (3.13)\n",
            "Requirement already satisfied: h5py in /usr/local/lib/python3.7/dist-packages (from keras) (2.10.0)\n",
            "Requirement already satisfied: tensorflow-addons in /usr/local/lib/python3.7/dist-packages (from tf-models-official) (0.12.1)\n",
            "Requirement already satisfied: pandas>=0.22.0 in /usr/local/lib/python3.7/dist-packages (from tf-models-official) (1.1.5)\n",
            "Requirement already satisfied: seqeval in /usr/local/lib/python3.7/dist-packages (from tf-models-official) (1.2.2)\n",
            "Requirement already satisfied: Cython in /usr/local/lib/python3.7/dist-packages (from tf-models-official) (0.29.22)\n",
            "Requirement already satisfied: matplotlib in /usr/local/lib/python3.7/dist-packages (from tf-models-official) (3.2.2)\n",
            "Requirement already satisfied: oauth2client in /usr/local/lib/python3.7/dist-packages (from tf-models-official) (4.1.3)\n",
            "Requirement already satisfied: psutil>=5.4.3 in /usr/local/lib/python3.7/dist-packages (from tf-models-official) (5.4.8)\n",
            "Requirement already satisfied: opencv-python-headless in /usr/local/lib/python3.7/dist-packages (from tf-models-official) (4.5.1.48)\n",
            "Requirement already satisfied: dataclasses in /usr/local/lib/python3.7/dist-packages (from tf-models-official) (0.6)\n",
            "Requirement already satisfied: six in /usr/local/lib/python3.7/dist-packages (from tf-models-official) (1.15.0)\n",
            "Requirement already satisfied: tensorflow-model-optimization>=0.4.1 in /usr/local/lib/python3.7/dist-packages (from tf-models-official) (0.5.0)\n",
            "Requirement already satisfied: py-cpuinfo>=3.3.0 in /usr/local/lib/python3.7/dist-packages (from tf-models-official) (7.0.0)\n",
            "Requirement already satisfied: kaggle>=1.3.9 in /usr/local/lib/python3.7/dist-packages (from tf-models-official) (1.5.10)\n",
            "Requirement already satisfied: tensorflow-hub>=0.6.0 in /usr/local/lib/python3.7/dist-packages (from tf-models-official) (0.11.0)\n",
            "Requirement already satisfied: tf-slim>=1.1.0 in /usr/local/lib/python3.7/dist-packages (from tf-models-official) (1.1.0)\n",
            "Requirement already satisfied: Pillow in /usr/local/lib/python3.7/dist-packages (from tf-models-official) (7.0.0)\n",
            "Requirement already satisfied: pycocotools in /usr/local/lib/python3.7/dist-packages (from tf-models-official) (2.0.2)\n",
            "Requirement already satisfied: tensorflow-datasets in /usr/local/lib/python3.7/dist-packages (from tf-models-official) (4.0.1)\n",
            "Requirement already satisfied: google-cloud-bigquery>=0.31.0 in /usr/local/lib/python3.7/dist-packages (from tf-models-official) (1.21.0)\n",
            "Requirement already satisfied: tensorflow>=2.4.0 in /usr/local/lib/python3.7/dist-packages (from tf-models-official) (2.4.1)\n",
            "Requirement already satisfied: sentencepiece in /usr/local/lib/python3.7/dist-packages (from tf-models-official) (0.1.95)\n",
            "Requirement already satisfied: gin-config in /usr/local/lib/python3.7/dist-packages (from tf-models-official) (0.4.0)\n",
            "Requirement already satisfied: google-api-python-client>=1.6.7 in /usr/local/lib/python3.7/dist-packages (from tf-models-official) (1.12.8)\n",
            "Requirement already satisfied: pyparsing>=2.1.4 in /usr/local/lib/python3.7/dist-packages (from pydot) (2.4.7)\n",
            "Requirement already satisfied: typeguard>=2.7 in /usr/local/lib/python3.7/dist-packages (from tensorflow-addons->tf-models-official) (2.7.1)\n",
            "Requirement already satisfied: python-dateutil>=2.7.3 in /usr/local/lib/python3.7/dist-packages (from pandas>=0.22.0->tf-models-official) (2.8.1)\n",
            "Requirement already satisfied: pytz>=2017.2 in /usr/local/lib/python3.7/dist-packages (from pandas>=0.22.0->tf-models-official) (2018.9)\n",
            "Requirement already satisfied: scikit-learn>=0.21.3 in /usr/local/lib/python3.7/dist-packages (from seqeval->tf-models-official) (0.22.2.post1)\n",
            "Requirement already satisfied: kiwisolver>=1.0.1 in /usr/local/lib/python3.7/dist-packages (from matplotlib->tf-models-official) (1.3.1)\n",
            "Requirement already satisfied: cycler>=0.10 in /usr/local/lib/python3.7/dist-packages (from matplotlib->tf-models-official) (0.10.0)\n",
            "Requirement already satisfied: pyasn1-modules>=0.0.5 in /usr/local/lib/python3.7/dist-packages (from oauth2client->tf-models-official) (0.2.8)\n",
            "Requirement already satisfied: httplib2>=0.9.1 in /usr/local/lib/python3.7/dist-packages (from oauth2client->tf-models-official) (0.17.4)\n",
            "Requirement already satisfied: pyasn1>=0.1.7 in /usr/local/lib/python3.7/dist-packages (from oauth2client->tf-models-official) (0.4.8)\n",
            "Requirement already satisfied: rsa>=3.1.4 in /usr/local/lib/python3.7/dist-packages (from oauth2client->tf-models-official) (4.7.2)\n",
            "Requirement already satisfied: dm-tree~=0.1.1 in /usr/local/lib/python3.7/dist-packages (from tensorflow-model-optimization>=0.4.1->tf-models-official) (0.1.5)\n",
            "Requirement already satisfied: tqdm in /usr/local/lib/python3.7/dist-packages (from kaggle>=1.3.9->tf-models-official) (4.41.1)\n",
            "Requirement already satisfied: certifi in /usr/local/lib/python3.7/dist-packages (from kaggle>=1.3.9->tf-models-official) (2020.12.5)\n",
            "Requirement already satisfied: python-slugify in /usr/local/lib/python3.7/dist-packages (from kaggle>=1.3.9->tf-models-official) (4.0.1)\n",
            "Requirement already satisfied: requests in /usr/local/lib/python3.7/dist-packages (from kaggle>=1.3.9->tf-models-official) (2.23.0)\n",
            "Requirement already satisfied: urllib3 in /usr/local/lib/python3.7/dist-packages (from kaggle>=1.3.9->tf-models-official) (1.24.3)\n",
            "Requirement already satisfied: protobuf>=3.8.0 in /usr/local/lib/python3.7/dist-packages (from tensorflow-hub>=0.6.0->tf-models-official) (3.12.4)\n",
            "Requirement already satisfied: absl-py>=0.2.2 in /usr/local/lib/python3.7/dist-packages (from tf-slim>=1.1.0->tf-models-official) (0.10.0)\n",
            "Requirement already satisfied: setuptools>=18.0 in /usr/local/lib/python3.7/dist-packages (from pycocotools->tf-models-official) (54.1.2)\n",
            "Requirement already satisfied: importlib-resources; python_version < \"3.9\" in /usr/local/lib/python3.7/dist-packages (from tensorflow-datasets->tf-models-official) (5.1.2)\n",
            "Requirement already satisfied: promise in /usr/local/lib/python3.7/dist-packages (from tensorflow-datasets->tf-models-official) (2.3)\n",
            "Requirement already satisfied: attrs>=18.1.0 in /usr/local/lib/python3.7/dist-packages (from tensorflow-datasets->tf-models-official) (20.3.0)\n",
            "Requirement already satisfied: future in /usr/local/lib/python3.7/dist-packages (from tensorflow-datasets->tf-models-official) (0.16.0)\n",
            "Requirement already satisfied: tensorflow-metadata in /usr/local/lib/python3.7/dist-packages (from tensorflow-datasets->tf-models-official) (0.28.0)\n",
            "Requirement already satisfied: termcolor in /usr/local/lib/python3.7/dist-packages (from tensorflow-datasets->tf-models-official) (1.1.0)\n",
            "Requirement already satisfied: dill in /usr/local/lib/python3.7/dist-packages (from tensorflow-datasets->tf-models-official) (0.3.3)\n",
            "Requirement already satisfied: google-resumable-media!=0.4.0,<0.5.0dev,>=0.3.1 in /usr/local/lib/python3.7/dist-packages (from google-cloud-bigquery>=0.31.0->tf-models-official) (0.4.1)\n",
            "Requirement already satisfied: google-cloud-core<2.0dev,>=1.0.3 in /usr/local/lib/python3.7/dist-packages (from google-cloud-bigquery>=0.31.0->tf-models-official) (1.0.3)\n",
            "Requirement already satisfied: tensorflow-estimator<2.5.0,>=2.4.0 in /usr/local/lib/python3.7/dist-packages (from tensorflow>=2.4.0->tf-models-official) (2.4.0)\n",
            "Requirement already satisfied: flatbuffers~=1.12.0 in /usr/local/lib/python3.7/dist-packages (from tensorflow>=2.4.0->tf-models-official) (1.12)\n",
            "Requirement already satisfied: keras-preprocessing~=1.1.2 in /usr/local/lib/python3.7/dist-packages (from tensorflow>=2.4.0->tf-models-official) (1.1.2)\n",
            "Requirement already satisfied: astunparse~=1.6.3 in /usr/local/lib/python3.7/dist-packages (from tensorflow>=2.4.0->tf-models-official) (1.6.3)\n",
            "Requirement already satisfied: opt-einsum~=3.3.0 in /usr/local/lib/python3.7/dist-packages (from tensorflow>=2.4.0->tf-models-official) (3.3.0)\n",
            "Requirement already satisfied: typing-extensions~=3.7.4 in /usr/local/lib/python3.7/dist-packages (from tensorflow>=2.4.0->tf-models-official) (3.7.4.3)\n",
            "Requirement already satisfied: google-pasta~=0.2 in /usr/local/lib/python3.7/dist-packages (from tensorflow>=2.4.0->tf-models-official) (0.2.0)\n",
            "Requirement already satisfied: wheel~=0.35 in /usr/local/lib/python3.7/dist-packages (from tensorflow>=2.4.0->tf-models-official) (0.36.2)\n",
            "Requirement already satisfied: wrapt~=1.12.1 in /usr/local/lib/python3.7/dist-packages (from tensorflow>=2.4.0->tf-models-official) (1.12.1)\n",
            "Requirement already satisfied: gast==0.3.3 in /usr/local/lib/python3.7/dist-packages (from tensorflow>=2.4.0->tf-models-official) (0.3.3)\n",
            "Requirement already satisfied: grpcio~=1.32.0 in /usr/local/lib/python3.7/dist-packages (from tensorflow>=2.4.0->tf-models-official) (1.32.0)\n",
            "Requirement already satisfied: tensorboard~=2.4 in /usr/local/lib/python3.7/dist-packages (from tensorflow>=2.4.0->tf-models-official) (2.4.1)\n",
            "Requirement already satisfied: google-api-core<2dev,>=1.21.0 in /usr/local/lib/python3.7/dist-packages (from google-api-python-client>=1.6.7->tf-models-official) (1.26.1)\n",
            "Requirement already satisfied: uritemplate<4dev,>=3.0.0 in /usr/local/lib/python3.7/dist-packages (from google-api-python-client>=1.6.7->tf-models-official) (3.0.1)\n",
            "Requirement already satisfied: google-auth-httplib2>=0.0.3 in /usr/local/lib/python3.7/dist-packages (from google-api-python-client>=1.6.7->tf-models-official) (0.0.4)\n",
            "Requirement already satisfied: google-auth>=1.16.0 in /usr/local/lib/python3.7/dist-packages (from google-api-python-client>=1.6.7->tf-models-official) (1.27.1)\n",
            "Requirement already satisfied: joblib>=0.11 in /usr/local/lib/python3.7/dist-packages (from scikit-learn>=0.21.3->seqeval->tf-models-official) (1.0.1)\n",
            "Requirement already satisfied: text-unidecode>=1.3 in /usr/local/lib/python3.7/dist-packages (from python-slugify->kaggle>=1.3.9->tf-models-official) (1.3)\n",
            "Requirement already satisfied: idna<3,>=2.5 in /usr/local/lib/python3.7/dist-packages (from requests->kaggle>=1.3.9->tf-models-official) (2.10)\n",
            "Requirement already satisfied: chardet<4,>=3.0.2 in /usr/local/lib/python3.7/dist-packages (from requests->kaggle>=1.3.9->tf-models-official) (3.0.4)\n",
            "Requirement already satisfied: zipp>=0.4; python_version < \"3.8\" in /usr/local/lib/python3.7/dist-packages (from importlib-resources; python_version < \"3.9\"->tensorflow-datasets->tf-models-official) (3.4.1)\n",
            "Requirement already satisfied: googleapis-common-protos<2,>=1.52.0 in /usr/local/lib/python3.7/dist-packages (from tensorflow-metadata->tensorflow-datasets->tf-models-official) (1.53.0)\n",
            "Requirement already satisfied: werkzeug>=0.11.15 in /usr/local/lib/python3.7/dist-packages (from tensorboard~=2.4->tensorflow>=2.4.0->tf-models-official) (1.0.1)\n",
            "Requirement already satisfied: tensorboard-plugin-wit>=1.6.0 in /usr/local/lib/python3.7/dist-packages (from tensorboard~=2.4->tensorflow>=2.4.0->tf-models-official) (1.8.0)\n",
            "Requirement already satisfied: markdown>=2.6.8 in /usr/local/lib/python3.7/dist-packages (from tensorboard~=2.4->tensorflow>=2.4.0->tf-models-official) (3.3.4)\n",
            "Requirement already satisfied: google-auth-oauthlib<0.5,>=0.4.1 in /usr/local/lib/python3.7/dist-packages (from tensorboard~=2.4->tensorflow>=2.4.0->tf-models-official) (0.4.3)\n",
            "Requirement already satisfied: packaging>=14.3 in /usr/local/lib/python3.7/dist-packages (from google-api-core<2dev,>=1.21.0->google-api-python-client>=1.6.7->tf-models-official) (20.9)\n",
            "Requirement already satisfied: cachetools<5.0,>=2.0.0 in /usr/local/lib/python3.7/dist-packages (from google-auth>=1.16.0->google-api-python-client>=1.6.7->tf-models-official) (4.2.1)\n",
            "Requirement already satisfied: importlib-metadata; python_version < \"3.8\" in /usr/local/lib/python3.7/dist-packages (from markdown>=2.6.8->tensorboard~=2.4->tensorflow>=2.4.0->tf-models-official) (3.7.2)\n",
            "Requirement already satisfied: requests-oauthlib>=0.7.0 in /usr/local/lib/python3.7/dist-packages (from google-auth-oauthlib<0.5,>=0.4.1->tensorboard~=2.4->tensorflow>=2.4.0->tf-models-official) (1.3.0)\n",
            "Requirement already satisfied: oauthlib>=3.0.0 in /usr/local/lib/python3.7/dist-packages (from requests-oauthlib>=0.7.0->google-auth-oauthlib<0.5,>=0.4.1->tensorboard~=2.4->tensorflow>=2.4.0->tf-models-official) (3.1.0)\n"
          ],
          "name": "stdout"
        }
      ]
    },
    {
      "cell_type": "code",
      "metadata": {
        "colab": {
          "base_uri": "https://localhost:8080/"
        },
        "id": "5OqM-P_fX-Li",
        "outputId": "c3f6de9e-d849-42f1-87df-b760ec01c899"
      },
      "source": [
        "!pip install tensorflow_hub"
      ],
      "execution_count": null,
      "outputs": [
        {
          "output_type": "stream",
          "text": [
            "Requirement already satisfied: tensorflow_hub in /usr/local/lib/python3.7/dist-packages (0.11.0)\n",
            "Requirement already satisfied: numpy>=1.12.0 in /usr/local/lib/python3.7/dist-packages (from tensorflow_hub) (1.19.5)\n",
            "Requirement already satisfied: protobuf>=3.8.0 in /usr/local/lib/python3.7/dist-packages (from tensorflow_hub) (3.12.4)\n",
            "Requirement already satisfied: six>=1.9 in /usr/local/lib/python3.7/dist-packages (from protobuf>=3.8.0->tensorflow_hub) (1.15.0)\n",
            "Requirement already satisfied: setuptools in /usr/local/lib/python3.7/dist-packages (from protobuf>=3.8.0->tensorflow_hub) (54.1.2)\n"
          ],
          "name": "stdout"
        }
      ]
    },
    {
      "cell_type": "code",
      "metadata": {
        "id": "yf7l18GHXkDL"
      },
      "source": [
        "import pandas as pd\n",
        "import numpy as np\n",
        "import os\n",
        "import tensorflow as tf\n",
        "import tensorflow_hub as hub\n",
        "from keras.utils import np_utils\n",
        "\n",
        "import official.nlp.bert.bert_models\n",
        "import official.nlp.bert.configs\n",
        "import official.nlp.bert.run_classifier\n",
        "import official.nlp.bert.tokenization as tokenization\n",
        "\n",
        "from official.modeling import tf_utils\n",
        "from official import nlp\n",
        "from official.nlp import bert\n",
        "import matplotlib.pyplot as plt\n",
        "\n",
        "from sklearn.model_selection import train_test_split as tts\n",
        "from sklearn.preprocessing import LabelEncoder"
      ],
      "execution_count": null,
      "outputs": []
    },
    {
      "cell_type": "code",
      "metadata": {
        "colab": {
          "base_uri": "https://localhost:8080/"
        },
        "id": "AWX_iaNbX84G",
        "outputId": "329ae251-a9f7-4dbb-d6f8-c18d8a1fb26e"
      },
      "source": [
        "from google.colab import drive\n",
        "drive.mount('/content/drive')"
      ],
      "execution_count": null,
      "outputs": [
        {
          "output_type": "stream",
          "text": [
            "Drive already mounted at /content/drive; to attempt to forcibly remount, call drive.mount(\"/content/drive\", force_remount=True).\n"
          ],
          "name": "stdout"
        }
      ]
    },
    {
      "cell_type": "code",
      "metadata": {
        "colab": {
          "base_uri": "https://localhost:8080/"
        },
        "id": "3JcgptrCap_f",
        "outputId": "2a43572a-d9b2-4f89-865e-9a04f77973be"
      },
      "source": [
        "os.chdir(\"/content/drive/MyDrive/Data\")\n",
        "!ls"
      ],
      "execution_count": null,
      "outputs": [
        {
          "output_type": "stream",
          "text": [
            " model.png\t    'Testing Data.xlsx'  'Training Data.xlsx'\n",
            "'Testing Data.csv'  'Training Data.csv'\n"
          ],
          "name": "stdout"
        }
      ]
    },
    {
      "cell_type": "code",
      "metadata": {
        "id": "UMBU13XqcEyq"
      },
      "source": [
        "trainDf=pd.read_csv(\"/content/drive/MyDrive/Data/Training Data.csv\");\n",
        "testDf=pd.read_csv(\"/content/drive/MyDrive/Data/Testing Data.csv\");"
      ],
      "execution_count": null,
      "outputs": []
    },
    {
      "cell_type": "code",
      "metadata": {
        "colab": {
          "base_uri": "https://localhost:8080/"
        },
        "id": "qkZsH-GVhNEb",
        "outputId": "2b3807a3-1d24-434b-afd4-ef5130cc8b95"
      },
      "source": [
        "trainDf.isnull().sum()"
      ],
      "execution_count": null,
      "outputs": [
        {
          "output_type": "execute_result",
          "data": {
            "text/plain": [
              "Number       0\n",
              "Question    76\n",
              "Level       76\n",
              "dtype: int64"
            ]
          },
          "metadata": {
            "tags": []
          },
          "execution_count": 298
        }
      ]
    },
    {
      "cell_type": "code",
      "metadata": {
        "id": "S_OQf2TdhPto"
      },
      "source": [
        "trainDf.dropna(inplace=True)"
      ],
      "execution_count": null,
      "outputs": []
    },
    {
      "cell_type": "code",
      "metadata": {
        "colab": {
          "base_uri": "https://localhost:8080/"
        },
        "id": "aMH19woqhWzB",
        "outputId": "66f6d038-59cd-4f01-f11f-76804252a202"
      },
      "source": [
        "trainDf.isnull().sum()"
      ],
      "execution_count": null,
      "outputs": [
        {
          "output_type": "execute_result",
          "data": {
            "text/plain": [
              "Number      0\n",
              "Question    0\n",
              "Level       0\n",
              "dtype: int64"
            ]
          },
          "metadata": {
            "tags": []
          },
          "execution_count": 300
        }
      ]
    },
    {
      "cell_type": "code",
      "metadata": {
        "colab": {
          "base_uri": "https://localhost:8080/"
        },
        "id": "1tqdgtTjc_j0",
        "outputId": "dc60f426-325f-473f-bbd1-ce3235a2c1dc"
      },
      "source": [
        "trainDf[\"Level\"].value_counts()"
      ],
      "execution_count": null,
      "outputs": [
        {
          "output_type": "execute_result",
          "data": {
            "text/plain": [
              "Knowledge      117\n",
              "Analysis       114\n",
              "Synthesis      112\n",
              "Application    111\n",
              "Understand     110\n",
              "Evaluation     104\n",
              "Name: Level, dtype: int64"
            ]
          },
          "metadata": {
            "tags": []
          },
          "execution_count": 301
        }
      ]
    },
    {
      "cell_type": "code",
      "metadata": {
        "colab": {
          "base_uri": "https://localhost:8080/",
          "height": 206
        },
        "id": "pnyaDrwHdPPp",
        "outputId": "16765b07-430a-4f2b-efc1-83aafdc0782e"
      },
      "source": [
        "trainDf.head()"
      ],
      "execution_count": null,
      "outputs": [
        {
          "output_type": "execute_result",
          "data": {
            "text/html": [
              "<div>\n",
              "<style scoped>\n",
              "    .dataframe tbody tr th:only-of-type {\n",
              "        vertical-align: middle;\n",
              "    }\n",
              "\n",
              "    .dataframe tbody tr th {\n",
              "        vertical-align: top;\n",
              "    }\n",
              "\n",
              "    .dataframe thead th {\n",
              "        text-align: right;\n",
              "    }\n",
              "</style>\n",
              "<table border=\"1\" class=\"dataframe\">\n",
              "  <thead>\n",
              "    <tr style=\"text-align: right;\">\n",
              "      <th></th>\n",
              "      <th>Number</th>\n",
              "      <th>Question</th>\n",
              "      <th>Level</th>\n",
              "    </tr>\n",
              "  </thead>\n",
              "  <tbody>\n",
              "    <tr>\n",
              "      <th>0</th>\n",
              "      <td>1</td>\n",
              "      <td>What did the policy propose?</td>\n",
              "      <td>Knowledge</td>\n",
              "    </tr>\n",
              "    <tr>\n",
              "      <th>1</th>\n",
              "      <td>2</td>\n",
              "      <td>Who supported the policy?</td>\n",
              "      <td>Knowledge</td>\n",
              "    </tr>\n",
              "    <tr>\n",
              "      <th>2</th>\n",
              "      <td>3</td>\n",
              "      <td>When was the bill passed?</td>\n",
              "      <td>Knowledge</td>\n",
              "    </tr>\n",
              "    <tr>\n",
              "      <th>3</th>\n",
              "      <td>4</td>\n",
              "      <td>What events influenced the passage of the bill?</td>\n",
              "      <td>Knowledge</td>\n",
              "    </tr>\n",
              "    <tr>\n",
              "      <th>4</th>\n",
              "      <td>5</td>\n",
              "      <td>In your own words define aging-in-place.</td>\n",
              "      <td>Understand</td>\n",
              "    </tr>\n",
              "  </tbody>\n",
              "</table>\n",
              "</div>"
            ],
            "text/plain": [
              "   Number                                         Question       Level\n",
              "0       1                     What did the policy propose?   Knowledge\n",
              "1       2                        Who supported the policy?   Knowledge\n",
              "2       3                        When was the bill passed?   Knowledge\n",
              "3       4  What events influenced the passage of the bill?   Knowledge\n",
              "4       5         In your own words define aging-in-place.  Understand"
            ]
          },
          "metadata": {
            "tags": []
          },
          "execution_count": 302
        }
      ]
    },
    {
      "cell_type": "code",
      "metadata": {
        "colab": {
          "base_uri": "https://localhost:8080/"
        },
        "id": "61dTra4ghKBV",
        "outputId": "2497b2b4-2690-4a3c-eab3-3f372cece5cb"
      },
      "source": [
        "trainDf['Question'].astype(str)"
      ],
      "execution_count": null,
      "outputs": [
        {
          "output_type": "execute_result",
          "data": {
            "text/plain": [
              "0                           What did the policy propose?\n",
              "1                              Who supported the policy?\n",
              "2                              When was the bill passed?\n",
              "3        What events influenced the passage of the bill?\n",
              "4               In your own words define aging-in-place.\n",
              "                             ...                        \n",
              "663                What do you think is the mass and why\n",
              "664    What do you think are the strengths of using i...\n",
              "665    Do you think that this statement conveys the i...\n",
              "666    How do you think the community should grow or ...\n",
              "667    How Do You Think One Should Reason in Making E...\n",
              "Name: Question, Length: 668, dtype: object"
            ]
          },
          "metadata": {
            "tags": []
          },
          "execution_count": 303
        }
      ]
    },
    {
      "cell_type": "code",
      "metadata": {
        "colab": {
          "base_uri": "https://localhost:8080/"
        },
        "id": "LrKzD0i0g_7b",
        "outputId": "9923b41a-be27-470f-c2bd-5679b029df46"
      },
      "source": [
        "trainDf['Level'].astype(str)"
      ],
      "execution_count": null,
      "outputs": [
        {
          "output_type": "execute_result",
          "data": {
            "text/plain": [
              "0       Knowledge\n",
              "1       Knowledge\n",
              "2       Knowledge\n",
              "3       Knowledge\n",
              "4      Understand\n",
              "          ...    \n",
              "663    Evaluation\n",
              "664    Evaluation\n",
              "665    Evaluation\n",
              "666    Evaluation\n",
              "667    Evaluation\n",
              "Name: Level, Length: 668, dtype: object"
            ]
          },
          "metadata": {
            "tags": []
          },
          "execution_count": 304
        }
      ]
    },
    {
      "cell_type": "code",
      "metadata": {
        "colab": {
          "base_uri": "https://localhost:8080/"
        },
        "id": "54PAAbiEei9m",
        "outputId": "6fcfcc10-824b-467b-c6af-23fed2626122"
      },
      "source": [
        "trainDf.dtypes"
      ],
      "execution_count": null,
      "outputs": [
        {
          "output_type": "execute_result",
          "data": {
            "text/plain": [
              "Number       int64\n",
              "Question    object\n",
              "Level       object\n",
              "dtype: object"
            ]
          },
          "metadata": {
            "tags": []
          },
          "execution_count": 305
        }
      ]
    },
    {
      "cell_type": "code",
      "metadata": {
        "id": "dmJwajjehzm-"
      },
      "source": [
        "oneHotColumns = pd.get_dummies(trainDf['Level'])\n",
        "trainDf=pd.concat([trainDf, oneHotColumns], axis=1)"
      ],
      "execution_count": null,
      "outputs": []
    },
    {
      "cell_type": "code",
      "metadata": {
        "colab": {
          "base_uri": "https://localhost:8080/",
          "height": 206
        },
        "id": "CEzni13Eh6qy",
        "outputId": "fd3f9ffc-b4d7-4d35-d2bb-2aab5badd5b7"
      },
      "source": [
        "trainDf.head()"
      ],
      "execution_count": null,
      "outputs": [
        {
          "output_type": "execute_result",
          "data": {
            "text/html": [
              "<div>\n",
              "<style scoped>\n",
              "    .dataframe tbody tr th:only-of-type {\n",
              "        vertical-align: middle;\n",
              "    }\n",
              "\n",
              "    .dataframe tbody tr th {\n",
              "        vertical-align: top;\n",
              "    }\n",
              "\n",
              "    .dataframe thead th {\n",
              "        text-align: right;\n",
              "    }\n",
              "</style>\n",
              "<table border=\"1\" class=\"dataframe\">\n",
              "  <thead>\n",
              "    <tr style=\"text-align: right;\">\n",
              "      <th></th>\n",
              "      <th>Number</th>\n",
              "      <th>Question</th>\n",
              "      <th>Level</th>\n",
              "      <th>Analysis</th>\n",
              "      <th>Application</th>\n",
              "      <th>Evaluation</th>\n",
              "      <th>Knowledge</th>\n",
              "      <th>Synthesis</th>\n",
              "      <th>Understand</th>\n",
              "    </tr>\n",
              "  </thead>\n",
              "  <tbody>\n",
              "    <tr>\n",
              "      <th>0</th>\n",
              "      <td>1</td>\n",
              "      <td>What did the policy propose?</td>\n",
              "      <td>Knowledge</td>\n",
              "      <td>0</td>\n",
              "      <td>0</td>\n",
              "      <td>0</td>\n",
              "      <td>1</td>\n",
              "      <td>0</td>\n",
              "      <td>0</td>\n",
              "    </tr>\n",
              "    <tr>\n",
              "      <th>1</th>\n",
              "      <td>2</td>\n",
              "      <td>Who supported the policy?</td>\n",
              "      <td>Knowledge</td>\n",
              "      <td>0</td>\n",
              "      <td>0</td>\n",
              "      <td>0</td>\n",
              "      <td>1</td>\n",
              "      <td>0</td>\n",
              "      <td>0</td>\n",
              "    </tr>\n",
              "    <tr>\n",
              "      <th>2</th>\n",
              "      <td>3</td>\n",
              "      <td>When was the bill passed?</td>\n",
              "      <td>Knowledge</td>\n",
              "      <td>0</td>\n",
              "      <td>0</td>\n",
              "      <td>0</td>\n",
              "      <td>1</td>\n",
              "      <td>0</td>\n",
              "      <td>0</td>\n",
              "    </tr>\n",
              "    <tr>\n",
              "      <th>3</th>\n",
              "      <td>4</td>\n",
              "      <td>What events influenced the passage of the bill?</td>\n",
              "      <td>Knowledge</td>\n",
              "      <td>0</td>\n",
              "      <td>0</td>\n",
              "      <td>0</td>\n",
              "      <td>1</td>\n",
              "      <td>0</td>\n",
              "      <td>0</td>\n",
              "    </tr>\n",
              "    <tr>\n",
              "      <th>4</th>\n",
              "      <td>5</td>\n",
              "      <td>In your own words define aging-in-place.</td>\n",
              "      <td>Understand</td>\n",
              "      <td>0</td>\n",
              "      <td>0</td>\n",
              "      <td>0</td>\n",
              "      <td>0</td>\n",
              "      <td>0</td>\n",
              "      <td>1</td>\n",
              "    </tr>\n",
              "  </tbody>\n",
              "</table>\n",
              "</div>"
            ],
            "text/plain": [
              "   Number  ... Understand\n",
              "0       1  ...          0\n",
              "1       2  ...          0\n",
              "2       3  ...          0\n",
              "3       4  ...          0\n",
              "4       5  ...          1\n",
              "\n",
              "[5 rows x 9 columns]"
            ]
          },
          "metadata": {
            "tags": []
          },
          "execution_count": 307
        }
      ]
    },
    {
      "cell_type": "code",
      "metadata": {
        "colab": {
          "base_uri": "https://localhost:8080/"
        },
        "id": "fd0h-2KRh-Dp",
        "outputId": "43d6e085-86db-4be4-d1c3-e6a078502a5a"
      },
      "source": [
        "bertLayer=hub.KerasLayer(\"https://tfhub.dev/tensorflow/bert_multi_cased_L-12_H-768_A-12/1\",trainable=True)\n",
        "bertLayer"
      ],
      "execution_count": null,
      "outputs": [
        {
          "output_type": "execute_result",
          "data": {
            "text/plain": [
              "<tensorflow_hub.keras_layer.KerasLayer at 0x7fd69447f750>"
            ]
          },
          "metadata": {
            "tags": []
          },
          "execution_count": 308
        }
      ]
    },
    {
      "cell_type": "code",
      "metadata": {
        "id": "Oi1XZuUYi878"
      },
      "source": [
        "vocabFile=bertLayer.resolved_object.vocab_file.asset_path.numpy();\n",
        "doLowerCase=bertLayer.resolved_object.do_lower_case.numpy();\n",
        "tokenizer=tokenization.FullTokenizer(vocab_file=vocabFile,do_lower_case=doLowerCase);"
      ],
      "execution_count": null,
      "outputs": []
    },
    {
      "cell_type": "code",
      "metadata": {
        "colab": {
          "base_uri": "https://localhost:8080/"
        },
        "id": "Ogqv_9N0jney",
        "outputId": "a0ae3ac0-6818-458e-c4f1-1190c0c3c7ff"
      },
      "source": [
        "doLowerCase"
      ],
      "execution_count": null,
      "outputs": [
        {
          "output_type": "execute_result",
          "data": {
            "text/plain": [
              "False"
            ]
          },
          "metadata": {
            "tags": []
          },
          "execution_count": 310
        }
      ]
    },
    {
      "cell_type": "code",
      "metadata": {
        "colab": {
          "base_uri": "https://localhost:8080/"
        },
        "id": "j-8Y_mrXjwfX",
        "outputId": "9a87a483-991d-4275-ffd0-d7ab18530c0a"
      },
      "source": [
        "tokenizer.convert_tokens_to_ids(['[CLS]','[SEP]'])"
      ],
      "execution_count": null,
      "outputs": [
        {
          "output_type": "execute_result",
          "data": {
            "text/plain": [
              "[101, 102]"
            ]
          },
          "metadata": {
            "tags": []
          },
          "execution_count": 311
        }
      ]
    },
    {
      "cell_type": "code",
      "metadata": {
        "id": "1igyk-66kNMH"
      },
      "source": [
        "def encodeName(n):\n",
        "  tokens=list(tokenizer.tokenize(n));\n",
        "  tokens.append('[SEP]');\n",
        "  return tokenizer.convert_tokens_to_ids(tokens);\n",
        "\n",
        "questions=tf.ragged.constant([encodeName(n) for n in trainDf['Question']])"
      ],
      "execution_count": null,
      "outputs": []
    },
    {
      "cell_type": "code",
      "metadata": {
        "colab": {
          "base_uri": "https://localhost:8080/"
        },
        "id": "U9_cJpi2k1uo",
        "outputId": "00af0738-3324-4601-ef0b-97246827c7f4"
      },
      "source": [
        "questions"
      ],
      "execution_count": null,
      "outputs": [
        {
          "output_type": "execute_result",
          "data": {
            "text/plain": [
              "<tf.RaggedTensor [[12489, 12172, 10105, 14368, 30027, 136, 102], [14516, 19992, 10105, 14368, 136, 102], [12242, 10134, 10105, 34497, 20006, 136, 102], [12489, 15284, 31377, 10105, 22718, 10108, 10105, 34497, 136, 102], [10167, 20442, 12542, 21296, 39224, 16942, 10230, 118, 10106, 118, 11192, 119, 102], [12271, 100620, 19181, 31237, 18757, 42074, 12229, 14854, 10114, 12962, 10106, 10455, 12542, 14154, 119, 102], [13810, 99590, 11044, 14796, 169, 11284, 77229, 11942, 67701, 13065, 10894, 11424, 10106, 10531, 13474, 119, 102], [14962, 20970, 11354, 16357, 14154, 10590, 51371, 10106, 10105, 13648, 10107, 136, 102], [23525, 40843, 20970, 10531, 48515, 136, 102], [27746, 88975, 14796, 10464, 20970, 11760, 102], [12489, 19513, 10105, 16942, 10230, 13736, 10406, 31444, 10114, 100062, 10531, 13170, 136, 102], [24781, 20970, 41512, 10425, 11249, 62729, 10105, 11760, 10108, 76917, 10336, 11354, 16357, 136, 102], [14962, 12174, 10105, 10106, 25907, 24407, 10347, 13486, 76585, 10114, 13145, 10106, 118, 11816, 11131, 136, 102], [12489, 10301, 10105, 12452, 17464, 10114, 11948, 14039, 100, 187, 17644, 136, 102], [14962, 10301, 11762, 19316, 22021, 50619, 11912, 136, 102], [160, 39187, 10237, 22414, 117, 48244, 117, 10345, 28502, 10124, 18322, 136, 102], [14820, 13028, 103730, 107114, 10112, 10531, 14932, 10106, 18873, 10108, 100, 136, 102], [160, 39187, 10237, 23068, 10894, 13028, 48089, 136, 24781, 136, 102], [10167, 10105, 11168, 10108, 22899, 14729, 117, 10319, 10464, 10108, 10105, 11901, 35431, 10107, 34797, 10105, 13719, 100, 45844, 19980, 100, 136, 102], [160, 39187, 10237, 10464, 10108, 10105, 11901, 34797, 12976, 19135, 11192, 10106, 10105, 10380, 118, 11552, 23837, 59742, 52188, 32071, 52980, 15365, 10108, 10105, 46966, 15138, 117, 10146, 26850, 10114, 10105, 28502, 10108, 169, 15018, 18077, 136, 102], [160, 39187, 10237, 10464, 10108, 10105, 11901, 25296, 16768, 15107, 169, 12874, 118, 91695, 10129, 20827, 11760, 10106, 10226, 28929, 136, 102], [37182, 11131, 42920, 11222, 10105, 10220, 28176, 17544, 117, 10111, 19068, 10319, 10108, 10105, 53121, 138, 118, 141, 10124, 49148, 119, 102], [31617, 10105, 49219, 10106, 10271, 13133, 13331, 18071, 10114, 10105, 67136, 13507, 17544, 131, 102], [12489, 44936, 10662, 10105, 35921, 10123, 11098, 28516, 136, 102], [14962, 11299, 51863, 15107, 169, 171, 87015, 29034, 10284, 10529, 136, 102], [14516, 10134, 10271, 10189, 38253, 10105, 28248, 54170, 10115, 95113, 21333, 15774, 68525, 136, 102], [14820, 13028, 11324, 10105, 16316, 10108, 11098, 136, 102], [13810, 99590, 11044, 12976, 44936, 10160, 10105, 14810, 10108, 18661, 60287, 10123, 102], [14516, 50005, 10114, 10105, 12811, 10939, 10105, 29811, 136, 102], [50738, 10105, 21157, 10108, 10326, 10246, 94618, 13499, 102], [12489, 10124, 10105, 12185, 10108, 49056, 102121, 10161, 13642, 136, 102], [160, 39187, 10237, 10124, 22024, 10345, 37155, 136, 102], [26742, 169, 13416, 10108, 10105, 12126, 15284, 119, 102], [26742, 169, 10635, 12953, 10108, 15284, 119, 102], [160, 39077, 169, 13416, 10108, 11178, 29063, 10108, 12929, 13028, 10944, 93161, 102], [14820, 13028, 28685, 10106, 20442, 12542, 21296, 10105, 15138, 10108, 103730, 25130, 10822, 10111, 28866, 19999, 10822, 136, 102], [14820, 13028, 28685, 169, 29040, 10950, 12953, 10108, 57306, 43765, 19367, 10230, 136, 102], [12489, 10149, 13028, 27874, 12174, 10108, 44936, 13451, 10114, 14810, 10108, 65689, 56546, 136, 102], [12489, 10134, 10105, 12126, 14932, 10108, 16812, 136, 102], [14516, 10134, 10105, 18444, 15092, 10106, 10105, 96787, 10108, 11098, 136, 102], [14820, 13028, 16871, 10151, 14351, 10108, 12976, 13028, 36110, 10155, 29677, 35723, 136, 102], [14820, 13028, 16871, 169, 35431, 10142, 169, 21432, 136, 102], [11791, 13028, 21852, 12864, 34469, 10940, 10531, 20970, 10347, 44622, 136, 102], [59865, 10531, 10529, 44936, 10106, 10105, 50690, 10330, 46213, 38587, 136, 102], [14820, 13028, 48515, 10105, 22414, 11031, 10114, 11152, 20627, 10108, 20442, 12542, 102], [12489, 26686, 10894, 13028, 63001, 10108, 10105, 48300, 10108, 77085, 59404, 38322, 136, 102], [12222, 10105, 12929, 13507, 117, 10944, 13028, 26800, 169, 11847, 10108, 68026, 10978, 13935, 10451, 38245, 169, 33955, 10165, 136, 102], [100393, 10531, 12929, 10347, 48765, 12277, 13028, 10374, 169, 10105, 73564, 27481, 136, 102], [160, 39187, 10237, 15284, 12174, 10529, 44936, 12277, 38571, 10342, 10159, 10686, 10500, 85172, 10894, 10529, 11367, 10105, 18758, 136, 102], [14535, 10105, 11193, 26699, 10134, 10472, 36197, 117, 12976, 20970, 10105, 29077, 10529, 10590, 136, 102], [14962, 10134, 10531, 13213, 10114, 45003, 106807, 10107, 10542, 91253, 136, 102], [12489, 10134, 10105, 93680, 26648, 10108, 10315, 11277, 10335, 136, 102], [12489, 10149, 13028, 12888, 10146, 10684, 14128, 18213, 10108, 14784, 68938, 10901, 136, 102], [14820, 13028, 98291, 10948, 50690, 10330, 10111, 53453, 29596, 10679, 13642, 17941, 136, 102], [12489, 10134, 10105, 48448, 12331, 10106, 10105, 31125, 10315, 11544, 10158, 136, 102], [14820, 13028, 52860, 20442, 17466, 10188, 10105, 66558, 79378, 10147, 10169, 10189, 20027, 10106, 10105, 12748, 136, 102], [24781, 10472, 47241, 169, 12011, 10978, 10212, 46041, 10376, 136, 102], [14820, 13028, 12888, 169, 14128, 28502, 10114, 18331, 50089, 10230, 136, 102], [14820, 13028, 13684, 10151, 81506, 30698, 25920, 10114, 26155, 136, 102], [14535, 13028, 10374, 18314, 10114, 10435, 25744, 14796, 10894, 13028, 19918, 10169, 13559, 12606, 10921, 10410, 10106, 27986, 23292, 27736, 136, 102], [24781, 16938, 112, 188, 13028, 10104, 36540, 20442, 12542, 13170, 10114, 19918, 10169, 83540, 112, 187, 36627, 136, 102], [14820, 13028, 18842, 10751, 10111, 46941, 19873, 10142, 12898, 10105, 73564, 27840, 136, 102], [14820, 13028, 28685, 169, 10751, 11639, 10598, 11355, 10142, 169, 30853, 11195, 27920, 10237, 136, 102], [14820, 13028, 26800, 169, 43542, 10319, 10894, 20780, 50410, 136, 102], [73503, 10341, 169, 13170, 10114, 72551, 155, 11403, 12286, 10134, 42767, 136, 102], [140, 104379, 169, 10751, 21535, 119, 36472, 10271, 169, 11324, 10111, 13065, 169, 29465, 17323, 102], [10167, 22657, 169, 21432, 10114, 106392, 12286, 13382, 98535, 10345, 11178, 10684, 63256, 26127, 13096, 40970, 102], [16680, 50864, 169, 51720, 10345, 14499, 10751, 21296, 10114, 169, 11053, 10911, 51861, 10157, 119, 102], [16260, 12976, 66410, 10108, 10105, 11077, 10108, 10105, 10808, 10124, 14625, 10135, 83951, 136, 102], [93495, 74755, 69253, 16982, 10105, 34467, 10406, 16216, 37944, 10135, 10105, 68120, 17544, 102], [77955, 11088, 59550, 17644, 119, 102], [77955, 11088, 11598, 19164, 10108, 59963, 35717, 119, 102], [77955, 11088, 13697, 103441, 12536, 10147, 119, 102], [77955, 11088, 41878, 19423, 117, 71027, 88975, 10111, 13987, 79383, 119, 102], [77955, 11088, 10105, 21157, 10108, 10105, 17952, 97736, 10340, 119, 102], [11612, 26426, 10111, 16982, 169, 68120, 10108, 169, 36772, 41878, 119, 102], [11612, 26426, 10105, 25090, 10950, 12953, 10108, 169, 15975, 10108, 19899, 13382, 10105, 32548, 63072, 136, 102], [11612, 26426, 10105, 27242, 68120, 10108, 10105, 12397, 42375, 16511, 102], [11612, 26426, 10105, 30676, 21746, 10108, 10105, 153, 78043, 11787, 102], [14962, 11299, 68026, 10106, 10105, 44835, 11847, 10108, 56658, 36175, 18765, 136, 102], [14962, 11299, 15077, 10188, 20442, 11816, 10114, 10105, 19756, 102], [14962, 11299, 33161, 33311, 14579, 10106, 171, 116, 116, 136, 102], [14962, 11299, 16316, 10301, 11155, 10106, 11061, 102], [14962, 11299, 10855, 15107, 10531, 18882, 12962, 136, 102], [14962, 13172, 11165, 10944, 10347, 70809, 10106, 10105, 11135, 10269, 25296, 102], [14962, 13172, 12172, 10261, 16868, 10142, 10226, 13000, 102], [14962, 13172, 10124, 20442, 25512, 102], [14962, 13172, 10635, 12172, 10261, 12149, 10114, 23332, 169, 13215, 102], [14962, 13172, 12286, 15107, 10151, 12637, 37590, 10368, 69423, 102], [146, 21029, 48281, 169, 47320, 10146, 169, 35632, 102], [146, 21029, 48281, 169, 18381, 113, 10212, 50164, 44695, 117, 42852, 64040, 117, 12375, 113, 102], [146, 21029, 48281, 107433, 10107, 10188, 169, 24109, 21038, 15619, 43847, 102], [146, 21029, 48281, 39381, 37476, 23188, 102], [146, 21029, 48281, 10105, 49148, 35431, 10108, 10427, 54795, 10107, 119, 102], [146, 21029, 48281, 10105, 12403, 11922, 30045, 13358, 10107, 10108, 10105, 13773, 27591, 119, 102], [146, 21029, 48281, 10105, 10668, 10108, 169, 14444, 15190, 103036, 11130, 20748, 119, 102], [146, 21029, 48281, 10105, 14979, 10178, 17437, 73995, 10161, 34378, 10108, 169, 18765, 119, 102], [146, 21029, 48281, 10319, 12307, 26462, 10169, 10105, 11561, 19302, 10146, 10105, 187, 10106, 42230, 113, 48472, 10108, 19310, 187, 114, 102], [10167, 10319, 39262, 15107, 10105, 11388, 10108, 75607, 23920, 18042, 102], [10167, 10319, 15911, 10124, 45131, 11130, 13702, 41384, 102], [10167, 160, 39187, 10237, 10668, 10108, 10105, 11356, 15107, 10261, 12962, 102], [37805, 11178, 17952, 89476, 72894, 49651, 10251, 10169, 13684, 15374, 119, 102], [37805, 10105, 15569, 10108, 10105, 11901, 34122, 131, 68236, 57654, 12713, 102], [37805, 10105, 15569, 10108, 10105, 54396, 42562, 19989, 10135, 10105, 13448, 102], [12339, 11598, 19164, 10108, 104911, 10107, 24909, 10106, 10105, 13262, 102], [12339, 95094, 21296, 10106, 140, 27917, 119, 102], [12339, 10105, 40582, 98018, 10114, 10105, 34387, 24345, 10123, 17123, 119, 102], [12339, 10105, 21559, 10106, 55380, 112, 187, 88106, 119, 102], [12339, 10105, 48244, 10114, 25974, 169, 23742, 23078, 10345, 18402, 112, 68120, 102], [12339, 10105, 50879, 16247, 10106, 14382, 54525, 119, 102], [12339, 11003, 40582, 10189, 10301, 18223, 10114, 10105, 34387, 24345, 10123, 17123, 119, 102], [12339, 11003, 18283, 103637, 10368, 13925, 16768, 10189, 32120, 102], [31558, 10160, 10105, 29725, 119, 12489, 10124, 10105, 29725, 100, 187, 24564, 10135, 169, 14876, 136, 102], [26742, 169, 13416, 10108, 73367, 13028, 39496, 10188, 10105, 13617, 119, 102], [15729, 126, 50879, 10189, 28086, 10105, 18084, 10108, 19899, 113, 12381, 10233, 19573, 10345, 15306, 114, 136, 102], [15729, 10105, 16410, 10479, 37992, 10105, 47894, 19589, 119, 102], [15729, 10105, 18301, 15647, 10111, 10160, 16298, 10551, 34109, 10108, 18301, 10106, 11948, 11795, 119, 102], [15729, 10105, 11598, 11922, 18301, 15647, 119, 102], [15729, 10105, 12126, 19174, 10106, 10105, 13617, 119, 102], [15729, 10105, 18381, 10189, 16316, 10189, 102], [47464, 16982, 10105, 68120, 17544, 131, 102], [97200, 18995, 25090, 82116, 73367, 102], [97200, 18995, 32602, 10108, 169, 19871, 15284, 102], [97200, 18995, 10105, 35431, 10108, 10105, 29659, 11165, 54960, 10188, 20442, 90523, 123, 119, 102], [97200, 18995, 10105, 62256, 10142, 10105, 80433, 10161, 34874, 13216, 119, 102], [97200, 18995, 10105, 11901, 24109, 21038, 10415, 14351, 10108, 10151, 53187, 10108, 11152, 68592, 18356, 102], [97200, 18995, 10105, 28914, 77726, 10173, 19975, 71772, 102], [97200, 12704, 169, 14368, 10108, 55031, 10106, 11767, 119, 102], [97200, 12704, 10105, 38869, 107, 23265, 160, 80442, 107, 119, 102], [97200, 12704, 10105, 45985, 10108, 10105, 12159, 36682, 13968, 119, 102], [97200, 12704, 10105, 10105, 96830, 11630, 13255, 102], [11104, 11598, 10788, 47116, 50808, 10108, 11206, 26500, 10336, 16042, 119, 102], [11104, 14796, 10114, 17860, 169, 12307, 10106, 169, 41399, 102], [11104, 10105, 40582, 10108, 11948, 12807, 10108, 29162, 12333, 11046, 38306, 19549, 102], [11104, 10105, 35431, 10108, 19800, 10106, 55380, 112, 187, 88106, 119, 102], [11104, 10105, 29659, 10142, 10105, 11168, 10108, 169, 54309, 102], [11104, 10105, 25083, 31782, 10114, 13684, 10151, 12797, 55170, 20344, 11787, 102], [11104, 10105, 36265, 10142, 47620, 10230, 10635, 10106, 11894, 119, 102], [11104, 10105, 21983, 10142, 88301, 10111, 86206, 10106, 22450, 119, 102], [11104, 10105, 21983, 10142, 13382, 169, 15900, 28266, 10115, 10106, 169, 49219, 119, 102], [12489, 10301, 11922, 73367, 10978, 15018, 36782, 10111, 75875, 102], [12489, 10301, 10105, 11922, 20895, 10111, 59220, 10107, 10108, 15911, 102], [12489, 10301, 10105, 43847, 10415, 81467, 10135, 19350, 10111, 32171, 102], [12489, 10301, 10105, 13926, 10345, 28277, 10108, 15984, 102], [12489, 10301, 10105, 17163, 10108, 29162, 12333, 11046, 66558, 10308, 19466, 38200, 136, 20304, 23953, 11762, 10114, 26747, 101615, 112, 187, 13255, 102], [12489, 15107, 11649, 11090, 34268, 10142, 119, 102], [12489, 10124, 20442, 11365, 11324, 102], [12489, 10124, 169, 18331, 25844, 136, 102], [12489, 10124, 169, 15541, 17907, 19776, 102], [12489, 10124, 10105, 29421, 10108, 11469, 30943, 169, 34987, 72453, 37398, 136, 102], [12489, 10124, 10105, 12887, 10108, 10105, 10422, 18379, 13028, 17112, 102], [12489, 11226, 10301, 11951, 10106, 13448, 11858, 136, 102], [12242, 12172, 11731, 13852, 55645, 10280, 15148, 13382, 18938, 102], [12242, 12172, 10105, 10422, 11731, 10703, 12429, 11825, 14087, 102], [12242, 12172, 10105, 11132, 11356, 10338, 84630, 102], [12242, 12172, 13028, 11175, 136, 102], [12242, 10134, 10105, 10422, 28460, 10106, 10105, 11023, 11418, 12177, 51777, 102], [12242, 10134, 10105, 26578, 14629, 102], [160, 39187, 10237, 10108, 10105, 11901, 10124, 10105, 22414, 10142, 10349, 91724, 23025, 10105, 15901, 10108, 169, 56473, 136, 102], [160, 39187, 10237, 10108, 10105, 11901, 48438, 15107, 10472, 73746, 10114, 10105, 11847, 136, 102], [160, 39187, 10237, 10108, 10105, 10551, 58538, 10107, 10124, 15165, 37604, 56177, 102], [160, 39187, 10237, 10668, 10108, 169, 11165, 78978, 10308, 10124, 11031, 10155, 169, 13933, 10129, 10114, 37284, 10105, 46144, 17175, 102], [160, 39187, 10237, 19765, 10124, 11031, 10155, 43136, 31210, 10165, 102], [14516, 10124, 10105, 10422, 12931, 10108, 11061, 102], [14516, 10124, 10105, 22826, 10108, 10105, 12293, 10108, 11731, 10703, 10738, 55645, 10280, 102], [14516, 10134, 10105, 10422, 10817, 10135, 10105, 60109, 102], [14516, 10134, 10105, 10422, 10114, 47241, 10106, 10105, 17045, 10108, 30031, 17480, 102], [14516, 10134, 10105, 17556, 10108, 10105, 15846, 102], [16680, 28927, 23553, 10638, 11355, 10169, 14962, 10400, 119, 45414, 10105, 12307, 19423, 119, 102], [16680, 28927, 19871, 15284, 10114, 25396, 52844, 102], [19312, 10151, 58577, 10157, 113, 58577, 10157, 72068, 10301, 10106, 52790, 72068, 114, 102], [13810, 99590, 11044, 125, 19164, 10108, 26854, 11945, 10106, 16042, 13684, 119, 102], [13810, 99590, 11044, 14796, 44368, 10111, 32425, 37035, 10135, 10105, 26037, 10157, 119, 102], [13810, 99590, 11044, 10106, 84145, 12976, 10124, 19989, 10106, 81590, 12188, 119, 102], [13810, 99590, 11044, 10106, 20442, 12542, 21296, 14796, 10114, 27728, 21454, 169, 12748, 10188, 10105, 23187, 119, 102], [13810, 99590, 11044, 10106, 20442, 12542, 21296, 14796, 10114, 39740, 15541, 10188, 10464, 12483, 10708, 12864, 119, 102], [13810, 99590, 11044, 10106, 20442, 12542, 21296, 12976, 105315, 10841, 169, 41878, 112, 187, 84204, 41573, 10107, 119, 102], [13810, 99590, 11044, 10106, 20442, 12542, 21296, 12976, 10124, 31580, 10155, 169, 32650, 32782, 10336, 10151, 24006, 119, 102], [13810, 99590, 11044, 20761, 16024, 10114, 169, 47413, 15042, 119, 102], [13810, 99590, 11044, 10105, 17434, 23178, 86525, 10598, 22238, 10106, 55952, 16042, 21905, 13935, 41078, 119, 102], [13810, 99590, 11044, 12976, 25441, 10106, 11948, 10108, 10105, 11598, 14544, 10135, 10105, 10422, 15975, 10108, 19899, 102], [13810, 99590, 11044, 12976, 12149, 11192, 10146, 10105, 48024, 10133, 10134, 10795, 15629, 119, 102], [13810, 99590, 11044, 14796, 10105, 38765, 45844, 19980, 22414, 10944, 95757, 29162, 12333, 11046, 38200, 102], [13810, 99590, 11044, 10105, 11922, 43463, 39336, 10948, 23447, 28568, 10161, 10111, 10181, 69252, 38576, 102], [39008, 10454, 30458, 10105, 17034, 112, 187, 23068, 10114, 10105, 11614, 62229, 63453, 10171, 10108, 10105, 41525, 60493, 33311, 102], [13810, 99590, 11044, 12976, 44936, 10160, 119, 119, 119, 136, 102], [10666, 91724, 11088, 10105, 17034, 100, 187, 12331, 10108, 17904, 102], [10666, 91724, 11088, 10105, 13451, 11487, 10106, 169, 30265, 102], [51462, 66148, 10105, 16613, 10108, 65978, 19534, 119, 102], [27746, 88975, 14796, 32425, 59185, 44368, 112, 187, 12103, 119, 102], [27746, 88975, 10106, 10464, 112, 187, 12542, 21296, 14796, 10114, 18842, 169, 59599, 10157, 10106, 169, 11254, 119, 102], [27746, 88975, 10106, 20442, 12542, 21296, 12976, 169, 11639, 14585, 37413, 24910, 10124, 119, 102], [27746, 88975, 10106, 20442, 12542, 21296, 12976, 10149, 13028, 36110, 10155, 10105, 13719, 55181, 136, 102], [27746, 88975, 10106, 20442, 12542, 21296, 12976, 10124, 31580, 10155, 13697, 103441, 12536, 10147, 119, 102], [27746, 88975, 10105, 25781, 10108, 19871, 15284, 102], [27746, 88975, 10105, 47605, 11043, 14079, 18381, 119, 102], [27746, 88975, 10105, 15790, 21157, 10105, 17034, 10788, 47116, 50808, 10114, 10105, 13719, 107, 47525, 14204, 43058, 107, 102], [27746, 88975, 10105, 14128, 19873, 13010, 10106, 13596, 10142, 10105, 16199, 10114, 10105, 12153, 10108, 10105, 32671, 12117, 119, 102], [27746, 88975, 10105, 15138, 113, 10220, 28088, 70281, 114, 10142, 43977, 10105, 10178, 71200, 10165, 10108, 169, 41488, 35651, 102], [27746, 88975, 12976, 169, 38869, 17574, 119, 102], [27746, 88975, 12976, 10105, 17034, 17574, 10155, 10105, 33311, 107, 17446, 62941, 32043, 10301, 62559, 10336, 10114, 22013, 85298, 19824, 119, 102], [17235, 20442, 32282, 10108, 112, 100741, 10106, 15062, 112, 11222, 32116, 119, 102], [12222, 169, 23254, 53233, 10114, 30458, 10105, 13262, 63725, 119, 102], [90491, 169, 81590, 10108, 12116, 109086, 10106, 35599, 10107, 117, 30458, 12976, 10105, 81590, 36648, 10106, 169, 10911, 11033, 10114, 20442, 48246, 119, 102], [90491, 11762, 12403, 29162, 12333, 11046, 10106, 76560, 69273, 117, 159, 117, 160, 117, 161, 117, 162, 117, 163, 117, 51361, 10319, 10301, 23392, 34620, 16379, 102], [101288, 19265, 19779, 10531, 13337, 10822, 131, 107, 17952, 10146, 169, 13341, 51566, 10106, 10105, 12145, 11256, 107, 102], [101288, 19265, 19779, 12976, 13028, 27874, 10105, 12126, 14932, 10134, 119, 102], [10167, 10464, 49219, 67004, 10105, 12126, 14932, 10108, 169, 13398, 22718, 119, 102], [10167, 10464, 49219, 32941, 19265, 19779, 10105, 12126, 12331, 10108, 169, 13398, 22718, 119, 102], [24362, 97423, 10105, 54156, 119, 102], [14504, 12953, 10106, 20442, 12542, 21296, 14796, 10105, 10281, 99269, 112, 187, 78079, 10340, 35148, 10112, 10840, 30013, 13041, 10426, 36300, 10107, 10455, 21535, 119, 102], [14504, 12953, 10105, 10992, 12452, 15498, 27521, 10108, 10105, 17307, 119, 102], [14504, 12953, 10105, 80007, 29682, 10155, 63318, 28357, 11345, 10114, 103730, 10253, 99142, 22163, 11710, 13275, 33733, 119, 102], [14504, 12953, 10151, 107, 16342, 13065, 107, 10189, 11337, 21992, 13028, 10114, 15839, 20442, 79357, 13382, 10212, 99848, 10415, 30166, 77239, 10376, 40962, 102], [13497, 28088, 70281, 10151, 12452, 29811, 102], [13497, 28088, 70281, 12976, 48334, 10124, 22807, 10106, 10226, 36766, 10715, 53559, 10157, 119, 102], [13497, 28088, 70281, 10105, 38869, 10106, 20442, 12542, 21296, 102], [13497, 28088, 70281, 10531, 38869, 10978, 11149, 10896, 55260, 13723, 48850, 117, 67004, 10230, 12976, 10261, 10134, 22807, 10978, 10105, 40582, 10108, 169, 20104, 102], [13810, 99590, 11044, 10105, 37131, 10108, 10531, 12483, 39144, 131, 102], [19220, 48281, 19164, 10108, 29162, 12333, 11046, 10106, 76560, 69273, 102], [10894, 13028, 13596, 48281, 10105, 11134, 10165, 14283, 10253, 10106, 10531, 24897, 10146, 169, 11366, 77726, 11639, 56901, 11813, 10345, 169, 73495, 10368, 77726, 11639, 56901, 11813, 102], [19220, 48281, 10105, 11901, 69937, 10107, 131, 24124, 117, 55222, 117, 69337, 18071, 10114, 10105, 15859, 18398, 11281, 15075, 102], [19220, 48281, 10105, 11901, 97855, 10146, 88635, 117, 39205, 117, 19527, 117, 39520, 103989, 117, 59550, 102], [14962, 10894, 13028, 13596, 48281, 10105, 102444, 18214, 10108, 20442, 11393, 102], [19220, 48281, 22528, 10708, 10551, 15647, 119, 102], [19220, 48281, 69173, 10107, 10708, 11365, 10111, 13354, 43398, 119, 102], [19220, 48281, 12127, 73257, 64782, 13268, 10111, 10684, 10392, 59417, 42041, 10107, 119, 102], [44971, 12436, 12126, 14932, 10108, 13617, 10106, 12542, 21296, 119, 102], [44971, 12436, 10105, 17952, 69613, 10106, 20442, 12542, 21296, 119, 102], [20304, 85534, 10105, 13617, 10106, 20442, 21296, 119, 102], [20304, 21428, 12704, 10105, 45985, 10108, 15839, 17637, 119, 102], [20304, 21428, 12704, 13028, 98075, 62256, 10142, 10105, 29580, 16091, 13255, 102], [20304, 21428, 12704, 10105, 29221, 11024, 50616, 10114, 23200, 10142, 10531, 38523, 27521, 15453, 119, 102], [20304, 21428, 12704, 10105, 49219, 10106, 20442, 13578, 117, 11901, 10105, 15599, 13507, 17544, 102], [20304, 21428, 12704, 169, 10668, 10106, 10105, 38869, 13382, 169, 12902, 57738, 102], [80859, 10105, 12504, 12887, 10142, 169, 22718, 102], [11104, 10106, 20442, 12542, 21296, 10105, 21983, 10142, 88301, 10111, 86206, 10106, 22450, 119, 102], [11104, 10106, 20442, 12542, 21296, 10940, 10106, 10105, 23187, 10114, 17860, 16741, 17850, 10108, 78273, 10189, 10301, 10192, 20165, 10106, 10105, 28179, 11859, 18676, 119, 102], [14820, 13028, 11388, 10106, 20442, 12542, 21296, 12976, 10105, 18077, 10124, 72082, 13028, 10114, 10149, 102], [11104, 10106, 20442, 12542, 21296, 12976, 10105, 17034, 17574, 10841, 10261, 22153, 102], [12271, 100620, 19181, 169, 19871, 25166, 102], [12271, 100620, 19181, 169, 13617, 10106, 12542, 21296, 119, 102], [12271, 100620, 19181, 13796, 10147, 100, 187, 75528, 10978, 102498, 71204, 12105, 102], [12271, 100620, 19181, 10105, 25090, 11769, 17137, 10108, 28552, 99675, 36378, 119, 102], [12271, 100620, 19181, 10105, 25090, 11769, 17137, 10108, 10104, 69013, 45388, 17530, 13397, 119, 102], [12271, 100620, 19181, 10531, 15438, 13262, 119, 102], [29091, 14796, 44368, 26546, 14764, 57057, 10662, 32425, 12482, 119, 102], [29091, 10106, 20442, 12542, 21296, 14796, 10105, 29421, 10108, 10105, 13617, 11019, 10271, 10798, 64888, 119, 102], [29091, 10106, 20442, 12542, 21296, 10105, 17967, 10108, 10105, 12748, 119, 102], [10167, 20442, 12542, 21296, 117, 41549, 12976, 10124, 31580, 10155, 10105, 35431, 10108, 10151, 93455, 24176, 11268, 65788, 119, 102], [10167, 20442, 12542, 21296, 117, 14796, 10894, 13028, 39224, 21110, 13096, 34302, 102], [29608, 23953, 169, 13398, 15541, 10164, 50555, 10188, 97645, 10114, 11616, 119, 102], [29608, 23953, 10151, 62256, 10708, 169, 18765, 25609, 70098, 10308, 119, 102], [29608, 23953, 10151, 62256, 10708, 169, 25609, 70098, 10308, 29659, 119, 102], [29608, 23953, 10105, 11901, 22718, 10188, 10117, 10282, 23243, 10708, 11616, 119, 102], [45414, 10105, 142, 118, 30211, 10345, 14180, 47727, 10686, 68120, 10108, 140, 10129, 10114, 37284, 10105, 12608, 14978, 10111, 23078, 10142, 10105, 12797, 55170, 20344, 10108, 169, 156, 49469, 77802, 16527, 10245, 14985, 28605, 47023, 119, 102], [16680, 28927, 10111, 34001, 10551, 21379, 10107, 10108, 16106, 68507, 12713, 10157, 10345, 22528, 10155, 101314, 42838, 100390, 10107, 117, 55258, 10455, 41831, 30798, 10107, 102], [39008, 10454, 52860, 10531, 13170, 10108, 38306, 10105, 20694, 10291, 29347, 20838, 10108, 10114, 10105, 10798, 15418, 13167, 13170, 13382, 52671, 11490, 58238, 117, 10146, 10106, 14021, 18007, 102], [14962, 10894, 13028, 52860, 61354, 10169, 10105, 33861, 34454, 73238, 10111, 22570, 49248, 10142, 10105, 73099, 14585, 16357, 10111, 19129, 10108, 12126, 110123, 10112, 11165, 102], [13810, 99590, 11044, 10111, 52860, 10105, 12971, 10108, 22150, 13255, 10106, 10105, 17139, 16768, 10108, 11517, 13322, 12682, 10280, 10111, 15437, 102], [17235, 10105, 21983, 10106, 19367, 100237, 102], [17235, 10105, 11901, 16768, 10106, 50616, 12188, 102], [17235, 10105, 11901, 46971, 10107, 10146, 107433, 10107, 10106, 29182, 10123, 12188, 102], [27746, 88975, 10105, 21047, 22414, 10108, 171, 60796, 10230, 102], [10167, 20442, 12542, 21296, 117, 14796, 10894, 13028, 28439, 65899, 10870, 10105, 13617, 10741, 102], [12271, 100620, 19181, 10105, 12126, 12331, 10108, 11762, 10551, 44707, 10106, 20442, 12542, 21296, 102], [14504, 12953, 10105, 56048, 10108, 10551, 16668, 12381, 10105, 102], [14504, 12953, 20442, 20627, 10106, 14616, 10169, 11989, 32095, 102], [73784, 10454, 28160, 10108, 36730, 10114, 103730, 107114, 10112, 10105, 11639, 13217, 20838, 10108, 169, 13398, 15839, 119, 102], [73784, 10454, 48201, 18974, 10376, 10114, 17368, 41098, 10106, 46908, 119, 102], [73784, 10454, 10105, 21983, 10108, 13255, 10114, 169, 10751, 18586, 102], [73784, 10454, 10105, 13617, 48027, 21701, 19353, 10114, 169, 16745, 13617, 10108, 20442, 12542, 119, 102], [73784, 10454, 20442, 37149, 10105, 17952, 41576, 10114, 26800, 169, 10751, 69613, 10345, 68732, 119, 102], [13450, 10105, 19211, 10108, 192, 10662, 18020, 10531, 12483, 39144, 102], [41280, 32107, 10216, 10142, 192, 10106, 10105, 11901, 62256, 131, 10186, 10686, 134, 11055, 102], [41280, 32107, 10216, 10105, 100745, 42507, 10822, 10108, 169, 67198, 10571, 51135, 108731, 119, 102], [41280, 32107, 10216, 10105, 11487, 10108, 109436, 52070, 38016, 10161, 12797, 10920, 10189, 10894, 10347, 17468, 10114, 12188, 169, 25923, 22277, 13499, 10104, 106185, 10135, 169, 28605, 24109, 10284, 15967, 16219, 10106, 14931, 21099, 119, 102], [41280, 32107, 10216, 10105, 18344, 10108, 24410, 39144, 11809, 12381, 10105, 17111, 19241, 27054, 10106, 10105, 12469, 35858, 119, 102], [14820, 13028, 48515, 10105, 22414, 11031, 10114, 11152, 20627, 10108, 20442, 12542, 119, 119, 119, 136, 102], [14820, 13028, 11795, 10155, 40582, 11049, 10146, 119, 119, 119, 136, 102], [25059, 12419, 49376, 10105, 54156, 10111, 42852, 11345, 10114, 10105, 26699, 28179, 119, 102], [50690, 14569, 169, 12723, 10189, 15107, 10472, 33400, 10160, 10105, 19185, 10111, 67004, 31237, 10189, 12723, 10124, 10472, 10151, 17952, 12008, 119, 102], [50690, 14569, 11178, 158, 119, 156, 119, 12931, 10111, 67004, 14796, 10261, 56120, 10162, 10226, 13183, 10146, 25783, 10106, 16730, 10108, 10105, 51383, 22319, 119, 102], [16680, 27876, 10112, 10105, 11168, 10108, 14012, 99818, 119, 102], [16680, 27876, 10112, 10105, 15901, 10108, 169, 56473, 102], [12845, 42461, 14526, 169, 13192, 10114, 98343, 14796, 10271, 11337, 11424, 119, 102], [70222, 79383, 14796, 10105, 21396, 32728, 119, 102], [70222, 79383, 14796, 10531, 12174, 11424, 10106, 10151, 17425, 29421, 136, 102], [70222, 79383, 13382, 10105, 55355, 30340, 10111, 20442, 22975, 10108, 23187, 17583, 10114, 17860, 169, 12748, 10978, 32461, 37627, 119, 102], [70222, 79383, 14796, 20442, 16511, 100, 187, 19182, 16470, 26901, 18213, 10301, 37947, 10114, 10105, 17032, 10108, 20138, 11517, 119, 102], [10445, 11942, 169, 37403, 16490, 10350, 13192, 10188, 34176, 11165, 119, 102], [13810, 99590, 11044, 10151, 48580, 10114, 57085, 10105, 20210, 10108, 10105, 21274, 10108, 25512, 10135, 10105, 18042, 10108, 10151, 29331, 119, 102], [12845, 42461, 14526, 169, 17313, 40919, 10142, 20442, 21535, 13382, 169, 11053, 40919, 10146, 169, 13192, 119, 102], [12845, 42461, 14526, 169, 16205, 16868, 51091, 12483, 10189, 10212, 27876, 10171, 11988, 16868, 10142, 12676, 14616, 10533, 19573, 10345, 15306, 10111, 11988, 16868, 10142, 12676, 14616, 10491, 10533, 19573, 119, 102], [11612, 26426, 124, 54156, 37501, 10105, 17967, 117, 20181, 10111, 29077, 10108, 10105, 13617, 119, 102], [11612, 26426, 169, 36761, 10108, 10105, 77911, 112, 13215, 119, 102], [11612, 26426, 169, 36761, 10108, 10105, 11783, 20395, 96258, 80602, 10114, 10105, 20724, 119, 102], [12222, 10105, 12929, 13507, 117, 10944, 13028, 26800, 169, 11847, 10108, 68026, 10978, 119, 119, 119, 136, 102], [14962, 12174, 30455, 92734, 24203, 10105, 32548, 63072, 10114, 13086, 10271, 26874, 10142, 14108, 10230, 169, 57680, 10142, 169, 17895, 136, 102], [14962, 20970, 87089, 10107, 10106, 10105, 10609, 10859, 10347, 40957, 12277, 169, 10798, 79456, 11130, 11787, 10309, 24726, 136, 102], [14535, 19899, 10301, 14579, 10135, 10105, 13853, 100, 187, 13575, 117, 14796, 14819, 12676, 19899, 10347, 11031, 136, 102], [10167, 169, 27291, 98925, 10169, 20442, 56921, 10107, 12971, 118, 14879, 24886, 21958, 13501, 117, 98343, 10105, 48300, 10108, 74720, 90202, 10106, 13596, 25525, 61236, 10111, 69977, 169, 13877, 15975, 26799, 10108, 12976, 44936, 10939, 10105, 98925, 10189, 106568, 11912, 10105, 48300, 119, 102], [26742, 169, 14283, 46582, 10114, 32941, 19265, 19779, 10151, 12452, 14416, 119, 102], [26742, 169, 17895, 118, 109664, 10112, 14876, 10114, 12363, 44622, 12929, 10978, 10151, 14416, 119, 102], [26742, 169, 187, 40333, 10410, 24777, 10978, 10105, 14544, 10108, 14687, 119, 102], [26742, 10741, 169, 34597, 75484, 11661, 13382, 10105, 23802, 10188, 10105, 14687, 11168, 119, 102], [14398, 10151, 17952, 15216, 10142, 10105, 10751, 75992, 23310, 119, 102], [19644, 10598, 86891, 10106, 169, 60914, 10174, 13685, 102], [90138, 106788, 12976, 105315, 10114, 161, 12277, 162, 53306, 119, 102], [35248, 57477, 13028, 10301, 10464, 10108, 10105, 19174, 10106, 10105, 12748, 119, 160, 39077, 169, 10671, 10908, 10978, 10105, 84630, 18800, 10106, 20442, 12103, 10142, 10551, 29864, 13990, 119, 102], [20304, 23953, 10105, 48300, 10108, 74720, 90202, 10114, 13596, 25525, 61236, 119, 102], [20304, 23953, 66575, 14876, 10114, 13939, 15374, 102], [20304, 23953, 20442, 10992, 29481, 13617, 10940, 20442, 11760, 10108, 19765, 10106, 10105, 13596, 25525, 10393, 95757, 10336, 169, 17912, 89097, 10169, 169, 16470, 10345, 13501, 102], [14962, 10894, 13028, 110205, 12956, 19228, 10169, 12956, 40919, 102], [13450, 117, 11222, 12971, 118, 12253, 117, 10105, 11070, 18167, 10106, 10105, 14671, 119, 102], [19655, 10612, 169, 82116, 18077, 13382, 29626, 48244, 10345, 29659, 102], [19655, 10612, 10142, 10105, 11769, 11901, 107433, 21247, 95647, 20390, 119, 47464, 13086, 62452, 10114, 11897, 10435, 20442, 11424, 119, 102], [100393, 13028, 100679, 11762, 10551, 20390, 13382, 13213, 63036, 102], [45414, 10159, 30236, 10114, 100679, 10105, 11901, 20390, 102], [14820, 13028, 100679, 10105, 11901, 18077, 102], [14962, 10114, 32650, 95076, 24203, 10105, 21316, 18603, 10111, 21316, 15839, 23509, 10108, 10105, 13540, 10106, 10105, 16277, 102], [46361, 95076, 24203, 10105, 59925, 14010, 10108, 169, 79332, 46178, 18309, 63646, 10230, 11610, 10135, 10160, 73205, 11165, 136, 113, 13277, 123, 114, 102], [46361, 95076, 24203, 10105, 59925, 14010, 10108, 169, 79332, 46178, 18309, 63646, 10230, 11610, 10135, 10160, 73205, 11165, 136, 113, 13277, 123, 114, 102], [14962, 15107, 10464, 32650, 95076, 24203, 10105, 14379, 10213, 100563, 67028, 102], [46361, 95076, 24203, 169, 10349, 91724, 26536, 13275, 80410, 18257, 17480, 10263, 113, 104143, 10738, 114, 11639, 10812, 27170, 19308, 10105, 102], [21200, 169, 14903, 10108, 54194, 10114, 98343, 169, 15018, 12331, 119, 102], [45414, 169, 109513, 10376, 13192, 10114, 10212, 27876, 10112, 57476, 10135, 36931, 10114, 70916, 13041, 100106, 10111, 25103, 19738, 34495, 119, 102], [45414, 169, 33595, 10114, 87838, 12436, 10151, 69312, 112, 187, 10321, 26287, 10635, 119, 102], [45414, 10105, 18527, 61330, 10111, 18849, 10108, 99435, 10114, 87838, 12436, 10105, 18849, 10108, 169, 15701, 37307, 13382, 169, 25609, 70098, 10308, 119, 102], [45414, 10105, 21983, 10142, 169, 15900, 28266, 10115, 10106, 169, 49219, 119, 102], [12489, 31075, 10894, 13028, 15453, 12277, 119, 119, 119, 136, 102], [12489, 26686, 10894, 13028, 63001, 12277, 119, 119, 119, 136, 102], [14516, 10944, 11760, 12976, 11951, 21852, 10978, 10312, 12978, 10107, 10111, 26282, 10531, 38869, 136, 102], [100393, 10531, 12929, 10347, 48765, 12277, 13028, 10374, 169, 119, 119, 119, 136, 102], [156, 13650, 10269, 169, 78089, 10108, 10105, 13939, 19515, 10142, 10105, 40258, 10108, 106095, 50173, 13420, 52743, 10115, 10106, 83757, 123, 102], [156, 13650, 10269, 10105, 15045, 38078, 67088, 10107, 10142, 56503, 10266, 107456, 10188, 10105, 13967, 10111, 10105, 11012, 102], [156, 13650, 10269, 169, 36772, 11357, 99457, 15138, 10106, 169, 78978, 10336, 41278, 10169, 74944, 51300, 10822, 10106, 12188, 10108, 102], [156, 13650, 10269, 169, 81590, 10108, 84204, 32412, 10635, 10142, 10105, 10741, 16988, 10111, 12935, 16988, 15569, 10108, 169, 20724, 100, 187, 23578, 102], [14962, 10149, 33003, 37247, 10107, 11760, 16964, 10106, 79515, 10107, 10111, 73312, 58945, 136, 102], [45414, 10105, 11132, 118, 24778, 14079, 15839, 10114, 37284, 21883, 24523, 12789, 10940, 174, 10929, 113, 192, 114, 134, 121, 13641, 24317, 25315, 92098, 10345, 25315, 66067, 102], [45414, 10105, 69191, 22060, 73418, 10114, 37284, 21883, 10105, 11901, 10551, 18873, 10301, 69191, 168, 16197, 119, 13450, 73842, 31877, 102], [45414, 38710, 27413, 10114, 35905, 10189, 10105, 11901, 38710, 10124, 64999, 119, 102], [45414, 169, 83413, 16683, 17860, 10105, 45809, 19211, 10108, 11948, 23515, 102], [45414, 96830, 100, 13216, 10114, 17860, 10105, 25031, 13939, 10948, 10105, 53778, 10841, 10105, 18163, 10135, 11345, 10124, 154, 102], [12489, 105315, 12277, 13028, 17333, 18570, 10123, 169, 37284, 54739, 15138, 10114, 169, 13987, 14488, 155, 156, 136, 102], [12489, 10894, 84630, 12277, 10105, 91549, 15790, 10162, 10106, 20442, 11388, 13451, 10924, 102], [12489, 105315, 12277, 13028, 15453, 10105, 15599, 10108, 10105, 27920, 62303, 113, 10473, 10472, 10474, 15851, 114, 136, 102], [12489, 10894, 13028, 10149, 12277, 169, 18296, 14609, 10108, 63318, 10374, 25738, 102], [12489, 10894, 14493, 12277, 100, 102], [12489, 23068, 10894, 13028, 11760, 10114, 35905, 10105, 47226, 10108, 10105, 17544, 33311, 102], [12845, 42461, 14526, 10464, 73162, 16840, 10142, 93709, 11948, 10108, 10105, 11901, 28277, 102], [12845, 42461, 14526, 169, 19561, 13538, 68120, 10114, 37284, 10105, 64999, 11949, 10108, 10105, 13507, 36847, 119, 102], [12845, 42461, 14526, 169, 41399, 10111, 169, 47226, 21783, 10114, 37284, 12277, 10105, 11901, 70808, 10301, 64988, 19777, 30647, 102], [14962, 10944, 11951, 80392, 145, 13507, 146, 117, 139, 10111, 142, 136, 102], [12845, 42461, 14526, 169, 11365, 10108, 44570, 10114, 98343, 10189, 10105, 11487, 10108, 12902, 13484, 29738, 10107, 10106, 169, 17175, 10944, 10347, 11419, 87107, 10415, 10106, 10105, 15851, 10108, 10105, 17175, 102], [14962, 10149, 13028, 80392, 174, 49057, 15024, 10135, 169, 13507, 52321, 38079, 150, 136, 102], [14962, 10114, 12845, 42461, 14526, 10105, 12160, 34762, 10161, 14883, 100081, 12150, 33918, 102], [14962, 10114, 80392, 16205, 44901, 10841, 20390, 10301, 17217, 136, 102], [12845, 42461, 14526, 10105, 125, 118, 55568, 155, 17437, 22238, 31626, 25474, 11304, 28418, 102], [12845, 42461, 14526, 10151, 58577, 24897, 10169, 10105, 11901, 19182, 24965, 102], [12845, 42461, 14526, 10105, 12159, 66339, 10108, 10105, 56658, 36175, 66805, 10667, 13507, 10106, 10105, 16741, 20210, 102], [14962, 10149, 11951, 80392, 32124, 10189, 10944, 80498, 119, 100, 15198, 100, 33514, 102], [14962, 10114, 80392, 10105, 19546, 12929, 11787, 102], [13450, 14796, 10689, 10529, 11031, 46966, 17637, 86985, 49781, 10114, 10105, 15620, 102], [13450, 14796, 10114, 92734, 24203, 36448, 38732, 112, 187, 73418, 13507, 10106, 13596, 18745, 10114, 72992, 10446, 118, 92530, 102], [13450, 14796, 142, 118, 44912, 11517, 10944, 10347, 11031, 10114, 33992, 29465, 12956, 10230, 10146, 44191, 10106, 10105, 13262, 102], [14962, 10894, 13028, 11897, 20442, 37149, 10108, 10105, 16052, 15138, 102], [13450, 10911, 14796, 13028, 10894, 43662, 10105, 40225, 10112, 71123, 10301, 14616, 10135, 10531, 13000, 102], [16377, 10454, 10870, 43966, 10111, 57195, 30686, 10108, 11762, 15374, 119, 102], [16377, 10454, 10870, 10105, 40582, 10108, 12127, 73257, 119, 102], [16377, 10454, 10870, 10105, 42641, 10111, 55434, 10108, 169, 12127, 12717, 119, 102], [16377, 10454, 10870, 10105, 18077, 117, 51361, 10230, 10474, 39523, 119, 102], [38130, 12935, 10105, 34378, 10108, 169, 14979, 10458, 26665, 10111, 67004, 14796, 10689, 51476, 14526, 10114, 13086, 10105, 21432, 11424, 119, 102], [38130, 12935, 10105, 12126, 22115, 10108, 10105, 13617, 119, 102], [12716, 10212, 101813, 10376, 10105, 14876, 10108, 10105, 10361, 31981, 20149, 53778, 10114, 10105, 63406, 14876, 117, 12976, 10106, 52790, 10107, 10944, 13028, 13086, 136, 102], [14820, 13028, 52860, 20442, 119, 119, 119, 10169, 10189, 20027, 10106, 119, 119, 119, 136, 102], [14820, 13028, 98291, 10948, 119, 119, 119, 136, 102], [14820, 13028, 67004, 12976, 14982, 10529, 44936, 10841, 119, 119, 119, 136, 102], [14820, 13028, 17860, 11598, 12902, 68478, 26907, 13258, 10113, 10374, 10939, 10105, 13617, 136, 102], [16680, 28927, 10111, 34001, 22528, 10189, 10105, 13596, 10393, 11019, 119, 102], [16680, 28927, 10111, 34001, 17446, 11393, 10114, 10684, 25240, 119, 102], [16680, 28927, 10111, 34001, 12229, 30512, 26686, 117, 96149, 48281, 10230, 26686, 10111, 33687, 60287, 11912, 11419, 11008, 26686, 117, 11198, 14796, 11948, 110205, 10107, 10114, 10105, 19864, 19049, 10230, 15138, 136, 102], [16680, 28927, 10111, 34001, 10105, 12286, 16220, 13192, 10169, 10105, 26739, 53320, 10230, 13192, 119, 102], [16680, 28927, 10111, 34001, 10551, 19174, 10106, 10105, 12748, 119, 102], [16680, 28927, 18042, 10111, 26053, 102], [16680, 28927, 108016, 50360, 10251, 10111, 13000, 10342, 19360, 13499, 22528, 10135, 169, 19561, 13538, 68120, 119, 102], [16680, 28927, 14796, 12902, 12694, 10678, 10114, 11393, 119, 102], [16680, 28927, 10105, 11192, 10940, 10105, 13617, 44936, 10169, 10940, 13028, 12962, 119, 102], [16680, 28927, 10531, 12748, 10114, 10105, 12469, 12748, 13028, 24944, 119, 102], [16680, 28927, 11003, 69173, 10107, 13382, 169, 19561, 13538, 68120, 119, 102], [16680, 28927, 10551, 17835, 18301, 17331, 10107, 119, 12489, 10124, 10105, 30856, 10948, 11345, 10111, 14796, 10149, 10689, 11408, 36300, 10455, 20895, 136, 102], [16680, 28927, 10551, 10108, 10105, 19174, 10106, 10531, 12748, 119, 102], [12845, 54489, 10151, 32719, 10114, 17368, 12929, 10114, 13145, 169, 17904, 119, 102], [62046, 10562, 12585, 10106, 10105, 41328, 15245, 10169, 12585, 10106, 169, 16965, 71027, 88975, 119, 102], [62046, 10562, 17952, 57700, 10108, 18745, 10169, 57700, 10108, 17781, 17952, 13332, 119, 102], [69627, 45788, 10948, 119, 20575, 10155, 19211, 10111, 20575, 10155, 21457, 119, 102], [69627, 45788, 31210, 10575, 19367, 31886, 10142, 28179, 10230, 11284, 109361, 10107, 10111, 10142, 173, 16575, 10230, 11165, 119, 102], [101270, 12141, 31466, 10237, 10948, 54396, 10111, 57251, 10567, 55181, 119, 102], [101270, 12141, 31466, 10237, 73367, 10188, 15165, 37604, 80450, 10107, 102], [12944, 41638, 10105, 13617, 10708, 78754, 70791, 10376, 14416, 117, 53816, 14204, 117, 21700, 10686, 117, 10111, 54756, 14204, 102], [27746, 45980, 12976, 58170, 10114, 13086, 169, 15198, 19185, 136, 48922, 10978, 17920, 117, 52561, 10107, 117, 18204, 10111, 11426, 119, 102], [27746, 88975, 10105, 13719, 10173, 10761, 17026, 15300, 117, 10155, 14293, 21457, 10114, 10105, 12902, 19164, 10108, 75875, 10114, 10319, 10689, 12174, 73746, 119, 102], [16377, 10454, 10870, 10105, 19737, 10111, 25785, 12789, 20027, 53047, 10105, 11357, 102322, 10108, 31199, 10111, 28685, 169, 29040, 113, 123, 118, 124, 36795, 114, 57265, 10108, 20442, 19129, 119, 102], [69627, 45788, 10105, 75727, 10189, 30272, 169, 13736, 53610, 79151, 117, 10111, 12676, 10189, 30272, 10151, 53610, 112, 187, 13736, 19316, 119, 102], [14962, 15107, 20442, 32784, 101300, 10188, 10684, 22528, 136, 102], [14962, 15107, 119, 119, 119, 52860, 120, 34001, 10169, 119, 119, 119, 136, 102], [14962, 10124, 119, 119, 119, 13213, 10114, 119, 119, 119, 136, 102], [14962, 10134, 12103, 12902, 10106, 20442, 12221, 10407, 10855, 36390, 136, 102], [14962, 10134, 10531, 13213, 10114, 119, 119, 119, 136, 102], [14962, 10894, 10531, 13617, 10347, 12902, 12277, 10271, 10374, 44936, 10106, 169, 12902, 12723, 136, 102], [14962, 10894, 13028, 98291, 10948, 16304, 16889, 42009, 36967, 10111, 82356, 15127, 20316, 13434, 10106, 169, 11276, 118, 10924, 118, 12898, 10817, 10169, 61285, 14010, 10111, 169, 59329, 10237, 136, 102], [14535, 20442, 13617, 44936, 10106, 169, 20796, 11773, 117, 52860, 10189, 11773, 10114, 10105, 10609, 10859, 119, 102], [14535, 20442, 13617, 25738, 11695, 36390, 117, 52860, 10189, 10635, 10169, 18745, 10106, 169, 15198, 10220, 28176, 119, 14535, 10271, 10134, 169, 13456, 13617, 117, 52860, 10271, 10169, 169, 11695, 10635, 36390, 10111, 41549, 12976, 10894, 10347, 12902, 119, 102], [10167, 63996, 21305, 64502, 10107, 10189, 10944, 10110, 100586, 16711, 19185, 119, 102], [26742, 169, 80375, 10345, 106615, 10157, 10870, 169, 13474, 14687, 119, 102], [80859, 10105, 73113, 10108, 10105, 11943, 10111, 106615, 10157, 10870, 31237, 13028, 25720, 10531, 15042, 119, 102], [14535, 17644, 10309, 59550, 10336, 61673, 17427, 10108, 27636, 117, 12976, 10894, 10105, 30856, 10106, 17644, 10347, 136, 102], [12489, 10301, 10105, 15569, 10345, 15374, 10108, 119, 119, 119, 136, 102], [101270, 12141, 31466, 10237, 10948, 10105, 11901, 24426, 55668, 36839, 102], [101270, 12141, 31466, 10237, 10948, 66770, 13664, 19164, 113, 22992, 11090, 10107, 114, 10111, 53187, 10107, 10108, 22992, 11090, 10107, 102], [14962, 10149, 13028, 98291, 10948, 10105, 16292, 10525, 118, 77596, 120, 32385, 13808, 12807, 10108, 12797, 10246, 30967, 59097, 15404, 10113, 10111, 11499, 89337, 10113, 59097, 15404, 10113, 117, 32385, 13808, 12807, 102], [14962, 15107, 157, 10229, 10410, 101300, 10188, 157, 10162, 10321, 28217, 10238, 102], [14962, 15107, 18257, 100395, 101300, 10169, 12089, 102], [10167, 12976, 30360, 10149, 16762, 84646, 25779, 101300, 10188, 17416, 84646, 25779, 102], [10167, 12976, 30360, 72695, 79181, 49864, 101300, 18071, 10114, 16052, 102], [14962, 10149, 97764, 14950, 97603, 101300, 10106, 10455, 11389, 54039, 10107, 32216, 12628, 14039, 25599, 102], [14962, 12172, 13299, 48473, 101300, 10188, 10808, 102], [14962, 15107, 11683, 17004, 60524, 101300, 18745, 10188, 60524, 10551, 10855, 11360, 102], [14962, 15107, 10151, 11572, 91235, 10426, 101300, 10188, 169, 27291, 93552, 102], [14962, 10149, 11951, 65114, 12436, 10948, 15331, 63251, 47715, 10165, 10111, 10571, 51652, 47715, 10165, 102], [14962, 10149, 11951, 65114, 12436, 10948, 10151, 21213, 10111, 10151, 22021, 59648, 10822, 136, 102], [69627, 45788, 10948, 10105, 11901, 18873, 12400, 10169, 49781, 36839, 102], [69627, 45788, 10105, 11901, 28277, 13382, 10105, 48718, 62792, 21983, 102], [14820, 13028, 65114, 12436, 10948, 34216, 13299, 10111, 34216, 20501, 10107, 102], [14962, 10894, 13028, 65114, 12436, 17339, 42461, 36223, 26219, 32239, 10107, 10188, 12397, 26219, 32239, 10107, 102], [14962, 10894, 13028, 65114, 12436, 169, 13920, 10188, 169, 12483, 102], [14962, 10124, 23301, 40316, 13213, 10114, 26210, 11630, 32565, 18071, 10114, 82567, 102], [10167, 12976, 30360, 10124, 183, 46776, 76058, 76920, 10341, 13213, 10114, 10684, 61914, 22525, 14166, 10112, 45579, 117, 10111, 14796, 15107, 10271, 101300, 102], [10167, 12976, 30360, 10301, 174, 31978, 10171, 13213, 10114, 45825, 13136, 10111, 67968, 102], [14962, 10301, 10105, 64325, 11268, 87192, 10169, 17421, 11490, 13213, 10108, 12902, 10188, 11948, 10684, 10106, 10455, 19023, 10108, 24990, 24194, 27160, 10107, 136, 102], [27746, 45980, 10105, 11165, 10106, 10105, 20569, 11127, 11369, 11403, 14703, 95825, 10731, 10111, 25067, 52099, 46935, 42424, 77261, 10731, 61939, 102], [27746, 45980, 10105, 39336, 10948, 10105, 13192, 105376, 10105, 10992, 43626, 45856, 10111, 10105, 13192, 11198, 10435, 39544, 119, 102], [47345, 10454, 11419, 45980, 10105, 33318, 10107, 10111, 61285, 14010, 10171, 10108, 10105, 65585, 11293, 10220, 17208, 10147, 102], [27746, 45980, 39336, 10948, 10105, 17574, 10108, 11948, 16080, 56673, 10230, 21834, 119, 102], [27746, 45980, 11131, 42920, 10105, 13507, 14876, 19868, 14526, 10135, 10105, 11901, 15975, 10114, 15217, 13028, 11424, 10950, 10105, 56120, 17544, 119, 102], [10167, 77229, 11948, 10108, 11762, 102498, 63101, 87621, 117, 10111, 37284, 21883, 11948, 10464, 10124, 169, 28439, 10108, 20895, 117, 10345, 169, 21535, 10108, 28439, 10107, 102], [10167, 77229, 10105, 15851, 10108, 10105, 103927, 11165, 131, 14796, 11299, 32804, 10111, 39523, 15107, 10105, 109183, 11165, 50616, 36003, 136, 102], [14820, 13028, 98291, 10142, 10911, 10948, 12976, 10124, 27949, 38565, 33478, 10400, 93870, 10284, 10111, 12976, 10301, 11419, 99274, 58656, 10107, 102], [14820, 13028, 98291, 30262, 52522, 10107, 10188, 10153, 18832, 52522, 10107, 10155, 39709, 13503, 102], [14820, 13028, 98291, 15050, 12647, 52522, 10107, 10188, 41278, 12647, 52522, 10107, 10155, 84298, 102], [10167, 77229, 10105, 36265, 10108, 38324, 23188, 25315, 10114, 10105, 100, 11053, 100, 12304, 19211, 102], [14962, 15107, 20442, 34649, 15498, 51511, 11327, 10474, 11419, 51511, 11809, 10142, 72931, 102], [14962, 10114, 15498, 51511, 10111, 37215, 54181, 12286, 13651, 59208, 10376, 16768, 83438, 102], [14820, 13028, 106615, 10157, 10870, 10105, 25038, 49185, 10111, 37284, 10319, 14819, 10347, 55583, 10336, 10326, 60764, 10454, 102], [14820, 13028, 20648, 42658, 10112, 106615, 10157, 10870, 13456, 25396, 15162, 10111, 41549, 10911, 14796, 20442, 11424, 17724, 169, 17912, 10668, 10106, 10105, 19602, 10108, 17446, 11841, 118, 84984, 10562, 15162, 136, 102], [14962, 46767, 12172, 13501, 106615, 10157, 10870, 15348, 19509, 10135, 14025, 117, 13596, 117, 10111, 12377, 82065, 10525, 11222, 18257, 16813, 79422, 67569, 11046, 102], [14962, 10149, 13028, 106615, 10157, 10870, 169, 92379, 10454, 40089, 11090, 102], [62046, 10562, 10105, 21379, 10108, 107, 11206, 11053, 107, 18908, 64711, 16491, 10155, 10728, 26295, 10111, 10155, 80047, 30331, 10731, 26295, 102], [62046, 10562, 10105, 19159, 10107, 11517, 50667, 26126, 10135, 17290, 10169, 10105, 11319, 35679, 102], [14962, 15107, 21729, 34001, 10111, 52860, 10114, 13668, 136, 102], [10167, 63996, 21305, 21883, 10345, 10472, 10105, 11787, 24154, 10347, 100679, 10162, 10142, 192, 132, 193, 132, 194, 102], [10167, 63996, 21305, 113, 12331, 48339, 114, 10173, 12563, 40078, 10111, 48573, 10173, 12563, 40078, 10108, 10105, 13507, 11366, 10108, 28277, 102], [14962, 10894, 13028, 78189, 10531, 38607, 102], [14962, 10894, 13028, 78189, 10531, 11357, 89304, 11949, 102], [12489, 10944, 146, 10149, 10114, 78189, 10531, 18077, 14586, 102], [14962, 10105, 32719, 10134, 92311, 102], [14962, 10894, 13028, 65114, 12436, 10948, 75382, 43329, 10686, 10111, 50588, 102], [14962, 10149, 146, 65114, 12436, 10948, 107, 10104, 91199, 10612, 107, 10111, 107, 10262, 10526, 10135, 107, 136, 102], [73784, 10454, 10111, 81570, 10216, 11736, 12902, 86985, 10114, 100679, 169, 73469, 18077, 113, 10472, 18071, 10114, 10464, 29659, 113, 102], [14820, 13028, 18842, 10751, 10111, 46941, 19873, 10142, 119, 119, 119, 136, 102], [14820, 13028, 13684, 169, 119, 119, 119, 10114, 119, 119, 119, 136, 102], [14820, 13028, 26800, 169, 43542, 10319, 10894, 119, 119, 119, 136, 102], [14820, 13028, 10106, 22657, 12864, 15092, 10142, 10105, 13617, 136, 102], [14820, 13028, 12888, 169, 14128, 28502, 10114, 119, 119, 119, 136, 102], [14820, 13028, 28685, 169, 10751, 11639, 10598, 11355, 10142, 169, 30853, 11195, 27920, 10237, 136, 102], [50690, 14569, 169, 15092, 119, 20304, 21428, 12704, 169, 18167, 10188, 10105, 13617, 10188, 10531, 15092, 112, 187, 12331, 10108, 17904, 119, 102], [16680, 36848, 11178, 10551, 18204, 10114, 26800, 169, 10751, 17952, 17925, 119, 102], [16680, 36848, 17464, 10108, 15344, 117, 11839, 117, 10111, 20412, 10708, 169, 15365, 68533, 119, 102], [16680, 50864, 169, 13596, 13617, 119, 102], [16680, 50864, 169, 51077, 10948, 11699, 72294, 92141, 10111, 12275, 13895, 10841, 10689, 10422, 10428, 119, 102], [16680, 50864, 169, 51720, 10345, 14499, 10751, 21296, 10114, 169, 11053, 10911, 51861, 10157, 119, 102], [16680, 50864, 169, 16205, 35562, 10345, 186, 19275, 10627, 10978, 74167, 22528, 119, 102], [16680, 50864, 11839, 10142, 169, 12127, 12717, 12253, 119, 102], [16680, 50864, 169, 17876, 140, 12483, 10189, 91160, 15541, 76060, 10188, 169, 15541, 23198, 10708, 169, 55668, 11165, 102], [16680, 50864, 169, 33091, 10189, 10894, 40960, 10151, 73113, 10106, 10455, 15722, 119, 102], [16680, 50864, 10151, 11364, 11424, 10319, 103525, 12403, 14624, 23193, 10106, 38359, 119, 102], [16680, 50864, 20442, 12542, 19864, 118, 18084, 13684, 10189, 103525, 10435, 10105, 11488, 25314, 24115, 10108, 10105, 32548, 63072, 119, 102], [140, 104379, 169, 21746, 10189, 52860, 10107, 24682, 10189, 11760, 55955, 10111, 24682, 10189, 10149, 49307, 11090, 11760, 55955, 119, 102], [140, 104379, 169, 10751, 21535, 119, 36472, 10271, 169, 11324, 10111, 13065, 169, 29465, 17323, 119, 102], [140, 104379, 169, 10751, 12011, 10142, 10105, 17975, 12117, 10108, 107, 12176, 10374, 169, 16745, 10109, 27012, 107, 119, 102], [140, 104379, 169, 11847, 10108, 25083, 31782, 10114, 37284, 10105, 12789, 10108, 169, 16430, 109036, 10114, 39236, 18309, 29162, 12333, 11046, 119, 102], [140, 104379, 169, 13617, 25690, 10142, 169, 48333, 10114, 20442, 12748, 119, 45414, 10105, 11561, 19174, 119, 102], [140, 104379, 10151, 62256, 10114, 30382, 10105, 28502, 10114, 10531, 18077, 119, 102], [140, 104379, 10111, 28840, 169, 12253, 10978, 12127, 73257, 119, 102], [140, 104379, 13065, 10108, 11436, 26069, 10155, 46908, 12166, 88530, 119, 102], [17732, 169, 12585, 18071, 10114, 13507, 19182, 24965, 102], [17732, 169, 18849, 26874, 40919, 10114, 74195, 103581, 11165, 119, 102], [17732, 169, 21432, 10114, 28840, 169, 19182, 37758, 119, 102], [17732, 169, 10751, 18882, 10114, 12962, 10106, 10105, 104783, 119, 102], [17732, 169, 89897, 10142, 10531, 12748, 119, 102], [17732, 169, 38306, 58496, 10114, 13935, 22094, 10105, 10846, 97782, 68348, 10108, 10151, 20779, 10157, 10114, 10347, 11031, 10106, 169, 13507, 26069, 136, 102], [17732, 10111, 13086, 10151, 18882, 10189, 49157, 119, 102], [17732, 58176, 10142, 10105, 19174, 119, 102], [17732, 10105, 20783, 10108, 10105, 16042, 11787, 11610, 10135, 10105, 39282, 23908, 10106, 10105, 21176, 20304, 72326, 10426, 46361, 95076, 22060, 25166, 102], [89586, 22112, 10410, 169, 79357, 119, 102], [89586, 22112, 10410, 169, 13065, 10142, 169, 10751, 17952, 31156, 10162, 11512, 119, 102], [89586, 22112, 10410, 169, 156, 19282, 10738, 18424, 10142, 169, 16042, 13405, 13920, 10319, 10124, 23908, 10106, 10105, 36957, 25166, 119, 102], [89586, 22112, 10410, 169, 13170, 10114, 59816, 10105, 19228, 10108, 107, 10840, 56617, 24407, 107, 119, 102], [89586, 22112, 10410, 10464, 71393, 15780, 11203, 29077, 10142, 10435, 11003, 13716, 21158, 17544, 119, 102], [73503, 10341, 169, 10751, 13925, 11787, 11610, 10135, 10105, 35688, 10189, 19034, 32120, 119, 102], [73503, 10341, 18195, 10114, 17313, 10345, 13086, 64271, 10798, 69974, 119, 102], [11612, 26426, 169, 26920, 10189, 19873, 13547, 45985, 10108, 39836, 10114, 43250, 10474, 18514, 119, 102], [27746, 88975, 14796, 10105, 48806, 19228, 10108, 12261, 59208, 45079, 40852, 12174, 10347, 11031, 10114, 15217, 100679, 12142, 10454, 13745, 20390, 11850, 12286, 68280, 117, 10491, 105739, 10230, 47243, 10537, 10525, 11773, 41784, 11747, 117, 10345, 11816, 14985, 14010, 119, 102], [27746, 88975, 31237, 10271, 10124, 22497, 10189, 169, 17255, 11021, 24030, 10415, 11365, 11787, 10894, 10347, 11823, 10106, 169, 17255, 31860, 44207, 10161, 10345, 17255, 95660, 32239, 10161, 19912, 119, 102], [18317, 10105, 38877, 10108, 10105, 19639, 10108, 29162, 12333, 11046, 10189, 10309, 16247, 10106, 169, 31562, 117, 11639, 22530, 101480, 169, 28502, 10114, 33253, 10531, 31562, 136, 102], [90491, 10551, 93780, 62624, 13684, 10151, 48580, 10114, 52860, 11345, 119, 102], [14962, 12174, 11951, 37284, 10105, 11487, 10108, 62603, 11624, 10106, 169, 10201, 10129, 13663, 47777, 10230, 11345, 136, 102], [14962, 12174, 13028, 11639, 118, 28685, 10531, 13617, 10169, 169, 11584, 29421, 136, 102], [14962, 10149, 10105, 104911, 10107, 10111, 87621, 13507, 10106, 10105, 13262, 10319, 37156, 41525, 60493, 70808, 117, 14107, 10114, 10105, 11003, 17531, 12608, 70808, 102], [14962, 11299, 30360, 10944, 13028, 119, 119, 119, 136, 102], [14962, 10894, 10105, 158, 119, 156, 119, 138, 119, 10347, 12902, 12277, 10105, 11056, 10374, 11367, 10105, 14906, 11277, 136, 102], [14962, 10894, 13028, 15453, 10105, 13617, 10114, 18842, 169, 12902, 29077, 136, 102], [14962, 10894, 13028, 18842, 120, 13684, 169, 10751, 119, 119, 119, 136, 102], [14962, 10894, 13028, 17333, 11680, 57336, 10105, 11393, 11940, 10114, 67569, 12694, 112, 187, 13405, 10415, 28615, 136, 102], [146, 21029, 48281, 10464, 18077, 10106, 10105, 12748, 10111, 18090, 10151, 43382, 28502, 10464, 10472, 13507, 10155, 10105, 17034, 119, 102], [14535, 13028, 10374, 18314, 10114, 10435, 25744, 14796, 10894, 13028, 19918, 10169, 119, 119, 119, 136, 102], [81687, 13476, 19779, 15722, 10188, 11736, 19023, 10114, 100679, 169, 18077, 119, 102], [10167, 22657, 169, 21432, 10114, 10149, 169, 19182, 37758, 119, 102], [17116, 48281, 20442, 30865, 10108, 11165, 13926, 119, 102], [26742, 169, 12429, 76557, 10189, 10840, 30013, 13041, 10105, 12748, 119, 160, 39077, 10271, 10950, 119, 102], [26742, 10741, 169, 10751, 13702, 16964, 10111, 28685, 13540, 13382, 10271, 119, 102], [15729, 10464, 15092, 119, 20304, 21428, 12704, 10105, 13617, 10188, 10531, 15092, 112, 187, 12331, 10108, 17904, 119, 102], [72154, 19181, 10531, 12748, 10708, 11003, 10345, 10798, 30293, 10111, 18090, 20442, 12542, 13987, 23516, 10284, 10142, 11948, 14893, 119, 102], [18424, 169, 14108, 17895, 10135, 169, 13507, 19871, 57680, 102], [90138, 106788, 10105, 39336, 10108, 169, 15690, 10169, 10192, 11226, 10415, 19010, 119, 102], [35248, 28927, 169, 12748, 10201, 28721, 10189, 32941, 19265, 32406, 10105, 22282, 10108, 12748, 10146, 11206, 10146, 10105, 13617, 119, 102], [35248, 57477, 13028, 10301, 169, 70497, 57078, 11639, 22530, 98235, 10376, 10531, 12748, 10114, 30455, 119, 160, 39077, 169, 10220, 28176, 61758, 12976, 13028, 10894, 23763, 119, 102], [24774, 13041, 10111, 15138, 10114, 33992, 10105, 89097, 119, 102], [24774, 13041, 14796, 10114, 17876, 169, 17217, 37758, 10106, 12990, 10114, 33992, 10105, 89097, 119, 102], [24774, 30466, 10111, 15138, 10114, 33992, 10105, 89097, 119, 102], [35900, 117, 20363, 10107, 10105, 13416, 10106, 10146, 89387, 10230, 12990, 117, 68647, 10105, 13416, 10135, 10105, 29963, 10111, 36006, 10105, 13416, 102], [12271, 45565, 10341, 44368, 65390, 112, 188, 106435, 31555, 10662, 32425, 112, 187, 12557, 119, 14962, 11695, 12174, 10261, 10529, 37035, 136, 102], [32935, 12929, 10188, 10105, 12748, 10978, 10464, 10108, 10105, 12126, 19174, 117, 11639, 21428, 12704, 10105, 29077, 10108, 10105, 12748, 119, 102], [12489, 23802, 10944, 13028, 42852, 10114, 119, 119, 119, 136, 102], [12489, 20970, 84630, 12277, 13028, 25302, 119, 119, 119, 136, 102], [12489, 44901, 10894, 13028, 56874, 10142, 119, 119, 119, 136, 102], [12489, 10894, 84630, 12277, 119, 119, 119, 136, 102], [12489, 10894, 13028, 18283, 106788, 120, 10106, 14854, 10188, 119, 119, 119, 136, 102], [24781, 16938, 100, 188, 13028, 10104, 36540, 20442, 12542, 13170, 10114, 19918, 10169, 119, 119, 119, 136, 102], [24781, 10472, 47241, 169, 12011, 10978, 119, 119, 119, 136, 102], [160, 39077, 169, 140, 12483, 10189, 45218, 10107, 14168, 11446, 44870, 10107, 10188, 10105, 29963, 117, 10212, 27876, 10171, 10105, 11339, 10111, 13551, 31313, 132, 10111, 68647, 10105, 31313, 10135, 10105, 29963, 119, 102], [160, 39077, 169, 19310, 10114, 10105, 16595, 10135, 169, 12142, 15557, 10108, 43607, 10114, 13028, 119, 102], [160, 39077, 169, 64988, 19777, 24645, 36847, 10106, 19122, 10108, 169, 13507, 12956, 119, 102], [160, 39077, 169, 38869, 10978, 10531, 12748, 119, 102], [160, 39077, 169, 11847, 10108, 23123, 10114, 29320, 12976, 44936, 10106, 10105, 13617, 119, 102], [160, 39077, 169, 13716, 13617, 66842, 169, 14927, 20627, 10106, 10105, 13351, 10108, 169, 24109, 22277, 37285, 14671, 119, 102], [160, 39077, 169, 12011, 10978, 112, 13773, 48492, 112, 10479, 10374, 169, 11499, 11231, 10317, 14210, 17427, 10108, 169, 30568, 119, 102], [160, 39077, 10151, 62382, 10106, 10472, 10798, 11084, 12214, 21296, 10978, 11098, 10111, 34265, 78226, 60452, 10426, 119, 45414, 14459, 21264, 10146, 13172, 10146, 14128, 119, 102], [14962, 10149, 13028, 96961, 10105, 17466, 10108, 13547, 16080, 34926, 10114, 37284, 21883, 169, 16470, 10944, 40316, 10114, 169, 13451, 16715, 12765, 120, 20394, 120, 10924, 136, 102], [14962, 10944, 11951, 96961, 10111, 66770, 73367, 10978, 169, 16042, 11787, 10114, 18842, 10751, 22975, 136, 102], [14962, 10114, 96961, 37859, 12261, 77068, 10908, 10111, 29725, 11130, 13192, 43662, 10230, 46767, 102], [14962, 10149, 11951, 65763, 10454, 96961, 19865, 20036, 81590, 10107, 10114, 80392, 10151, 11346, 10240, 10169, 30865, 102], [14962, 10149, 11951, 10104, 36540, 169, 13170, 10114, 10110, 39910, 10105, 28160, 102], [14820, 13028, 10104, 36540, 10151, 11419, 70629, 29659, 10142, 102], [11791, 13028, 10104, 36540, 169, 57912, 23068, 10106, 12990, 10114, 15329, 20434, 79140, 10107, 102], [89586, 22112, 10410, 10111, 11419, 97038, 10216, 169, 12483, 10142, 10531, 56120, 102], [89586, 22112, 10410, 169, 17175, 11610, 10135, 10105, 11901, 12929, 131, 13968, 29087, 10796, 91042, 58875, 10107, 102], [14962, 12174, 11951, 26800, 169, 11170, 89329, 38713, 10108, 17001, 10142, 41536, 34377, 10106, 10531, 12807, 10108, 22205, 10169, 14739, 11426, 136, 102], [11301, 13684, 10230, 10151, 48580, 117, 11419, 13311, 11269, 10105, 17466, 117, 10111, 46908, 47775, 10107, 117, 37284, 10107, 10106, 12976, 30360, 10105, 48580, 12174, 10347, 23736, 10798, 46767, 10106, 12990, 10114, 25974, 10798, 21535, 11942, 47775, 10107, 10106, 10105, 16711, 119, 102], [11301, 11419, 13311, 11269, 10105, 12078, 10213, 11355, 10108, 169, 12253, 10106, 169, 12485, 11661, 117, 37284, 10105, 16455, 10114, 10319, 10105, 38385, 11121, 15282, 46767, 10111, 102], [11301, 15566, 16297, 169, 18077, 117, 37284, 10105, 16455, 10114, 10319, 10105, 18077, 10134, 100679, 10162, 10146, 65763, 10454, 10146, 14128, 102], [73784, 35885, 10112, 11165, 10106, 13145, 10108, 169, 79357, 119, 102], [73784, 35885, 10112, 10105, 29811, 112, 187, 26874, 14010, 11610, 15378, 10105, 13596, 112, 67136, 119, 102], [13491, 11155, 13501, 10479, 14819, 10472, 11760, 10105, 32548, 22414, 136, 102], [13491, 13028, 169, 119, 119, 119, 15042, 136, 102], [77014, 22094, 10105, 49781, 14010, 10108, 10151, 17034, 112, 187, 47775, 10107, 11610, 10135, 10105, 18713, 13507, 119, 102], [77014, 22094, 10105, 21912, 10108, 37149, 11226, 10415, 20194, 21891, 119, 102], [77014, 22094, 10105, 25315, 26874, 14010, 10108, 12902, 73201, 10415, 43847, 10107, 10108, 10105, 11561, 11165, 10345, 48806, 19228, 119, 102], [77014, 22094, 10105, 33318, 10107, 10111, 61285, 14010, 10171, 10108, 10105, 14978, 19185, 10111, 11639, 22530, 101480, 14204, 10189, 14819, 10347, 15109, 10106, 16711, 19185, 131, 12489, 10944, 10347, 102], [11514, 10105, 16108, 10114, 10105, 12504, 43542, 119, 38571, 17761, 10105, 45985, 10108, 107, 15198, 18204, 27382, 17883, 107, 10106, 12990, 10108, 21912, 10114, 13028, 119, 102], [14820, 13028, 60041, 10105, 14932, 10189, 12237, 112, 187, 28005, 10169, 10105, 24109, 10240, 112, 187, 13578, 10124, 10105, 10992, 15127, 21257, 10161, 10106, 10105, 13617, 136, 102], [14820, 13028, 60041, 20442, 12956, 10978, 119, 119, 119, 136, 102], [50690, 14569, 169, 72700, 52561, 10142, 10105, 40347, 10108, 10151, 60180, 13926, 136, 113, 13277, 123, 114, 102], [50690, 14569, 10111, 32941, 19265, 19779, 10105, 10551, 10992, 12452, 15284, 10106, 10105, 13617, 119, 102], [12845, 78225, 10253, 10111, 13145, 10319, 13925, 11787, 34868, 10114, 169, 17981, 14979, 10108, 14625, 119, 102], [12845, 42461, 14526, 169, 89897, 10189, 11337, 10840, 30013, 13041, 20442, 10751, 18301, 21535, 10106, 10151, 11419, 104360, 10111, 10478, 65699, 11964, 11203, 13170, 119, 102], [140, 45867, 11189, 10151, 34176, 13684, 10345, 169, 14108, 43542, 119, 102], [140, 45867, 11189, 10105, 10684, 16470, 112, 187, 113, 10345, 20442, 12542, 114, 29811, 117, 11610, 10135, 10105, 67136, 11951, 10529, 19549, 10531, 16715, 12765, 119, 102], [46147, 13315, 21883, 13028, 10301, 10106, 19122, 10108, 12585, 10135, 169, 71027, 88975, 132, 60041, 20442, 12956, 10106, 169, 29632, 119, 102], [46147, 13315, 21883, 13028, 12174, 10529, 37035, 10135, 10105, 17354, 59893, 10111, 24087, 119, 160, 39077, 10978, 24682, 10189, 10894, 10529, 10590, 109024, 14293, 62452, 10114, 102], [46147, 13315, 21883, 13028, 39496, 21408, 10978, 55955, 10188, 10531, 12748, 119, 102], [46147, 13315, 10319, 22102, 10894, 12504, 20241, 10105, 12956, 10108, 11652, 119, 102], [46147, 13315, 10319, 15348, 10108, 14204, 10134, 10992, 26874, 102], [46147, 13315, 10319, 22414, 10108, 15566, 16297, 169, 18077, 10134, 10992, 26874, 102], [77955, 19342, 10105, 11901, 27445, 131, 10117, 32548, 22414, 14009, 10380, 11206, 10189, 10271, 12174, 18923, 13246, 169, 23247, 45100, 10708, 169, 69974, 26901, 20627, 119, 102], [77955, 19342, 20442, 11760, 10108, 169, 19182, 40919, 10106, 15566, 16297, 10105, 18077, 119, 102], [13810, 99590, 11044, 10105, 13925, 86956, 10108, 169, 50071, 79308, 10415, 19912, 119, 39007, 20442, 26799, 10169, 12929, 13028, 10529, 39496, 10188, 10531, 15348, 119, 102], [17732, 169, 89601, 70427, 10189, 13028, 27874, 10992, 11426, 10894, 84874, 13382, 10105, 89601, 77596, 25083, 119, 102], [10666, 91724, 11088, 12277, 169, 15092, 100, 187, 22115, 10309, 51670, 11130, 102], [11791, 13028, 68312, 119, 119, 119, 136, 102], [11791, 13028, 27874, 119, 119, 119, 10124, 169, 15198, 10345, 169, 15838, 40414, 136, 102], [13666, 48850, 13264, 67136, 10142, 14293, 10531, 30865, 10111, 60041, 20442, 11070, 30641, 119, 102], [18742, 107114, 10112, 169, 11424, 10108, 11938, 117, 24426, 10105, 31725, 10142, 20442, 70204, 119, 102], [18742, 107114, 10112, 49781, 10111, 22944, 16587, 30698, 88958, 22115, 10108, 19174, 119, 102], [18742, 107114, 10112, 17936, 13332, 10111, 12820, 48281, 31237, 23123, 10301, 12452, 119, 102], [18742, 107114, 10112, 10105, 29162, 12333, 11046, 74265, 28615, 10108, 169, 29677, 42375, 16430, 102], [18742, 107114, 10112, 10105, 13277, 10108, 79332, 46178, 10350, 26854, 11945, 10948, 10551, 13795, 10107, 13382, 25090, 37403, 16490, 10350, 12929, 136, 113, 13277, 125, 114, 102], [18742, 107114, 10112, 10551, 12416, 19023, 10108, 12929, 10978, 10105, 34624, 10107, 119, 160, 39187, 10237, 10894, 10347, 169, 18322, 30865, 10142, 20442, 24564, 10111, 31237, 136, 102], [18742, 107114, 10112, 21883, 10455, 13192, 10124, 169, 22024, 43847, 10108, 10105, 11436, 26069, 119, 102], [18742, 107114, 10112, 20442, 12542, 10345, 169, 56921, 112, 187, 62382, 10106, 18873, 10108, 10105, 45985, 10108, 24664, 55424, 10939, 10105, 16715, 12765, 119, 102], [27746, 45980, 10105, 17067, 23188, 10108, 11408, 11922, 13736, 33439, 10169, 42047, 10114, 169, 15018, 15557, 10111, 11388, 15198, 31725, 113, 11610, 10135, 45985, 55424, 10106, 13596, 114, 10142, 31237, 10464, 33439, 12956, 10124, 10798, 22497, 10114, 10347, 26874, 11084, 10105, 10684, 112, 187, 119, 102], [27746, 88975, 10111, 12820, 48281, 169, 10751, 25293, 119, 102], [27746, 88975, 30865, 10107, 11019, 10106, 14293, 102499, 10114, 10151, 11572, 29115, 119, 102], [90491, 10151, 36847, 10135, 11178, 12956, 117, 10110, 20467, 19779, 10105, 64988, 10415, 18042, 28841, 10171, 10106, 10189, 36847, 119, 102], [90491, 10105, 11165, 14579, 10135, 169, 14108, 20210, 117, 13574, 169, 12956, 10111, 60041, 10271, 119, 102], [90491, 10105, 11165, 11951, 112, 10323, 59822, 10160, 10135, 10531, 57680, 117, 103730, 107114, 10112, 14796, 49781, 10531, 47775, 10124, 10111, 60041, 20442, 57085, 119, 102], [90491, 10105, 10551, 44901, 10114, 10105, 17067, 27917, 18077, 117, 18344, 10105, 44901, 10106, 18873, 10108, 64416, 10111, 24944, 35717, 119, 102], [90491, 11003, 14128, 63036, 10114, 92292, 10105, 23908, 11787, 117, 71695, 10105, 14128, 38119, 10107, 10111, 36474, 10162, 25314, 24115, 10108, 11948, 23068, 119, 102], [90491, 10551, 14128, 44901, 117, 138, 10111, 139, 117, 10114, 15566, 16297, 10105, 13507, 16042, 13405, 18077, 117, 19068, 10135, 10105, 12504, 28502, 119, 36472, 20442, 12820, 29748, 119, 102], [14962, 26874, 10301, 119, 119, 119, 136, 102], [14962, 10894, 13028, 19068, 10978, 119, 119, 119, 136, 102], [14962, 10894, 13028, 38008, 12277, 119, 119, 119, 136, 102], [14962, 10894, 13028, 10529, 90170, 119, 119, 119, 136, 102], [10796, 73099, 20709, 117, 34800, 10336, 10345, 39541, 136, 102], [10167, 169, 13507, 43463, 18586, 117, 47054, 10105, 10992, 27949, 13096, 40152, 10111, 18283, 106788, 10105, 12126, 21274, 10111, 14128, 12250, 21274, 119, 102], [12034, 11155, 169, 18322, 28502, 10114, 119, 119, 119, 136, 102], [31617, 81506, 104739, 15510, 14197, 10111, 19808, 10114, 16711, 31313, 119, 102], [31617, 10105, 66178, 13277, 10142, 20442, 43310, 119, 102], [31617, 10105, 19211, 10108, 119, 119, 119, 136, 102], [31617, 21883, 10271, 10894, 10347, 14128, 10114, 55681, 10135, 10151, 17354, 24087, 10111, 59893, 10336, 119, 160, 39077, 10978, 10271, 119, 102], [31617, 21883, 17952, 80433, 11747, 10301, 13486, 29025, 10345, 10119, 42923, 29025, 10142, 10105, 25396, 43163, 73113, 119, 102], [17116, 48281, 10111, 38316, 10216, 30360, 10114, 29320, 18882, 91253, 119, 102], [17116, 48281, 10105, 12887, 11469, 30943, 169, 34987, 72453, 37398, 119, 102], [69898, 10114, 10551, 13596, 36778, 10173, 97209, 10376, 10135, 54260, 10111, 27896, 10455, 14432, 10135, 10105, 17172, 10108, 10105, 34302, 21543, 10531, 16715, 12765, 119, 102], [17452, 10105, 11901, 10106, 12990, 10108, 92602, 119, 119, 119, 102], [90138, 106788, 12976, 11337, 84630, 13451, 10106, 119, 102], [90138, 106788, 21883, 44368, 11337, 17038, 11783, 12014, 10114, 27541, 10105, 26037, 10157, 10662, 11736, 10855, 10108, 61958, 119, 77014, 17019, 10376, 10261, 30811, 10226, 78327, 12014, 119, 102], [97200, 97551, 11534, 14796, 17446, 13596, 25525, 10345, 12253, 58821, 12174, 10347, 34605, 119, 102], [80859, 10105, 12504, 43542, 10142, 169, 21622, 12286, 21379, 16430, 119, 102], [80859, 10105, 10992, 26874, 28502, 119, 102], [12271, 27060, 10562, 30360, 10106, 10319, 10271, 12174, 10529, 58040, 10798, 46767, 102], [19068, 10978, 10105, 10992, 11419, 104360, 10668, 10108, 10105, 12748, 119, 11223, 62452, 10114, 18090, 10160, 16298, 11003, 31725, 31237, 136, 102], [45414, 169, 31624, 10111, 33182, 10114, 71695, 10105, 33311, 112, 18267, 84874, 14751, 60610, 112, 187, 15174, 12373, 10108, 10105, 41872, 112, 119, 102], [32935, 31214, 19211, 10104, 30619, 94958, 117, 19068, 10948, 10551, 61576, 118, 46267, 14510, 20779, 12682, 10142, 10105, 13684, 10108, 169, 33955, 27714, 10129, 119, 102], [32935, 10105, 25090, 45985, 10108, 65978, 19534, 55424, 10106, 10531, 15348, 117, 103730, 107114, 10112, 10105, 10808, 13925, 11787, 10155, 26099, 18444, 67524, 10114, 13145, 20442, 104118, 119, 102], [22034, 81579, 169, 14772, 10536, 17556, 136, 12128, 13028, 11337, 17367, 10114, 39224, 14772, 14010, 119, 102], [12489, 19010, 10114, 119, 119, 119, 10894, 13028, 11639, 22530, 101480, 136, 102], [12489, 67136, 10894, 13028, 11760, 10114, 13935, 22094, 10105, 64999, 11949, 10108, 169, 14155, 16108, 136, 102], [12489, 67136, 10894, 13028, 11760, 10114, 13935, 22094, 119, 119, 119, 136, 102], [12489, 10149, 13028, 27874, 10978, 119, 119, 119, 136, 102], [12489, 10124, 10668, 10108, 10531, 12748, 12172, 13028, 11850, 12504, 119, 29091, 31237, 13028, 11850, 10271, 136, 102], [12489, 10124, 10105, 10992, 12452, 119, 119, 119, 136, 102], [160, 39187, 10237, 10108, 10105, 11901, 22115, 10894, 23282, 10347, 16298, 26874, 10106, 10349, 91724, 23025, 10105, 57085, 136, 102], [160, 39187, 10237, 10108, 10105, 10551, 73418, 10107, 117, 11499, 55873, 30490, 10345, 69609, 30490, 117, 10124, 10798, 65763, 136, 17116, 48281, 20442, 57085, 119, 102], [100393, 13028, 10529, 11850, 10162, 10114, 10529, 10374, 96258, 10142, 169, 19806, 136, 27746, 88975, 31237, 10345, 31237, 10472, 119, 102], [160, 39077, 169, 13416, 10108, 67136, 10114, 31624, 10105, 30032, 35562, 10107, 119, 102], [24774, 13041, 10105, 13617, 10111, 32650, 95076, 24203, 10105, 12807, 10108, 26070, 10189, 10894, 84874, 10531, 12748, 119, 102], [42272, 27801, 10105, 96014, 11405, 13600, 94091, 10107, 10108, 10105, 39189, 118, 14517, 10550, 102], [42272, 27801, 10105, 24179, 10108, 32342, 56507, 10142, 97129, 10106, 12902, 109036, 11077, 15647, 102], [42272, 27801, 11419, 63592, 96065, 10112, 10135, 30855, 120, 36119, 14943, 102], [42272, 27801, 10105, 66178, 10108, 10105, 20210, 102], [42272, 27801, 40540, 14796, 11695, 10105, 94460, 15138, 19135, 102], [12489, 10149, 13028, 27874, 10124, 10105, 12504, 40414, 10978, 23959, 10114, 44768, 66397, 136, 102], [12489, 10149, 13028, 27874, 10124, 10105, 22038, 10111, 31237, 102], [12489, 10149, 13028, 27874, 10301, 10105, 33318, 10107, 10108, 13382, 47833, 82116, 10106, 20442, 12483, 136, 102], [11791, 13028, 27874, 10189, 10531, 33311, 10173, 50038, 10107, 10105, 14932, 10189, 177, 10392, 32862, 10114, 16874, 23432, 102], [14962, 10149, 13028, 27874, 10105, 13354, 14819, 42254, 10345, 15453, 102], [14962, 11791, 11065, 48922, 11340, 71426, 67683, 10106, 26842, 16232, 100979, 46147, 57860, 10107, 10106, 15281, 102]]>"
            ]
          },
          "metadata": {
            "tags": []
          },
          "execution_count": 313
        }
      ]
    },
    {
      "cell_type": "code",
      "metadata": {
        "colab": {
          "base_uri": "https://localhost:8080/"
        },
        "id": "xwrPbIHLk24S",
        "outputId": "0c373c5c-e3d4-4b63-b255-d031f8a853bc"
      },
      "source": [
        "questions[0]"
      ],
      "execution_count": null,
      "outputs": [
        {
          "output_type": "execute_result",
          "data": {
            "text/plain": [
              "<tf.Tensor: shape=(7,), dtype=int32, numpy=array([12489, 12172, 10105, 14368, 30027,   136,   102], dtype=int32)>"
            ]
          },
          "metadata": {
            "tags": []
          },
          "execution_count": 314
        }
      ]
    },
    {
      "cell_type": "code",
      "metadata": {
        "colab": {
          "base_uri": "https://localhost:8080/"
        },
        "id": "ZevzoazVlPQJ",
        "outputId": "ac59314d-a624-4dc7-ef8a-5e0121546b81"
      },
      "source": [
        "len(trainDf['Level'])"
      ],
      "execution_count": null,
      "outputs": [
        {
          "output_type": "execute_result",
          "data": {
            "text/plain": [
              "668"
            ]
          },
          "metadata": {
            "tags": []
          },
          "execution_count": 315
        }
      ]
    },
    {
      "cell_type": "code",
      "metadata": {
        "colab": {
          "base_uri": "https://localhost:8080/"
        },
        "id": "RwTqxzPWk7UU",
        "outputId": "1b51ef23-e4d9-4769-82d3-ede2f5450b0a"
      },
      "source": [
        "questions.shape"
      ],
      "execution_count": null,
      "outputs": [
        {
          "output_type": "execute_result",
          "data": {
            "text/plain": [
              "TensorShape([668, None])"
            ]
          },
          "metadata": {
            "tags": []
          },
          "execution_count": 316
        }
      ]
    },
    {
      "cell_type": "code",
      "metadata": {
        "colab": {
          "base_uri": "https://localhost:8080/"
        },
        "id": "Ywj1nkktlKOD",
        "outputId": "30ca3faa-9021-443d-ec1c-b0c7db03eb2e"
      },
      "source": [
        "tokenizedQuestion=tokenizer.tokenize(trainDf['Question'][0])\n",
        "for i in tokenizedQuestion:\n",
        "  print(i,tokenizer.convert_tokens_to_ids([i]))"
      ],
      "execution_count": null,
      "outputs": [
        {
          "output_type": "stream",
          "text": [
            "What [12489]\n",
            "did [12172]\n",
            "the [10105]\n",
            "policy [14368]\n",
            "propose [30027]\n",
            "? [136]\n"
          ],
          "name": "stdout"
        }
      ]
    },
    {
      "cell_type": "code",
      "metadata": {
        "id": "Wdb-4OWXl9xl"
      },
      "source": [
        "cls = [tokenizer.convert_tokens_to_ids(['[CLS]'])]*questions.shape[0]\n",
        "input_word_ids = tf.concat([cls, questions], axis=-1)"
      ],
      "execution_count": null,
      "outputs": []
    },
    {
      "cell_type": "code",
      "metadata": {
        "colab": {
          "base_uri": "https://localhost:8080/"
        },
        "id": "zjjsmlC3oU8J",
        "outputId": "b7c2d82e-252c-44a7-a8e3-0dabd5ab03f7"
      },
      "source": [
        "input_word_ids"
      ],
      "execution_count": null,
      "outputs": [
        {
          "output_type": "execute_result",
          "data": {
            "text/plain": [
              "<tf.RaggedTensor [[101, 12489, 12172, 10105, 14368, 30027, 136, 102], [101, 14516, 19992, 10105, 14368, 136, 102], [101, 12242, 10134, 10105, 34497, 20006, 136, 102], [101, 12489, 15284, 31377, 10105, 22718, 10108, 10105, 34497, 136, 102], [101, 10167, 20442, 12542, 21296, 39224, 16942, 10230, 118, 10106, 118, 11192, 119, 102], [101, 12271, 100620, 19181, 31237, 18757, 42074, 12229, 14854, 10114, 12962, 10106, 10455, 12542, 14154, 119, 102], [101, 13810, 99590, 11044, 14796, 169, 11284, 77229, 11942, 67701, 13065, 10894, 11424, 10106, 10531, 13474, 119, 102], [101, 14962, 20970, 11354, 16357, 14154, 10590, 51371, 10106, 10105, 13648, 10107, 136, 102], [101, 23525, 40843, 20970, 10531, 48515, 136, 102], [101, 27746, 88975, 14796, 10464, 20970, 11760, 102], [101, 12489, 19513, 10105, 16942, 10230, 13736, 10406, 31444, 10114, 100062, 10531, 13170, 136, 102], [101, 24781, 20970, 41512, 10425, 11249, 62729, 10105, 11760, 10108, 76917, 10336, 11354, 16357, 136, 102], [101, 14962, 12174, 10105, 10106, 25907, 24407, 10347, 13486, 76585, 10114, 13145, 10106, 118, 11816, 11131, 136, 102], [101, 12489, 10301, 10105, 12452, 17464, 10114, 11948, 14039, 100, 187, 17644, 136, 102], [101, 14962, 10301, 11762, 19316, 22021, 50619, 11912, 136, 102], [101, 160, 39187, 10237, 22414, 117, 48244, 117, 10345, 28502, 10124, 18322, 136, 102], [101, 14820, 13028, 103730, 107114, 10112, 10531, 14932, 10106, 18873, 10108, 100, 136, 102], [101, 160, 39187, 10237, 23068, 10894, 13028, 48089, 136, 24781, 136, 102], [101, 10167, 10105, 11168, 10108, 22899, 14729, 117, 10319, 10464, 10108, 10105, 11901, 35431, 10107, 34797, 10105, 13719, 100, 45844, 19980, 100, 136, 102], [101, 160, 39187, 10237, 10464, 10108, 10105, 11901, 34797, 12976, 19135, 11192, 10106, 10105, 10380, 118, 11552, 23837, 59742, 52188, 32071, 52980, 15365, 10108, 10105, 46966, 15138, 117, 10146, 26850, 10114, 10105, 28502, 10108, 169, 15018, 18077, 136, 102], [101, 160, 39187, 10237, 10464, 10108, 10105, 11901, 25296, 16768, 15107, 169, 12874, 118, 91695, 10129, 20827, 11760, 10106, 10226, 28929, 136, 102], [101, 37182, 11131, 42920, 11222, 10105, 10220, 28176, 17544, 117, 10111, 19068, 10319, 10108, 10105, 53121, 138, 118, 141, 10124, 49148, 119, 102], [101, 31617, 10105, 49219, 10106, 10271, 13133, 13331, 18071, 10114, 10105, 67136, 13507, 17544, 131, 102], [101, 12489, 44936, 10662, 10105, 35921, 10123, 11098, 28516, 136, 102], [101, 14962, 11299, 51863, 15107, 169, 171, 87015, 29034, 10284, 10529, 136, 102], [101, 14516, 10134, 10271, 10189, 38253, 10105, 28248, 54170, 10115, 95113, 21333, 15774, 68525, 136, 102], [101, 14820, 13028, 11324, 10105, 16316, 10108, 11098, 136, 102], [101, 13810, 99590, 11044, 12976, 44936, 10160, 10105, 14810, 10108, 18661, 60287, 10123, 102], [101, 14516, 50005, 10114, 10105, 12811, 10939, 10105, 29811, 136, 102], [101, 50738, 10105, 21157, 10108, 10326, 10246, 94618, 13499, 102], [101, 12489, 10124, 10105, 12185, 10108, 49056, 102121, 10161, 13642, 136, 102], [101, 160, 39187, 10237, 10124, 22024, 10345, 37155, 136, 102], [101, 26742, 169, 13416, 10108, 10105, 12126, 15284, 119, 102], [101, 26742, 169, 10635, 12953, 10108, 15284, 119, 102], [101, 160, 39077, 169, 13416, 10108, 11178, 29063, 10108, 12929, 13028, 10944, 93161, 102], [101, 14820, 13028, 28685, 10106, 20442, 12542, 21296, 10105, 15138, 10108, 103730, 25130, 10822, 10111, 28866, 19999, 10822, 136, 102], [101, 14820, 13028, 28685, 169, 29040, 10950, 12953, 10108, 57306, 43765, 19367, 10230, 136, 102], [101, 12489, 10149, 13028, 27874, 12174, 10108, 44936, 13451, 10114, 14810, 10108, 65689, 56546, 136, 102], [101, 12489, 10134, 10105, 12126, 14932, 10108, 16812, 136, 102], [101, 14516, 10134, 10105, 18444, 15092, 10106, 10105, 96787, 10108, 11098, 136, 102], [101, 14820, 13028, 16871, 10151, 14351, 10108, 12976, 13028, 36110, 10155, 29677, 35723, 136, 102], [101, 14820, 13028, 16871, 169, 35431, 10142, 169, 21432, 136, 102], [101, 11791, 13028, 21852, 12864, 34469, 10940, 10531, 20970, 10347, 44622, 136, 102], [101, 59865, 10531, 10529, 44936, 10106, 10105, 50690, 10330, 46213, 38587, 136, 102], [101, 14820, 13028, 48515, 10105, 22414, 11031, 10114, 11152, 20627, 10108, 20442, 12542, 102], [101, 12489, 26686, 10894, 13028, 63001, 10108, 10105, 48300, 10108, 77085, 59404, 38322, 136, 102], [101, 12222, 10105, 12929, 13507, 117, 10944, 13028, 26800, 169, 11847, 10108, 68026, 10978, 13935, 10451, 38245, 169, 33955, 10165, 136, 102], [101, 100393, 10531, 12929, 10347, 48765, 12277, 13028, 10374, 169, 10105, 73564, 27481, 136, 102], [101, 160, 39187, 10237, 15284, 12174, 10529, 44936, 12277, 38571, 10342, 10159, 10686, 10500, 85172, 10894, 10529, 11367, 10105, 18758, 136, 102], [101, 14535, 10105, 11193, 26699, 10134, 10472, 36197, 117, 12976, 20970, 10105, 29077, 10529, 10590, 136, 102], [101, 14962, 10134, 10531, 13213, 10114, 45003, 106807, 10107, 10542, 91253, 136, 102], [101, 12489, 10134, 10105, 93680, 26648, 10108, 10315, 11277, 10335, 136, 102], [101, 12489, 10149, 13028, 12888, 10146, 10684, 14128, 18213, 10108, 14784, 68938, 10901, 136, 102], [101, 14820, 13028, 98291, 10948, 50690, 10330, 10111, 53453, 29596, 10679, 13642, 17941, 136, 102], [101, 12489, 10134, 10105, 48448, 12331, 10106, 10105, 31125, 10315, 11544, 10158, 136, 102], [101, 14820, 13028, 52860, 20442, 17466, 10188, 10105, 66558, 79378, 10147, 10169, 10189, 20027, 10106, 10105, 12748, 136, 102], [101, 24781, 10472, 47241, 169, 12011, 10978, 10212, 46041, 10376, 136, 102], [101, 14820, 13028, 12888, 169, 14128, 28502, 10114, 18331, 50089, 10230, 136, 102], [101, 14820, 13028, 13684, 10151, 81506, 30698, 25920, 10114, 26155, 136, 102], [101, 14535, 13028, 10374, 18314, 10114, 10435, 25744, 14796, 10894, 13028, 19918, 10169, 13559, 12606, 10921, 10410, 10106, 27986, 23292, 27736, 136, 102], [101, 24781, 16938, 112, 188, 13028, 10104, 36540, 20442, 12542, 13170, 10114, 19918, 10169, 83540, 112, 187, 36627, 136, 102], [101, 14820, 13028, 18842, 10751, 10111, 46941, 19873, 10142, 12898, 10105, 73564, 27840, 136, 102], [101, 14820, 13028, 28685, 169, 10751, 11639, 10598, 11355, 10142, 169, 30853, 11195, 27920, 10237, 136, 102], [101, 14820, 13028, 26800, 169, 43542, 10319, 10894, 20780, 50410, 136, 102], [101, 73503, 10341, 169, 13170, 10114, 72551, 155, 11403, 12286, 10134, 42767, 136, 102], [101, 140, 104379, 169, 10751, 21535, 119, 36472, 10271, 169, 11324, 10111, 13065, 169, 29465, 17323, 102], [101, 10167, 22657, 169, 21432, 10114, 106392, 12286, 13382, 98535, 10345, 11178, 10684, 63256, 26127, 13096, 40970, 102], [101, 16680, 50864, 169, 51720, 10345, 14499, 10751, 21296, 10114, 169, 11053, 10911, 51861, 10157, 119, 102], [101, 16260, 12976, 66410, 10108, 10105, 11077, 10108, 10105, 10808, 10124, 14625, 10135, 83951, 136, 102], [101, 93495, 74755, 69253, 16982, 10105, 34467, 10406, 16216, 37944, 10135, 10105, 68120, 17544, 102], [101, 77955, 11088, 59550, 17644, 119, 102], [101, 77955, 11088, 11598, 19164, 10108, 59963, 35717, 119, 102], [101, 77955, 11088, 13697, 103441, 12536, 10147, 119, 102], [101, 77955, 11088, 41878, 19423, 117, 71027, 88975, 10111, 13987, 79383, 119, 102], [101, 77955, 11088, 10105, 21157, 10108, 10105, 17952, 97736, 10340, 119, 102], [101, 11612, 26426, 10111, 16982, 169, 68120, 10108, 169, 36772, 41878, 119, 102], [101, 11612, 26426, 10105, 25090, 10950, 12953, 10108, 169, 15975, 10108, 19899, 13382, 10105, 32548, 63072, 136, 102], [101, 11612, 26426, 10105, 27242, 68120, 10108, 10105, 12397, 42375, 16511, 102], [101, 11612, 26426, 10105, 30676, 21746, 10108, 10105, 153, 78043, 11787, 102], [101, 14962, 11299, 68026, 10106, 10105, 44835, 11847, 10108, 56658, 36175, 18765, 136, 102], [101, 14962, 11299, 15077, 10188, 20442, 11816, 10114, 10105, 19756, 102], [101, 14962, 11299, 33161, 33311, 14579, 10106, 171, 116, 116, 136, 102], [101, 14962, 11299, 16316, 10301, 11155, 10106, 11061, 102], [101, 14962, 11299, 10855, 15107, 10531, 18882, 12962, 136, 102], [101, 14962, 13172, 11165, 10944, 10347, 70809, 10106, 10105, 11135, 10269, 25296, 102], [101, 14962, 13172, 12172, 10261, 16868, 10142, 10226, 13000, 102], [101, 14962, 13172, 10124, 20442, 25512, 102], [101, 14962, 13172, 10635, 12172, 10261, 12149, 10114, 23332, 169, 13215, 102], [101, 14962, 13172, 12286, 15107, 10151, 12637, 37590, 10368, 69423, 102], [101, 146, 21029, 48281, 169, 47320, 10146, 169, 35632, 102], [101, 146, 21029, 48281, 169, 18381, 113, 10212, 50164, 44695, 117, 42852, 64040, 117, 12375, 113, 102], [101, 146, 21029, 48281, 107433, 10107, 10188, 169, 24109, 21038, 15619, 43847, 102], [101, 146, 21029, 48281, 39381, 37476, 23188, 102], [101, 146, 21029, 48281, 10105, 49148, 35431, 10108, 10427, 54795, 10107, 119, 102], [101, 146, 21029, 48281, 10105, 12403, 11922, 30045, 13358, 10107, 10108, 10105, 13773, 27591, 119, 102], [101, 146, 21029, 48281, 10105, 10668, 10108, 169, 14444, 15190, 103036, 11130, 20748, 119, 102], [101, 146, 21029, 48281, 10105, 14979, 10178, 17437, 73995, 10161, 34378, 10108, 169, 18765, 119, 102], [101, 146, 21029, 48281, 10319, 12307, 26462, 10169, 10105, 11561, 19302, 10146, 10105, 187, 10106, 42230, 113, 48472, 10108, 19310, 187, 114, 102], [101, 10167, 10319, 39262, 15107, 10105, 11388, 10108, 75607, 23920, 18042, 102], [101, 10167, 10319, 15911, 10124, 45131, 11130, 13702, 41384, 102], [101, 10167, 160, 39187, 10237, 10668, 10108, 10105, 11356, 15107, 10261, 12962, 102], [101, 37805, 11178, 17952, 89476, 72894, 49651, 10251, 10169, 13684, 15374, 119, 102], [101, 37805, 10105, 15569, 10108, 10105, 11901, 34122, 131, 68236, 57654, 12713, 102], [101, 37805, 10105, 15569, 10108, 10105, 54396, 42562, 19989, 10135, 10105, 13448, 102], [101, 12339, 11598, 19164, 10108, 104911, 10107, 24909, 10106, 10105, 13262, 102], [101, 12339, 95094, 21296, 10106, 140, 27917, 119, 102], [101, 12339, 10105, 40582, 98018, 10114, 10105, 34387, 24345, 10123, 17123, 119, 102], [101, 12339, 10105, 21559, 10106, 55380, 112, 187, 88106, 119, 102], [101, 12339, 10105, 48244, 10114, 25974, 169, 23742, 23078, 10345, 18402, 112, 68120, 102], [101, 12339, 10105, 50879, 16247, 10106, 14382, 54525, 119, 102], [101, 12339, 11003, 40582, 10189, 10301, 18223, 10114, 10105, 34387, 24345, 10123, 17123, 119, 102], [101, 12339, 11003, 18283, 103637, 10368, 13925, 16768, 10189, 32120, 102], [101, 31558, 10160, 10105, 29725, 119, 12489, 10124, 10105, 29725, 100, 187, 24564, 10135, 169, 14876, 136, 102], [101, 26742, 169, 13416, 10108, 73367, 13028, 39496, 10188, 10105, 13617, 119, 102], [101, 15729, 126, 50879, 10189, 28086, 10105, 18084, 10108, 19899, 113, 12381, 10233, 19573, 10345, 15306, 114, 136, 102], [101, 15729, 10105, 16410, 10479, 37992, 10105, 47894, 19589, 119, 102], [101, 15729, 10105, 18301, 15647, 10111, 10160, 16298, 10551, 34109, 10108, 18301, 10106, 11948, 11795, 119, 102], [101, 15729, 10105, 11598, 11922, 18301, 15647, 119, 102], [101, 15729, 10105, 12126, 19174, 10106, 10105, 13617, 119, 102], [101, 15729, 10105, 18381, 10189, 16316, 10189, 102], [101, 47464, 16982, 10105, 68120, 17544, 131, 102], [101, 97200, 18995, 25090, 82116, 73367, 102], [101, 97200, 18995, 32602, 10108, 169, 19871, 15284, 102], [101, 97200, 18995, 10105, 35431, 10108, 10105, 29659, 11165, 54960, 10188, 20442, 90523, 123, 119, 102], [101, 97200, 18995, 10105, 62256, 10142, 10105, 80433, 10161, 34874, 13216, 119, 102], [101, 97200, 18995, 10105, 11901, 24109, 21038, 10415, 14351, 10108, 10151, 53187, 10108, 11152, 68592, 18356, 102], [101, 97200, 18995, 10105, 28914, 77726, 10173, 19975, 71772, 102], [101, 97200, 12704, 169, 14368, 10108, 55031, 10106, 11767, 119, 102], [101, 97200, 12704, 10105, 38869, 107, 23265, 160, 80442, 107, 119, 102], [101, 97200, 12704, 10105, 45985, 10108, 10105, 12159, 36682, 13968, 119, 102], [101, 97200, 12704, 10105, 10105, 96830, 11630, 13255, 102], [101, 11104, 11598, 10788, 47116, 50808, 10108, 11206, 26500, 10336, 16042, 119, 102], [101, 11104, 14796, 10114, 17860, 169, 12307, 10106, 169, 41399, 102], [101, 11104, 10105, 40582, 10108, 11948, 12807, 10108, 29162, 12333, 11046, 38306, 19549, 102], [101, 11104, 10105, 35431, 10108, 19800, 10106, 55380, 112, 187, 88106, 119, 102], [101, 11104, 10105, 29659, 10142, 10105, 11168, 10108, 169, 54309, 102], [101, 11104, 10105, 25083, 31782, 10114, 13684, 10151, 12797, 55170, 20344, 11787, 102], [101, 11104, 10105, 36265, 10142, 47620, 10230, 10635, 10106, 11894, 119, 102], [101, 11104, 10105, 21983, 10142, 88301, 10111, 86206, 10106, 22450, 119, 102], [101, 11104, 10105, 21983, 10142, 13382, 169, 15900, 28266, 10115, 10106, 169, 49219, 119, 102], [101, 12489, 10301, 11922, 73367, 10978, 15018, 36782, 10111, 75875, 102], [101, 12489, 10301, 10105, 11922, 20895, 10111, 59220, 10107, 10108, 15911, 102], [101, 12489, 10301, 10105, 43847, 10415, 81467, 10135, 19350, 10111, 32171, 102], [101, 12489, 10301, 10105, 13926, 10345, 28277, 10108, 15984, 102], [101, 12489, 10301, 10105, 17163, 10108, 29162, 12333, 11046, 66558, 10308, 19466, 38200, 136, 20304, 23953, 11762, 10114, 26747, 101615, 112, 187, 13255, 102], [101, 12489, 15107, 11649, 11090, 34268, 10142, 119, 102], [101, 12489, 10124, 20442, 11365, 11324, 102], [101, 12489, 10124, 169, 18331, 25844, 136, 102], [101, 12489, 10124, 169, 15541, 17907, 19776, 102], [101, 12489, 10124, 10105, 29421, 10108, 11469, 30943, 169, 34987, 72453, 37398, 136, 102], [101, 12489, 10124, 10105, 12887, 10108, 10105, 10422, 18379, 13028, 17112, 102], [101, 12489, 11226, 10301, 11951, 10106, 13448, 11858, 136, 102], [101, 12242, 12172, 11731, 13852, 55645, 10280, 15148, 13382, 18938, 102], [101, 12242, 12172, 10105, 10422, 11731, 10703, 12429, 11825, 14087, 102], [101, 12242, 12172, 10105, 11132, 11356, 10338, 84630, 102], [101, 12242, 12172, 13028, 11175, 136, 102], [101, 12242, 10134, 10105, 10422, 28460, 10106, 10105, 11023, 11418, 12177, 51777, 102], [101, 12242, 10134, 10105, 26578, 14629, 102], [101, 160, 39187, 10237, 10108, 10105, 11901, 10124, 10105, 22414, 10142, 10349, 91724, 23025, 10105, 15901, 10108, 169, 56473, 136, 102], [101, 160, 39187, 10237, 10108, 10105, 11901, 48438, 15107, 10472, 73746, 10114, 10105, 11847, 136, 102], [101, 160, 39187, 10237, 10108, 10105, 10551, 58538, 10107, 10124, 15165, 37604, 56177, 102], [101, 160, 39187, 10237, 10668, 10108, 169, 11165, 78978, 10308, 10124, 11031, 10155, 169, 13933, 10129, 10114, 37284, 10105, 46144, 17175, 102], [101, 160, 39187, 10237, 19765, 10124, 11031, 10155, 43136, 31210, 10165, 102], [101, 14516, 10124, 10105, 10422, 12931, 10108, 11061, 102], [101, 14516, 10124, 10105, 22826, 10108, 10105, 12293, 10108, 11731, 10703, 10738, 55645, 10280, 102], [101, 14516, 10134, 10105, 10422, 10817, 10135, 10105, 60109, 102], [101, 14516, 10134, 10105, 10422, 10114, 47241, 10106, 10105, 17045, 10108, 30031, 17480, 102], [101, 14516, 10134, 10105, 17556, 10108, 10105, 15846, 102], [101, 16680, 28927, 23553, 10638, 11355, 10169, 14962, 10400, 119, 45414, 10105, 12307, 19423, 119, 102], [101, 16680, 28927, 19871, 15284, 10114, 25396, 52844, 102], [101, 19312, 10151, 58577, 10157, 113, 58577, 10157, 72068, 10301, 10106, 52790, 72068, 114, 102], [101, 13810, 99590, 11044, 125, 19164, 10108, 26854, 11945, 10106, 16042, 13684, 119, 102], [101, 13810, 99590, 11044, 14796, 44368, 10111, 32425, 37035, 10135, 10105, 26037, 10157, 119, 102], [101, 13810, 99590, 11044, 10106, 84145, 12976, 10124, 19989, 10106, 81590, 12188, 119, 102], [101, 13810, 99590, 11044, 10106, 20442, 12542, 21296, 14796, 10114, 27728, 21454, 169, 12748, 10188, 10105, 23187, 119, 102], [101, 13810, 99590, 11044, 10106, 20442, 12542, 21296, 14796, 10114, 39740, 15541, 10188, 10464, 12483, 10708, 12864, 119, 102], [101, 13810, 99590, 11044, 10106, 20442, 12542, 21296, 12976, 105315, 10841, 169, 41878, 112, 187, 84204, 41573, 10107, 119, 102], [101, 13810, 99590, 11044, 10106, 20442, 12542, 21296, 12976, 10124, 31580, 10155, 169, 32650, 32782, 10336, 10151, 24006, 119, 102], [101, 13810, 99590, 11044, 20761, 16024, 10114, 169, 47413, 15042, 119, 102], [101, 13810, 99590, 11044, 10105, 17434, 23178, 86525, 10598, 22238, 10106, 55952, 16042, 21905, 13935, 41078, 119, 102], [101, 13810, 99590, 11044, 12976, 25441, 10106, 11948, 10108, 10105, 11598, 14544, 10135, 10105, 10422, 15975, 10108, 19899, 102], [101, 13810, 99590, 11044, 12976, 12149, 11192, 10146, 10105, 48024, 10133, 10134, 10795, 15629, 119, 102], [101, 13810, 99590, 11044, 14796, 10105, 38765, 45844, 19980, 22414, 10944, 95757, 29162, 12333, 11046, 38200, 102], [101, 13810, 99590, 11044, 10105, 11922, 43463, 39336, 10948, 23447, 28568, 10161, 10111, 10181, 69252, 38576, 102], [101, 39008, 10454, 30458, 10105, 17034, 112, 187, 23068, 10114, 10105, 11614, 62229, 63453, 10171, 10108, 10105, 41525, 60493, 33311, 102], [101, 13810, 99590, 11044, 12976, 44936, 10160, 119, 119, 119, 136, 102], [101, 10666, 91724, 11088, 10105, 17034, 100, 187, 12331, 10108, 17904, 102], [101, 10666, 91724, 11088, 10105, 13451, 11487, 10106, 169, 30265, 102], [101, 51462, 66148, 10105, 16613, 10108, 65978, 19534, 119, 102], [101, 27746, 88975, 14796, 32425, 59185, 44368, 112, 187, 12103, 119, 102], [101, 27746, 88975, 10106, 10464, 112, 187, 12542, 21296, 14796, 10114, 18842, 169, 59599, 10157, 10106, 169, 11254, 119, 102], [101, 27746, 88975, 10106, 20442, 12542, 21296, 12976, 169, 11639, 14585, 37413, 24910, 10124, 119, 102], [101, 27746, 88975, 10106, 20442, 12542, 21296, 12976, 10149, 13028, 36110, 10155, 10105, 13719, 55181, 136, 102], [101, 27746, 88975, 10106, 20442, 12542, 21296, 12976, 10124, 31580, 10155, 13697, 103441, 12536, 10147, 119, 102], [101, 27746, 88975, 10105, 25781, 10108, 19871, 15284, 102], [101, 27746, 88975, 10105, 47605, 11043, 14079, 18381, 119, 102], [101, 27746, 88975, 10105, 15790, 21157, 10105, 17034, 10788, 47116, 50808, 10114, 10105, 13719, 107, 47525, 14204, 43058, 107, 102], [101, 27746, 88975, 10105, 14128, 19873, 13010, 10106, 13596, 10142, 10105, 16199, 10114, 10105, 12153, 10108, 10105, 32671, 12117, 119, 102], [101, 27746, 88975, 10105, 15138, 113, 10220, 28088, 70281, 114, 10142, 43977, 10105, 10178, 71200, 10165, 10108, 169, 41488, 35651, 102], [101, 27746, 88975, 12976, 169, 38869, 17574, 119, 102], [101, 27746, 88975, 12976, 10105, 17034, 17574, 10155, 10105, 33311, 107, 17446, 62941, 32043, 10301, 62559, 10336, 10114, 22013, 85298, 19824, 119, 102], [101, 17235, 20442, 32282, 10108, 112, 100741, 10106, 15062, 112, 11222, 32116, 119, 102], [101, 12222, 169, 23254, 53233, 10114, 30458, 10105, 13262, 63725, 119, 102], [101, 90491, 169, 81590, 10108, 12116, 109086, 10106, 35599, 10107, 117, 30458, 12976, 10105, 81590, 36648, 10106, 169, 10911, 11033, 10114, 20442, 48246, 119, 102], [101, 90491, 11762, 12403, 29162, 12333, 11046, 10106, 76560, 69273, 117, 159, 117, 160, 117, 161, 117, 162, 117, 163, 117, 51361, 10319, 10301, 23392, 34620, 16379, 102], [101, 101288, 19265, 19779, 10531, 13337, 10822, 131, 107, 17952, 10146, 169, 13341, 51566, 10106, 10105, 12145, 11256, 107, 102], [101, 101288, 19265, 19779, 12976, 13028, 27874, 10105, 12126, 14932, 10134, 119, 102], [101, 10167, 10464, 49219, 67004, 10105, 12126, 14932, 10108, 169, 13398, 22718, 119, 102], [101, 10167, 10464, 49219, 32941, 19265, 19779, 10105, 12126, 12331, 10108, 169, 13398, 22718, 119, 102], [101, 24362, 97423, 10105, 54156, 119, 102], [101, 14504, 12953, 10106, 20442, 12542, 21296, 14796, 10105, 10281, 99269, 112, 187, 78079, 10340, 35148, 10112, 10840, 30013, 13041, 10426, 36300, 10107, 10455, 21535, 119, 102], [101, 14504, 12953, 10105, 10992, 12452, 15498, 27521, 10108, 10105, 17307, 119, 102], [101, 14504, 12953, 10105, 80007, 29682, 10155, 63318, 28357, 11345, 10114, 103730, 10253, 99142, 22163, 11710, 13275, 33733, 119, 102], [101, 14504, 12953, 10151, 107, 16342, 13065, 107, 10189, 11337, 21992, 13028, 10114, 15839, 20442, 79357, 13382, 10212, 99848, 10415, 30166, 77239, 10376, 40962, 102], [101, 13497, 28088, 70281, 10151, 12452, 29811, 102], [101, 13497, 28088, 70281, 12976, 48334, 10124, 22807, 10106, 10226, 36766, 10715, 53559, 10157, 119, 102], [101, 13497, 28088, 70281, 10105, 38869, 10106, 20442, 12542, 21296, 102], [101, 13497, 28088, 70281, 10531, 38869, 10978, 11149, 10896, 55260, 13723, 48850, 117, 67004, 10230, 12976, 10261, 10134, 22807, 10978, 10105, 40582, 10108, 169, 20104, 102], [101, 13810, 99590, 11044, 10105, 37131, 10108, 10531, 12483, 39144, 131, 102], [101, 19220, 48281, 19164, 10108, 29162, 12333, 11046, 10106, 76560, 69273, 102], [101, 10894, 13028, 13596, 48281, 10105, 11134, 10165, 14283, 10253, 10106, 10531, 24897, 10146, 169, 11366, 77726, 11639, 56901, 11813, 10345, 169, 73495, 10368, 77726, 11639, 56901, 11813, 102], [101, 19220, 48281, 10105, 11901, 69937, 10107, 131, 24124, 117, 55222, 117, 69337, 18071, 10114, 10105, 15859, 18398, 11281, 15075, 102], [101, 19220, 48281, 10105, 11901, 97855, 10146, 88635, 117, 39205, 117, 19527, 117, 39520, 103989, 117, 59550, 102], [101, 14962, 10894, 13028, 13596, 48281, 10105, 102444, 18214, 10108, 20442, 11393, 102], [101, 19220, 48281, 22528, 10708, 10551, 15647, 119, 102], [101, 19220, 48281, 69173, 10107, 10708, 11365, 10111, 13354, 43398, 119, 102], [101, 19220, 48281, 12127, 73257, 64782, 13268, 10111, 10684, 10392, 59417, 42041, 10107, 119, 102], [101, 44971, 12436, 12126, 14932, 10108, 13617, 10106, 12542, 21296, 119, 102], [101, 44971, 12436, 10105, 17952, 69613, 10106, 20442, 12542, 21296, 119, 102], [101, 20304, 85534, 10105, 13617, 10106, 20442, 21296, 119, 102], [101, 20304, 21428, 12704, 10105, 45985, 10108, 15839, 17637, 119, 102], [101, 20304, 21428, 12704, 13028, 98075, 62256, 10142, 10105, 29580, 16091, 13255, 102], [101, 20304, 21428, 12704, 10105, 29221, 11024, 50616, 10114, 23200, 10142, 10531, 38523, 27521, 15453, 119, 102], [101, 20304, 21428, 12704, 10105, 49219, 10106, 20442, 13578, 117, 11901, 10105, 15599, 13507, 17544, 102], [101, 20304, 21428, 12704, 169, 10668, 10106, 10105, 38869, 13382, 169, 12902, 57738, 102], [101, 80859, 10105, 12504, 12887, 10142, 169, 22718, 102], [101, 11104, 10106, 20442, 12542, 21296, 10105, 21983, 10142, 88301, 10111, 86206, 10106, 22450, 119, 102], [101, 11104, 10106, 20442, 12542, 21296, 10940, 10106, 10105, 23187, 10114, 17860, 16741, 17850, 10108, 78273, 10189, 10301, 10192, 20165, 10106, 10105, 28179, 11859, 18676, 119, 102], [101, 14820, 13028, 11388, 10106, 20442, 12542, 21296, 12976, 10105, 18077, 10124, 72082, 13028, 10114, 10149, 102], [101, 11104, 10106, 20442, 12542, 21296, 12976, 10105, 17034, 17574, 10841, 10261, 22153, 102], [101, 12271, 100620, 19181, 169, 19871, 25166, 102], [101, 12271, 100620, 19181, 169, 13617, 10106, 12542, 21296, 119, 102], [101, 12271, 100620, 19181, 13796, 10147, 100, 187, 75528, 10978, 102498, 71204, 12105, 102], [101, 12271, 100620, 19181, 10105, 25090, 11769, 17137, 10108, 28552, 99675, 36378, 119, 102], [101, 12271, 100620, 19181, 10105, 25090, 11769, 17137, 10108, 10104, 69013, 45388, 17530, 13397, 119, 102], [101, 12271, 100620, 19181, 10531, 15438, 13262, 119, 102], [101, 29091, 14796, 44368, 26546, 14764, 57057, 10662, 32425, 12482, 119, 102], [101, 29091, 10106, 20442, 12542, 21296, 14796, 10105, 29421, 10108, 10105, 13617, 11019, 10271, 10798, 64888, 119, 102], [101, 29091, 10106, 20442, 12542, 21296, 10105, 17967, 10108, 10105, 12748, 119, 102], [101, 10167, 20442, 12542, 21296, 117, 41549, 12976, 10124, 31580, 10155, 10105, 35431, 10108, 10151, 93455, 24176, 11268, 65788, 119, 102], [101, 10167, 20442, 12542, 21296, 117, 14796, 10894, 13028, 39224, 21110, 13096, 34302, 102], [101, 29608, 23953, 169, 13398, 15541, 10164, 50555, 10188, 97645, 10114, 11616, 119, 102], [101, 29608, 23953, 10151, 62256, 10708, 169, 18765, 25609, 70098, 10308, 119, 102], [101, 29608, 23953, 10151, 62256, 10708, 169, 25609, 70098, 10308, 29659, 119, 102], [101, 29608, 23953, 10105, 11901, 22718, 10188, 10117, 10282, 23243, 10708, 11616, 119, 102], [101, 45414, 10105, 142, 118, 30211, 10345, 14180, 47727, 10686, 68120, 10108, 140, 10129, 10114, 37284, 10105, 12608, 14978, 10111, 23078, 10142, 10105, 12797, 55170, 20344, 10108, 169, 156, 49469, 77802, 16527, 10245, 14985, 28605, 47023, 119, 102], [101, 16680, 28927, 10111, 34001, 10551, 21379, 10107, 10108, 16106, 68507, 12713, 10157, 10345, 22528, 10155, 101314, 42838, 100390, 10107, 117, 55258, 10455, 41831, 30798, 10107, 102], [101, 39008, 10454, 52860, 10531, 13170, 10108, 38306, 10105, 20694, 10291, 29347, 20838, 10108, 10114, 10105, 10798, 15418, 13167, 13170, 13382, 52671, 11490, 58238, 117, 10146, 10106, 14021, 18007, 102], [101, 14962, 10894, 13028, 52860, 61354, 10169, 10105, 33861, 34454, 73238, 10111, 22570, 49248, 10142, 10105, 73099, 14585, 16357, 10111, 19129, 10108, 12126, 110123, 10112, 11165, 102], [101, 13810, 99590, 11044, 10111, 52860, 10105, 12971, 10108, 22150, 13255, 10106, 10105, 17139, 16768, 10108, 11517, 13322, 12682, 10280, 10111, 15437, 102], [101, 17235, 10105, 21983, 10106, 19367, 100237, 102], [101, 17235, 10105, 11901, 16768, 10106, 50616, 12188, 102], [101, 17235, 10105, 11901, 46971, 10107, 10146, 107433, 10107, 10106, 29182, 10123, 12188, 102], [101, 27746, 88975, 10105, 21047, 22414, 10108, 171, 60796, 10230, 102], [101, 10167, 20442, 12542, 21296, 117, 14796, 10894, 13028, 28439, 65899, 10870, 10105, 13617, 10741, 102], [101, 12271, 100620, 19181, 10105, 12126, 12331, 10108, 11762, 10551, 44707, 10106, 20442, 12542, 21296, 102], [101, 14504, 12953, 10105, 56048, 10108, 10551, 16668, 12381, 10105, 102], [101, 14504, 12953, 20442, 20627, 10106, 14616, 10169, 11989, 32095, 102], [101, 73784, 10454, 28160, 10108, 36730, 10114, 103730, 107114, 10112, 10105, 11639, 13217, 20838, 10108, 169, 13398, 15839, 119, 102], [101, 73784, 10454, 48201, 18974, 10376, 10114, 17368, 41098, 10106, 46908, 119, 102], [101, 73784, 10454, 10105, 21983, 10108, 13255, 10114, 169, 10751, 18586, 102], [101, 73784, 10454, 10105, 13617, 48027, 21701, 19353, 10114, 169, 16745, 13617, 10108, 20442, 12542, 119, 102], [101, 73784, 10454, 20442, 37149, 10105, 17952, 41576, 10114, 26800, 169, 10751, 69613, 10345, 68732, 119, 102], [101, 13450, 10105, 19211, 10108, 192, 10662, 18020, 10531, 12483, 39144, 102], [101, 41280, 32107, 10216, 10142, 192, 10106, 10105, 11901, 62256, 131, 10186, 10686, 134, 11055, 102], [101, 41280, 32107, 10216, 10105, 100745, 42507, 10822, 10108, 169, 67198, 10571, 51135, 108731, 119, 102], [101, 41280, 32107, 10216, 10105, 11487, 10108, 109436, 52070, 38016, 10161, 12797, 10920, 10189, 10894, 10347, 17468, 10114, 12188, 169, 25923, 22277, 13499, 10104, 106185, 10135, 169, 28605, 24109, 10284, 15967, 16219, 10106, 14931, 21099, 119, 102], [101, 41280, 32107, 10216, 10105, 18344, 10108, 24410, 39144, 11809, 12381, 10105, 17111, 19241, 27054, 10106, 10105, 12469, 35858, 119, 102], [101, 14820, 13028, 48515, 10105, 22414, 11031, 10114, 11152, 20627, 10108, 20442, 12542, 119, 119, 119, 136, 102], [101, 14820, 13028, 11795, 10155, 40582, 11049, 10146, 119, 119, 119, 136, 102], [101, 25059, 12419, 49376, 10105, 54156, 10111, 42852, 11345, 10114, 10105, 26699, 28179, 119, 102], [101, 50690, 14569, 169, 12723, 10189, 15107, 10472, 33400, 10160, 10105, 19185, 10111, 67004, 31237, 10189, 12723, 10124, 10472, 10151, 17952, 12008, 119, 102], [101, 50690, 14569, 11178, 158, 119, 156, 119, 12931, 10111, 67004, 14796, 10261, 56120, 10162, 10226, 13183, 10146, 25783, 10106, 16730, 10108, 10105, 51383, 22319, 119, 102], [101, 16680, 27876, 10112, 10105, 11168, 10108, 14012, 99818, 119, 102], [101, 16680, 27876, 10112, 10105, 15901, 10108, 169, 56473, 102], [101, 12845, 42461, 14526, 169, 13192, 10114, 98343, 14796, 10271, 11337, 11424, 119, 102], [101, 70222, 79383, 14796, 10105, 21396, 32728, 119, 102], [101, 70222, 79383, 14796, 10531, 12174, 11424, 10106, 10151, 17425, 29421, 136, 102], [101, 70222, 79383, 13382, 10105, 55355, 30340, 10111, 20442, 22975, 10108, 23187, 17583, 10114, 17860, 169, 12748, 10978, 32461, 37627, 119, 102], [101, 70222, 79383, 14796, 20442, 16511, 100, 187, 19182, 16470, 26901, 18213, 10301, 37947, 10114, 10105, 17032, 10108, 20138, 11517, 119, 102], [101, 10445, 11942, 169, 37403, 16490, 10350, 13192, 10188, 34176, 11165, 119, 102], [101, 13810, 99590, 11044, 10151, 48580, 10114, 57085, 10105, 20210, 10108, 10105, 21274, 10108, 25512, 10135, 10105, 18042, 10108, 10151, 29331, 119, 102], [101, 12845, 42461, 14526, 169, 17313, 40919, 10142, 20442, 21535, 13382, 169, 11053, 40919, 10146, 169, 13192, 119, 102], [101, 12845, 42461, 14526, 169, 16205, 16868, 51091, 12483, 10189, 10212, 27876, 10171, 11988, 16868, 10142, 12676, 14616, 10533, 19573, 10345, 15306, 10111, 11988, 16868, 10142, 12676, 14616, 10491, 10533, 19573, 119, 102], [101, 11612, 26426, 124, 54156, 37501, 10105, 17967, 117, 20181, 10111, 29077, 10108, 10105, 13617, 119, 102], [101, 11612, 26426, 169, 36761, 10108, 10105, 77911, 112, 13215, 119, 102], [101, 11612, 26426, 169, 36761, 10108, 10105, 11783, 20395, 96258, 80602, 10114, 10105, 20724, 119, 102], [101, 12222, 10105, 12929, 13507, 117, 10944, 13028, 26800, 169, 11847, 10108, 68026, 10978, 119, 119, 119, 136, 102], [101, 14962, 12174, 30455, 92734, 24203, 10105, 32548, 63072, 10114, 13086, 10271, 26874, 10142, 14108, 10230, 169, 57680, 10142, 169, 17895, 136, 102], [101, 14962, 20970, 87089, 10107, 10106, 10105, 10609, 10859, 10347, 40957, 12277, 169, 10798, 79456, 11130, 11787, 10309, 24726, 136, 102], [101, 14535, 19899, 10301, 14579, 10135, 10105, 13853, 100, 187, 13575, 117, 14796, 14819, 12676, 19899, 10347, 11031, 136, 102], [101, 10167, 169, 27291, 98925, 10169, 20442, 56921, 10107, 12971, 118, 14879, 24886, 21958, 13501, 117, 98343, 10105, 48300, 10108, 74720, 90202, 10106, 13596, 25525, 61236, 10111, 69977, 169, 13877, 15975, 26799, 10108, 12976, 44936, 10939, 10105, 98925, 10189, 106568, 11912, 10105, 48300, 119, 102], [101, 26742, 169, 14283, 46582, 10114, 32941, 19265, 19779, 10151, 12452, 14416, 119, 102], [101, 26742, 169, 17895, 118, 109664, 10112, 14876, 10114, 12363, 44622, 12929, 10978, 10151, 14416, 119, 102], [101, 26742, 169, 187, 40333, 10410, 24777, 10978, 10105, 14544, 10108, 14687, 119, 102], [101, 26742, 10741, 169, 34597, 75484, 11661, 13382, 10105, 23802, 10188, 10105, 14687, 11168, 119, 102], [101, 14398, 10151, 17952, 15216, 10142, 10105, 10751, 75992, 23310, 119, 102], [101, 19644, 10598, 86891, 10106, 169, 60914, 10174, 13685, 102], [101, 90138, 106788, 12976, 105315, 10114, 161, 12277, 162, 53306, 119, 102], [101, 35248, 57477, 13028, 10301, 10464, 10108, 10105, 19174, 10106, 10105, 12748, 119, 160, 39077, 169, 10671, 10908, 10978, 10105, 84630, 18800, 10106, 20442, 12103, 10142, 10551, 29864, 13990, 119, 102], [101, 20304, 23953, 10105, 48300, 10108, 74720, 90202, 10114, 13596, 25525, 61236, 119, 102], [101, 20304, 23953, 66575, 14876, 10114, 13939, 15374, 102], [101, 20304, 23953, 20442, 10992, 29481, 13617, 10940, 20442, 11760, 10108, 19765, 10106, 10105, 13596, 25525, 10393, 95757, 10336, 169, 17912, 89097, 10169, 169, 16470, 10345, 13501, 102], [101, 14962, 10894, 13028, 110205, 12956, 19228, 10169, 12956, 40919, 102], [101, 13450, 117, 11222, 12971, 118, 12253, 117, 10105, 11070, 18167, 10106, 10105, 14671, 119, 102], [101, 19655, 10612, 169, 82116, 18077, 13382, 29626, 48244, 10345, 29659, 102], [101, 19655, 10612, 10142, 10105, 11769, 11901, 107433, 21247, 95647, 20390, 119, 47464, 13086, 62452, 10114, 11897, 10435, 20442, 11424, 119, 102], [101, 100393, 13028, 100679, 11762, 10551, 20390, 13382, 13213, 63036, 102], [101, 45414, 10159, 30236, 10114, 100679, 10105, 11901, 20390, 102], [101, 14820, 13028, 100679, 10105, 11901, 18077, 102], [101, 14962, 10114, 32650, 95076, 24203, 10105, 21316, 18603, 10111, 21316, 15839, 23509, 10108, 10105, 13540, 10106, 10105, 16277, 102], [101, 46361, 95076, 24203, 10105, 59925, 14010, 10108, 169, 79332, 46178, 18309, 63646, 10230, 11610, 10135, 10160, 73205, 11165, 136, 113, 13277, 123, 114, 102], [101, 46361, 95076, 24203, 10105, 59925, 14010, 10108, 169, 79332, 46178, 18309, 63646, 10230, 11610, 10135, 10160, 73205, 11165, 136, 113, 13277, 123, 114, 102], [101, 14962, 15107, 10464, 32650, 95076, 24203, 10105, 14379, 10213, 100563, 67028, 102], [101, 46361, 95076, 24203, 169, 10349, 91724, 26536, 13275, 80410, 18257, 17480, 10263, 113, 104143, 10738, 114, 11639, 10812, 27170, 19308, 10105, 102], [101, 21200, 169, 14903, 10108, 54194, 10114, 98343, 169, 15018, 12331, 119, 102], [101, 45414, 169, 109513, 10376, 13192, 10114, 10212, 27876, 10112, 57476, 10135, 36931, 10114, 70916, 13041, 100106, 10111, 25103, 19738, 34495, 119, 102], [101, 45414, 169, 33595, 10114, 87838, 12436, 10151, 69312, 112, 187, 10321, 26287, 10635, 119, 102], [101, 45414, 10105, 18527, 61330, 10111, 18849, 10108, 99435, 10114, 87838, 12436, 10105, 18849, 10108, 169, 15701, 37307, 13382, 169, 25609, 70098, 10308, 119, 102], [101, 45414, 10105, 21983, 10142, 169, 15900, 28266, 10115, 10106, 169, 49219, 119, 102], [101, 12489, 31075, 10894, 13028, 15453, 12277, 119, 119, 119, 136, 102], [101, 12489, 26686, 10894, 13028, 63001, 12277, 119, 119, 119, 136, 102], [101, 14516, 10944, 11760, 12976, 11951, 21852, 10978, 10312, 12978, 10107, 10111, 26282, 10531, 38869, 136, 102], [101, 100393, 10531, 12929, 10347, 48765, 12277, 13028, 10374, 169, 119, 119, 119, 136, 102], [101, 156, 13650, 10269, 169, 78089, 10108, 10105, 13939, 19515, 10142, 10105, 40258, 10108, 106095, 50173, 13420, 52743, 10115, 10106, 83757, 123, 102], [101, 156, 13650, 10269, 10105, 15045, 38078, 67088, 10107, 10142, 56503, 10266, 107456, 10188, 10105, 13967, 10111, 10105, 11012, 102], [101, 156, 13650, 10269, 169, 36772, 11357, 99457, 15138, 10106, 169, 78978, 10336, 41278, 10169, 74944, 51300, 10822, 10106, 12188, 10108, 102], [101, 156, 13650, 10269, 169, 81590, 10108, 84204, 32412, 10635, 10142, 10105, 10741, 16988, 10111, 12935, 16988, 15569, 10108, 169, 20724, 100, 187, 23578, 102], [101, 14962, 10149, 33003, 37247, 10107, 11760, 16964, 10106, 79515, 10107, 10111, 73312, 58945, 136, 102], [101, 45414, 10105, 11132, 118, 24778, 14079, 15839, 10114, 37284, 21883, 24523, 12789, 10940, 174, 10929, 113, 192, 114, 134, 121, 13641, 24317, 25315, 92098, 10345, 25315, 66067, 102], [101, 45414, 10105, 69191, 22060, 73418, 10114, 37284, 21883, 10105, 11901, 10551, 18873, 10301, 69191, 168, 16197, 119, 13450, 73842, 31877, 102], [101, 45414, 38710, 27413, 10114, 35905, 10189, 10105, 11901, 38710, 10124, 64999, 119, 102], [101, 45414, 169, 83413, 16683, 17860, 10105, 45809, 19211, 10108, 11948, 23515, 102], [101, 45414, 96830, 100, 13216, 10114, 17860, 10105, 25031, 13939, 10948, 10105, 53778, 10841, 10105, 18163, 10135, 11345, 10124, 154, 102], [101, 12489, 105315, 12277, 13028, 17333, 18570, 10123, 169, 37284, 54739, 15138, 10114, 169, 13987, 14488, 155, 156, 136, 102], [101, 12489, 10894, 84630, 12277, 10105, 91549, 15790, 10162, 10106, 20442, 11388, 13451, 10924, 102], [101, 12489, 105315, 12277, 13028, 15453, 10105, 15599, 10108, 10105, 27920, 62303, 113, 10473, 10472, 10474, 15851, 114, 136, 102], [101, 12489, 10894, 13028, 10149, 12277, 169, 18296, 14609, 10108, 63318, 10374, 25738, 102], [101, 12489, 10894, 14493, 12277, 100, 102], [101, 12489, 23068, 10894, 13028, 11760, 10114, 35905, 10105, 47226, 10108, 10105, 17544, 33311, 102], [101, 12845, 42461, 14526, 10464, 73162, 16840, 10142, 93709, 11948, 10108, 10105, 11901, 28277, 102], [101, 12845, 42461, 14526, 169, 19561, 13538, 68120, 10114, 37284, 10105, 64999, 11949, 10108, 10105, 13507, 36847, 119, 102], [101, 12845, 42461, 14526, 169, 41399, 10111, 169, 47226, 21783, 10114, 37284, 12277, 10105, 11901, 70808, 10301, 64988, 19777, 30647, 102], [101, 14962, 10944, 11951, 80392, 145, 13507, 146, 117, 139, 10111, 142, 136, 102], [101, 12845, 42461, 14526, 169, 11365, 10108, 44570, 10114, 98343, 10189, 10105, 11487, 10108, 12902, 13484, 29738, 10107, 10106, 169, 17175, 10944, 10347, 11419, 87107, 10415, 10106, 10105, 15851, 10108, 10105, 17175, 102], [101, 14962, 10149, 13028, 80392, 174, 49057, 15024, 10135, 169, 13507, 52321, 38079, 150, 136, 102], [101, 14962, 10114, 12845, 42461, 14526, 10105, 12160, 34762, 10161, 14883, 100081, 12150, 33918, 102], [101, 14962, 10114, 80392, 16205, 44901, 10841, 20390, 10301, 17217, 136, 102], [101, 12845, 42461, 14526, 10105, 125, 118, 55568, 155, 17437, 22238, 31626, 25474, 11304, 28418, 102], [101, 12845, 42461, 14526, 10151, 58577, 24897, 10169, 10105, 11901, 19182, 24965, 102], [101, 12845, 42461, 14526, 10105, 12159, 66339, 10108, 10105, 56658, 36175, 66805, 10667, 13507, 10106, 10105, 16741, 20210, 102], [101, 14962, 10149, 11951, 80392, 32124, 10189, 10944, 80498, 119, 100, 15198, 100, 33514, 102], [101, 14962, 10114, 80392, 10105, 19546, 12929, 11787, 102], [101, 13450, 14796, 10689, 10529, 11031, 46966, 17637, 86985, 49781, 10114, 10105, 15620, 102], [101, 13450, 14796, 10114, 92734, 24203, 36448, 38732, 112, 187, 73418, 13507, 10106, 13596, 18745, 10114, 72992, 10446, 118, 92530, 102], [101, 13450, 14796, 142, 118, 44912, 11517, 10944, 10347, 11031, 10114, 33992, 29465, 12956, 10230, 10146, 44191, 10106, 10105, 13262, 102], [101, 14962, 10894, 13028, 11897, 20442, 37149, 10108, 10105, 16052, 15138, 102], [101, 13450, 10911, 14796, 13028, 10894, 43662, 10105, 40225, 10112, 71123, 10301, 14616, 10135, 10531, 13000, 102], [101, 16377, 10454, 10870, 43966, 10111, 57195, 30686, 10108, 11762, 15374, 119, 102], [101, 16377, 10454, 10870, 10105, 40582, 10108, 12127, 73257, 119, 102], [101, 16377, 10454, 10870, 10105, 42641, 10111, 55434, 10108, 169, 12127, 12717, 119, 102], [101, 16377, 10454, 10870, 10105, 18077, 117, 51361, 10230, 10474, 39523, 119, 102], [101, 38130, 12935, 10105, 34378, 10108, 169, 14979, 10458, 26665, 10111, 67004, 14796, 10689, 51476, 14526, 10114, 13086, 10105, 21432, 11424, 119, 102], [101, 38130, 12935, 10105, 12126, 22115, 10108, 10105, 13617, 119, 102], [101, 12716, 10212, 101813, 10376, 10105, 14876, 10108, 10105, 10361, 31981, 20149, 53778, 10114, 10105, 63406, 14876, 117, 12976, 10106, 52790, 10107, 10944, 13028, 13086, 136, 102], [101, 14820, 13028, 52860, 20442, 119, 119, 119, 10169, 10189, 20027, 10106, 119, 119, 119, 136, 102], [101, 14820, 13028, 98291, 10948, 119, 119, 119, 136, 102], [101, 14820, 13028, 67004, 12976, 14982, 10529, 44936, 10841, 119, 119, 119, 136, 102], [101, 14820, 13028, 17860, 11598, 12902, 68478, 26907, 13258, 10113, 10374, 10939, 10105, 13617, 136, 102], [101, 16680, 28927, 10111, 34001, 22528, 10189, 10105, 13596, 10393, 11019, 119, 102], [101, 16680, 28927, 10111, 34001, 17446, 11393, 10114, 10684, 25240, 119, 102], [101, 16680, 28927, 10111, 34001, 12229, 30512, 26686, 117, 96149, 48281, 10230, 26686, 10111, 33687, 60287, 11912, 11419, 11008, 26686, 117, 11198, 14796, 11948, 110205, 10107, 10114, 10105, 19864, 19049, 10230, 15138, 136, 102], [101, 16680, 28927, 10111, 34001, 10105, 12286, 16220, 13192, 10169, 10105, 26739, 53320, 10230, 13192, 119, 102], [101, 16680, 28927, 10111, 34001, 10551, 19174, 10106, 10105, 12748, 119, 102], [101, 16680, 28927, 18042, 10111, 26053, 102], [101, 16680, 28927, 108016, 50360, 10251, 10111, 13000, 10342, 19360, 13499, 22528, 10135, 169, 19561, 13538, 68120, 119, 102], [101, 16680, 28927, 14796, 12902, 12694, 10678, 10114, 11393, 119, 102], [101, 16680, 28927, 10105, 11192, 10940, 10105, 13617, 44936, 10169, 10940, 13028, 12962, 119, 102], [101, 16680, 28927, 10531, 12748, 10114, 10105, 12469, 12748, 13028, 24944, 119, 102], [101, 16680, 28927, 11003, 69173, 10107, 13382, 169, 19561, 13538, 68120, 119, 102], [101, 16680, 28927, 10551, 17835, 18301, 17331, 10107, 119, 12489, 10124, 10105, 30856, 10948, 11345, 10111, 14796, 10149, 10689, 11408, 36300, 10455, 20895, 136, 102], [101, 16680, 28927, 10551, 10108, 10105, 19174, 10106, 10531, 12748, 119, 102], [101, 12845, 54489, 10151, 32719, 10114, 17368, 12929, 10114, 13145, 169, 17904, 119, 102], [101, 62046, 10562, 12585, 10106, 10105, 41328, 15245, 10169, 12585, 10106, 169, 16965, 71027, 88975, 119, 102], [101, 62046, 10562, 17952, 57700, 10108, 18745, 10169, 57700, 10108, 17781, 17952, 13332, 119, 102], [101, 69627, 45788, 10948, 119, 20575, 10155, 19211, 10111, 20575, 10155, 21457, 119, 102], [101, 69627, 45788, 31210, 10575, 19367, 31886, 10142, 28179, 10230, 11284, 109361, 10107, 10111, 10142, 173, 16575, 10230, 11165, 119, 102], [101, 101270, 12141, 31466, 10237, 10948, 54396, 10111, 57251, 10567, 55181, 119, 102], [101, 101270, 12141, 31466, 10237, 73367, 10188, 15165, 37604, 80450, 10107, 102], [101, 12944, 41638, 10105, 13617, 10708, 78754, 70791, 10376, 14416, 117, 53816, 14204, 117, 21700, 10686, 117, 10111, 54756, 14204, 102], [101, 27746, 45980, 12976, 58170, 10114, 13086, 169, 15198, 19185, 136, 48922, 10978, 17920, 117, 52561, 10107, 117, 18204, 10111, 11426, 119, 102], [101, 27746, 88975, 10105, 13719, 10173, 10761, 17026, 15300, 117, 10155, 14293, 21457, 10114, 10105, 12902, 19164, 10108, 75875, 10114, 10319, 10689, 12174, 73746, 119, 102], [101, 16377, 10454, 10870, 10105, 19737, 10111, 25785, 12789, 20027, 53047, 10105, 11357, 102322, 10108, 31199, 10111, 28685, 169, 29040, 113, 123, 118, 124, 36795, 114, 57265, 10108, 20442, 19129, 119, 102], [101, 69627, 45788, 10105, 75727, 10189, 30272, 169, 13736, 53610, 79151, 117, 10111, 12676, 10189, 30272, 10151, 53610, 112, 187, 13736, 19316, 119, 102], [101, 14962, 15107, 20442, 32784, 101300, 10188, 10684, 22528, 136, 102], [101, 14962, 15107, 119, 119, 119, 52860, 120, 34001, 10169, 119, 119, 119, 136, 102], [101, 14962, 10124, 119, 119, 119, 13213, 10114, 119, 119, 119, 136, 102], [101, 14962, 10134, 12103, 12902, 10106, 20442, 12221, 10407, 10855, 36390, 136, 102], [101, 14962, 10134, 10531, 13213, 10114, 119, 119, 119, 136, 102], [101, 14962, 10894, 10531, 13617, 10347, 12902, 12277, 10271, 10374, 44936, 10106, 169, 12902, 12723, 136, 102], [101, 14962, 10894, 13028, 98291, 10948, 16304, 16889, 42009, 36967, 10111, 82356, 15127, 20316, 13434, 10106, 169, 11276, 118, 10924, 118, 12898, 10817, 10169, 61285, 14010, 10111, 169, 59329, 10237, 136, 102], [101, 14535, 20442, 13617, 44936, 10106, 169, 20796, 11773, 117, 52860, 10189, 11773, 10114, 10105, 10609, 10859, 119, 102], [101, 14535, 20442, 13617, 25738, 11695, 36390, 117, 52860, 10189, 10635, 10169, 18745, 10106, 169, 15198, 10220, 28176, 119, 14535, 10271, 10134, 169, 13456, 13617, 117, 52860, 10271, 10169, 169, 11695, 10635, 36390, 10111, 41549, 12976, 10894, 10347, 12902, 119, 102], [101, 10167, 63996, 21305, 64502, 10107, 10189, 10944, 10110, 100586, 16711, 19185, 119, 102], [101, 26742, 169, 80375, 10345, 106615, 10157, 10870, 169, 13474, 14687, 119, 102], [101, 80859, 10105, 73113, 10108, 10105, 11943, 10111, 106615, 10157, 10870, 31237, 13028, 25720, 10531, 15042, 119, 102], [101, 14535, 17644, 10309, 59550, 10336, 61673, 17427, 10108, 27636, 117, 12976, 10894, 10105, 30856, 10106, 17644, 10347, 136, 102], [101, 12489, 10301, 10105, 15569, 10345, 15374, 10108, 119, 119, 119, 136, 102], [101, 101270, 12141, 31466, 10237, 10948, 10105, 11901, 24426, 55668, 36839, 102], [101, 101270, 12141, 31466, 10237, 10948, 66770, 13664, 19164, 113, 22992, 11090, 10107, 114, 10111, 53187, 10107, 10108, 22992, 11090, 10107, 102], [101, 14962, 10149, 13028, 98291, 10948, 10105, 16292, 10525, 118, 77596, 120, 32385, 13808, 12807, 10108, 12797, 10246, 30967, 59097, 15404, 10113, 10111, 11499, 89337, 10113, 59097, 15404, 10113, 117, 32385, 13808, 12807, 102], [101, 14962, 15107, 157, 10229, 10410, 101300, 10188, 157, 10162, 10321, 28217, 10238, 102], [101, 14962, 15107, 18257, 100395, 101300, 10169, 12089, 102], [101, 10167, 12976, 30360, 10149, 16762, 84646, 25779, 101300, 10188, 17416, 84646, 25779, 102], [101, 10167, 12976, 30360, 72695, 79181, 49864, 101300, 18071, 10114, 16052, 102], [101, 14962, 10149, 97764, 14950, 97603, 101300, 10106, 10455, 11389, 54039, 10107, 32216, 12628, 14039, 25599, 102], [101, 14962, 12172, 13299, 48473, 101300, 10188, 10808, 102], [101, 14962, 15107, 11683, 17004, 60524, 101300, 18745, 10188, 60524, 10551, 10855, 11360, 102], [101, 14962, 15107, 10151, 11572, 91235, 10426, 101300, 10188, 169, 27291, 93552, 102], [101, 14962, 10149, 11951, 65114, 12436, 10948, 15331, 63251, 47715, 10165, 10111, 10571, 51652, 47715, 10165, 102], [101, 14962, 10149, 11951, 65114, 12436, 10948, 10151, 21213, 10111, 10151, 22021, 59648, 10822, 136, 102], [101, 69627, 45788, 10948, 10105, 11901, 18873, 12400, 10169, 49781, 36839, 102], [101, 69627, 45788, 10105, 11901, 28277, 13382, 10105, 48718, 62792, 21983, 102], [101, 14820, 13028, 65114, 12436, 10948, 34216, 13299, 10111, 34216, 20501, 10107, 102], [101, 14962, 10894, 13028, 65114, 12436, 17339, 42461, 36223, 26219, 32239, 10107, 10188, 12397, 26219, 32239, 10107, 102], [101, 14962, 10894, 13028, 65114, 12436, 169, 13920, 10188, 169, 12483, 102], [101, 14962, 10124, 23301, 40316, 13213, 10114, 26210, 11630, 32565, 18071, 10114, 82567, 102], [101, 10167, 12976, 30360, 10124, 183, 46776, 76058, 76920, 10341, 13213, 10114, 10684, 61914, 22525, 14166, 10112, 45579, 117, 10111, 14796, 15107, 10271, 101300, 102], [101, 10167, 12976, 30360, 10301, 174, 31978, 10171, 13213, 10114, 45825, 13136, 10111, 67968, 102], [101, 14962, 10301, 10105, 64325, 11268, 87192, 10169, 17421, 11490, 13213, 10108, 12902, 10188, 11948, 10684, 10106, 10455, 19023, 10108, 24990, 24194, 27160, 10107, 136, 102], [101, 27746, 45980, 10105, 11165, 10106, 10105, 20569, 11127, 11369, 11403, 14703, 95825, 10731, 10111, 25067, 52099, 46935, 42424, 77261, 10731, 61939, 102], [101, 27746, 45980, 10105, 39336, 10948, 10105, 13192, 105376, 10105, 10992, 43626, 45856, 10111, 10105, 13192, 11198, 10435, 39544, 119, 102], [101, 47345, 10454, 11419, 45980, 10105, 33318, 10107, 10111, 61285, 14010, 10171, 10108, 10105, 65585, 11293, 10220, 17208, 10147, 102], [101, 27746, 45980, 39336, 10948, 10105, 17574, 10108, 11948, 16080, 56673, 10230, 21834, 119, 102], [101, 27746, 45980, 11131, 42920, 10105, 13507, 14876, 19868, 14526, 10135, 10105, 11901, 15975, 10114, 15217, 13028, 11424, 10950, 10105, 56120, 17544, 119, 102], [101, 10167, 77229, 11948, 10108, 11762, 102498, 63101, 87621, 117, 10111, 37284, 21883, 11948, 10464, 10124, 169, 28439, 10108, 20895, 117, 10345, 169, 21535, 10108, 28439, 10107, 102], [101, 10167, 77229, 10105, 15851, 10108, 10105, 103927, 11165, 131, 14796, 11299, 32804, 10111, 39523, 15107, 10105, 109183, 11165, 50616, 36003, 136, 102], [101, 14820, 13028, 98291, 10142, 10911, 10948, 12976, 10124, 27949, 38565, 33478, 10400, 93870, 10284, 10111, 12976, 10301, 11419, 99274, 58656, 10107, 102], [101, 14820, 13028, 98291, 30262, 52522, 10107, 10188, 10153, 18832, 52522, 10107, 10155, 39709, 13503, 102], [101, 14820, 13028, 98291, 15050, 12647, 52522, 10107, 10188, 41278, 12647, 52522, 10107, 10155, 84298, 102], [101, 10167, 77229, 10105, 36265, 10108, 38324, 23188, 25315, 10114, 10105, 100, 11053, 100, 12304, 19211, 102], [101, 14962, 15107, 20442, 34649, 15498, 51511, 11327, 10474, 11419, 51511, 11809, 10142, 72931, 102], [101, 14962, 10114, 15498, 51511, 10111, 37215, 54181, 12286, 13651, 59208, 10376, 16768, 83438, 102], [101, 14820, 13028, 106615, 10157, 10870, 10105, 25038, 49185, 10111, 37284, 10319, 14819, 10347, 55583, 10336, 10326, 60764, 10454, 102], [101, 14820, 13028, 20648, 42658, 10112, 106615, 10157, 10870, 13456, 25396, 15162, 10111, 41549, 10911, 14796, 20442, 11424, 17724, 169, 17912, 10668, 10106, 10105, 19602, 10108, 17446, 11841, 118, 84984, 10562, 15162, 136, 102], [101, 14962, 46767, 12172, 13501, 106615, 10157, 10870, 15348, 19509, 10135, 14025, 117, 13596, 117, 10111, 12377, 82065, 10525, 11222, 18257, 16813, 79422, 67569, 11046, 102], [101, 14962, 10149, 13028, 106615, 10157, 10870, 169, 92379, 10454, 40089, 11090, 102], [101, 62046, 10562, 10105, 21379, 10108, 107, 11206, 11053, 107, 18908, 64711, 16491, 10155, 10728, 26295, 10111, 10155, 80047, 30331, 10731, 26295, 102], [101, 62046, 10562, 10105, 19159, 10107, 11517, 50667, 26126, 10135, 17290, 10169, 10105, 11319, 35679, 102], [101, 14962, 15107, 21729, 34001, 10111, 52860, 10114, 13668, 136, 102], [101, 10167, 63996, 21305, 21883, 10345, 10472, 10105, 11787, 24154, 10347, 100679, 10162, 10142, 192, 132, 193, 132, 194, 102], [101, 10167, 63996, 21305, 113, 12331, 48339, 114, 10173, 12563, 40078, 10111, 48573, 10173, 12563, 40078, 10108, 10105, 13507, 11366, 10108, 28277, 102], [101, 14962, 10894, 13028, 78189, 10531, 38607, 102], [101, 14962, 10894, 13028, 78189, 10531, 11357, 89304, 11949, 102], [101, 12489, 10944, 146, 10149, 10114, 78189, 10531, 18077, 14586, 102], [101, 14962, 10105, 32719, 10134, 92311, 102], [101, 14962, 10894, 13028, 65114, 12436, 10948, 75382, 43329, 10686, 10111, 50588, 102], [101, 14962, 10149, 146, 65114, 12436, 10948, 107, 10104, 91199, 10612, 107, 10111, 107, 10262, 10526, 10135, 107, 136, 102], [101, 73784, 10454, 10111, 81570, 10216, 11736, 12902, 86985, 10114, 100679, 169, 73469, 18077, 113, 10472, 18071, 10114, 10464, 29659, 113, 102], [101, 14820, 13028, 18842, 10751, 10111, 46941, 19873, 10142, 119, 119, 119, 136, 102], [101, 14820, 13028, 13684, 169, 119, 119, 119, 10114, 119, 119, 119, 136, 102], [101, 14820, 13028, 26800, 169, 43542, 10319, 10894, 119, 119, 119, 136, 102], [101, 14820, 13028, 10106, 22657, 12864, 15092, 10142, 10105, 13617, 136, 102], [101, 14820, 13028, 12888, 169, 14128, 28502, 10114, 119, 119, 119, 136, 102], [101, 14820, 13028, 28685, 169, 10751, 11639, 10598, 11355, 10142, 169, 30853, 11195, 27920, 10237, 136, 102], [101, 50690, 14569, 169, 15092, 119, 20304, 21428, 12704, 169, 18167, 10188, 10105, 13617, 10188, 10531, 15092, 112, 187, 12331, 10108, 17904, 119, 102], [101, 16680, 36848, 11178, 10551, 18204, 10114, 26800, 169, 10751, 17952, 17925, 119, 102], [101, 16680, 36848, 17464, 10108, 15344, 117, 11839, 117, 10111, 20412, 10708, 169, 15365, 68533, 119, 102], [101, 16680, 50864, 169, 13596, 13617, 119, 102], [101, 16680, 50864, 169, 51077, 10948, 11699, 72294, 92141, 10111, 12275, 13895, 10841, 10689, 10422, 10428, 119, 102], [101, 16680, 50864, 169, 51720, 10345, 14499, 10751, 21296, 10114, 169, 11053, 10911, 51861, 10157, 119, 102], [101, 16680, 50864, 169, 16205, 35562, 10345, 186, 19275, 10627, 10978, 74167, 22528, 119, 102], [101, 16680, 50864, 11839, 10142, 169, 12127, 12717, 12253, 119, 102], [101, 16680, 50864, 169, 17876, 140, 12483, 10189, 91160, 15541, 76060, 10188, 169, 15541, 23198, 10708, 169, 55668, 11165, 102], [101, 16680, 50864, 169, 33091, 10189, 10894, 40960, 10151, 73113, 10106, 10455, 15722, 119, 102], [101, 16680, 50864, 10151, 11364, 11424, 10319, 103525, 12403, 14624, 23193, 10106, 38359, 119, 102], [101, 16680, 50864, 20442, 12542, 19864, 118, 18084, 13684, 10189, 103525, 10435, 10105, 11488, 25314, 24115, 10108, 10105, 32548, 63072, 119, 102], [101, 140, 104379, 169, 21746, 10189, 52860, 10107, 24682, 10189, 11760, 55955, 10111, 24682, 10189, 10149, 49307, 11090, 11760, 55955, 119, 102], [101, 140, 104379, 169, 10751, 21535, 119, 36472, 10271, 169, 11324, 10111, 13065, 169, 29465, 17323, 119, 102], [101, 140, 104379, 169, 10751, 12011, 10142, 10105, 17975, 12117, 10108, 107, 12176, 10374, 169, 16745, 10109, 27012, 107, 119, 102], [101, 140, 104379, 169, 11847, 10108, 25083, 31782, 10114, 37284, 10105, 12789, 10108, 169, 16430, 109036, 10114, 39236, 18309, 29162, 12333, 11046, 119, 102], [101, 140, 104379, 169, 13617, 25690, 10142, 169, 48333, 10114, 20442, 12748, 119, 45414, 10105, 11561, 19174, 119, 102], [101, 140, 104379, 10151, 62256, 10114, 30382, 10105, 28502, 10114, 10531, 18077, 119, 102], [101, 140, 104379, 10111, 28840, 169, 12253, 10978, 12127, 73257, 119, 102], [101, 140, 104379, 13065, 10108, 11436, 26069, 10155, 46908, 12166, 88530, 119, 102], [101, 17732, 169, 12585, 18071, 10114, 13507, 19182, 24965, 102], [101, 17732, 169, 18849, 26874, 40919, 10114, 74195, 103581, 11165, 119, 102], [101, 17732, 169, 21432, 10114, 28840, 169, 19182, 37758, 119, 102], [101, 17732, 169, 10751, 18882, 10114, 12962, 10106, 10105, 104783, 119, 102], [101, 17732, 169, 89897, 10142, 10531, 12748, 119, 102], [101, 17732, 169, 38306, 58496, 10114, 13935, 22094, 10105, 10846, 97782, 68348, 10108, 10151, 20779, 10157, 10114, 10347, 11031, 10106, 169, 13507, 26069, 136, 102], [101, 17732, 10111, 13086, 10151, 18882, 10189, 49157, 119, 102], [101, 17732, 58176, 10142, 10105, 19174, 119, 102], [101, 17732, 10105, 20783, 10108, 10105, 16042, 11787, 11610, 10135, 10105, 39282, 23908, 10106, 10105, 21176, 20304, 72326, 10426, 46361, 95076, 22060, 25166, 102], [101, 89586, 22112, 10410, 169, 79357, 119, 102], [101, 89586, 22112, 10410, 169, 13065, 10142, 169, 10751, 17952, 31156, 10162, 11512, 119, 102], [101, 89586, 22112, 10410, 169, 156, 19282, 10738, 18424, 10142, 169, 16042, 13405, 13920, 10319, 10124, 23908, 10106, 10105, 36957, 25166, 119, 102], [101, 89586, 22112, 10410, 169, 13170, 10114, 59816, 10105, 19228, 10108, 107, 10840, 56617, 24407, 107, 119, 102], [101, 89586, 22112, 10410, 10464, 71393, 15780, 11203, 29077, 10142, 10435, 11003, 13716, 21158, 17544, 119, 102], [101, 73503, 10341, 169, 10751, 13925, 11787, 11610, 10135, 10105, 35688, 10189, 19034, 32120, 119, 102], [101, 73503, 10341, 18195, 10114, 17313, 10345, 13086, 64271, 10798, 69974, 119, 102], [101, 11612, 26426, 169, 26920, 10189, 19873, 13547, 45985, 10108, 39836, 10114, 43250, 10474, 18514, 119, 102], [101, 27746, 88975, 14796, 10105, 48806, 19228, 10108, 12261, 59208, 45079, 40852, 12174, 10347, 11031, 10114, 15217, 100679, 12142, 10454, 13745, 20390, 11850, 12286, 68280, 117, 10491, 105739, 10230, 47243, 10537, 10525, 11773, 41784, 11747, 117, 10345, 11816, 14985, 14010, 119, 102], [101, 27746, 88975, 31237, 10271, 10124, 22497, 10189, 169, 17255, 11021, 24030, 10415, 11365, 11787, 10894, 10347, 11823, 10106, 169, 17255, 31860, 44207, 10161, 10345, 17255, 95660, 32239, 10161, 19912, 119, 102], [101, 18317, 10105, 38877, 10108, 10105, 19639, 10108, 29162, 12333, 11046, 10189, 10309, 16247, 10106, 169, 31562, 117, 11639, 22530, 101480, 169, 28502, 10114, 33253, 10531, 31562, 136, 102], [101, 90491, 10551, 93780, 62624, 13684, 10151, 48580, 10114, 52860, 11345, 119, 102], [101, 14962, 12174, 11951, 37284, 10105, 11487, 10108, 62603, 11624, 10106, 169, 10201, 10129, 13663, 47777, 10230, 11345, 136, 102], [101, 14962, 12174, 13028, 11639, 118, 28685, 10531, 13617, 10169, 169, 11584, 29421, 136, 102], [101, 14962, 10149, 10105, 104911, 10107, 10111, 87621, 13507, 10106, 10105, 13262, 10319, 37156, 41525, 60493, 70808, 117, 14107, 10114, 10105, 11003, 17531, 12608, 70808, 102], [101, 14962, 11299, 30360, 10944, 13028, 119, 119, 119, 136, 102], [101, 14962, 10894, 10105, 158, 119, 156, 119, 138, 119, 10347, 12902, 12277, 10105, 11056, 10374, 11367, 10105, 14906, 11277, 136, 102], [101, 14962, 10894, 13028, 15453, 10105, 13617, 10114, 18842, 169, 12902, 29077, 136, 102], [101, 14962, 10894, 13028, 18842, 120, 13684, 169, 10751, 119, 119, 119, 136, 102], [101, 14962, 10894, 13028, 17333, 11680, 57336, 10105, 11393, 11940, 10114, 67569, 12694, 112, 187, 13405, 10415, 28615, 136, 102], [101, 146, 21029, 48281, 10464, 18077, 10106, 10105, 12748, 10111, 18090, 10151, 43382, 28502, 10464, 10472, 13507, 10155, 10105, 17034, 119, 102], [101, 14535, 13028, 10374, 18314, 10114, 10435, 25744, 14796, 10894, 13028, 19918, 10169, 119, 119, 119, 136, 102], [101, 81687, 13476, 19779, 15722, 10188, 11736, 19023, 10114, 100679, 169, 18077, 119, 102], [101, 10167, 22657, 169, 21432, 10114, 10149, 169, 19182, 37758, 119, 102], [101, 17116, 48281, 20442, 30865, 10108, 11165, 13926, 119, 102], [101, 26742, 169, 12429, 76557, 10189, 10840, 30013, 13041, 10105, 12748, 119, 160, 39077, 10271, 10950, 119, 102], [101, 26742, 10741, 169, 10751, 13702, 16964, 10111, 28685, 13540, 13382, 10271, 119, 102], [101, 15729, 10464, 15092, 119, 20304, 21428, 12704, 10105, 13617, 10188, 10531, 15092, 112, 187, 12331, 10108, 17904, 119, 102], [101, 72154, 19181, 10531, 12748, 10708, 11003, 10345, 10798, 30293, 10111, 18090, 20442, 12542, 13987, 23516, 10284, 10142, 11948, 14893, 119, 102], [101, 18424, 169, 14108, 17895, 10135, 169, 13507, 19871, 57680, 102], [101, 90138, 106788, 10105, 39336, 10108, 169, 15690, 10169, 10192, 11226, 10415, 19010, 119, 102], [101, 35248, 28927, 169, 12748, 10201, 28721, 10189, 32941, 19265, 32406, 10105, 22282, 10108, 12748, 10146, 11206, 10146, 10105, 13617, 119, 102], [101, 35248, 57477, 13028, 10301, 169, 70497, 57078, 11639, 22530, 98235, 10376, 10531, 12748, 10114, 30455, 119, 160, 39077, 169, 10220, 28176, 61758, 12976, 13028, 10894, 23763, 119, 102], [101, 24774, 13041, 10111, 15138, 10114, 33992, 10105, 89097, 119, 102], [101, 24774, 13041, 14796, 10114, 17876, 169, 17217, 37758, 10106, 12990, 10114, 33992, 10105, 89097, 119, 102], [101, 24774, 30466, 10111, 15138, 10114, 33992, 10105, 89097, 119, 102], [101, 35900, 117, 20363, 10107, 10105, 13416, 10106, 10146, 89387, 10230, 12990, 117, 68647, 10105, 13416, 10135, 10105, 29963, 10111, 36006, 10105, 13416, 102], [101, 12271, 45565, 10341, 44368, 65390, 112, 188, 106435, 31555, 10662, 32425, 112, 187, 12557, 119, 14962, 11695, 12174, 10261, 10529, 37035, 136, 102], [101, 32935, 12929, 10188, 10105, 12748, 10978, 10464, 10108, 10105, 12126, 19174, 117, 11639, 21428, 12704, 10105, 29077, 10108, 10105, 12748, 119, 102], [101, 12489, 23802, 10944, 13028, 42852, 10114, 119, 119, 119, 136, 102], [101, 12489, 20970, 84630, 12277, 13028, 25302, 119, 119, 119, 136, 102], [101, 12489, 44901, 10894, 13028, 56874, 10142, 119, 119, 119, 136, 102], [101, 12489, 10894, 84630, 12277, 119, 119, 119, 136, 102], [101, 12489, 10894, 13028, 18283, 106788, 120, 10106, 14854, 10188, 119, 119, 119, 136, 102], [101, 24781, 16938, 100, 188, 13028, 10104, 36540, 20442, 12542, 13170, 10114, 19918, 10169, 119, 119, 119, 136, 102], [101, 24781, 10472, 47241, 169, 12011, 10978, 119, 119, 119, 136, 102], [101, 160, 39077, 169, 140, 12483, 10189, 45218, 10107, 14168, 11446, 44870, 10107, 10188, 10105, 29963, 117, 10212, 27876, 10171, 10105, 11339, 10111, 13551, 31313, 132, 10111, 68647, 10105, 31313, 10135, 10105, 29963, 119, 102], [101, 160, 39077, 169, 19310, 10114, 10105, 16595, 10135, 169, 12142, 15557, 10108, 43607, 10114, 13028, 119, 102], [101, 160, 39077, 169, 64988, 19777, 24645, 36847, 10106, 19122, 10108, 169, 13507, 12956, 119, 102], [101, 160, 39077, 169, 38869, 10978, 10531, 12748, 119, 102], [101, 160, 39077, 169, 11847, 10108, 23123, 10114, 29320, 12976, 44936, 10106, 10105, 13617, 119, 102], [101, 160, 39077, 169, 13716, 13617, 66842, 169, 14927, 20627, 10106, 10105, 13351, 10108, 169, 24109, 22277, 37285, 14671, 119, 102], [101, 160, 39077, 169, 12011, 10978, 112, 13773, 48492, 112, 10479, 10374, 169, 11499, 11231, 10317, 14210, 17427, 10108, 169, 30568, 119, 102], [101, 160, 39077, 10151, 62382, 10106, 10472, 10798, 11084, 12214, 21296, 10978, 11098, 10111, 34265, 78226, 60452, 10426, 119, 45414, 14459, 21264, 10146, 13172, 10146, 14128, 119, 102], [101, 14962, 10149, 13028, 96961, 10105, 17466, 10108, 13547, 16080, 34926, 10114, 37284, 21883, 169, 16470, 10944, 40316, 10114, 169, 13451, 16715, 12765, 120, 20394, 120, 10924, 136, 102], [101, 14962, 10944, 11951, 96961, 10111, 66770, 73367, 10978, 169, 16042, 11787, 10114, 18842, 10751, 22975, 136, 102], [101, 14962, 10114, 96961, 37859, 12261, 77068, 10908, 10111, 29725, 11130, 13192, 43662, 10230, 46767, 102], [101, 14962, 10149, 11951, 65763, 10454, 96961, 19865, 20036, 81590, 10107, 10114, 80392, 10151, 11346, 10240, 10169, 30865, 102], [101, 14962, 10149, 11951, 10104, 36540, 169, 13170, 10114, 10110, 39910, 10105, 28160, 102], [101, 14820, 13028, 10104, 36540, 10151, 11419, 70629, 29659, 10142, 102], [101, 11791, 13028, 10104, 36540, 169, 57912, 23068, 10106, 12990, 10114, 15329, 20434, 79140, 10107, 102], [101, 89586, 22112, 10410, 10111, 11419, 97038, 10216, 169, 12483, 10142, 10531, 56120, 102], [101, 89586, 22112, 10410, 169, 17175, 11610, 10135, 10105, 11901, 12929, 131, 13968, 29087, 10796, 91042, 58875, 10107, 102], [101, 14962, 12174, 11951, 26800, 169, 11170, 89329, 38713, 10108, 17001, 10142, 41536, 34377, 10106, 10531, 12807, 10108, 22205, 10169, 14739, 11426, 136, 102], [101, 11301, 13684, 10230, 10151, 48580, 117, 11419, 13311, 11269, 10105, 17466, 117, 10111, 46908, 47775, 10107, 117, 37284, 10107, 10106, 12976, 30360, 10105, 48580, 12174, 10347, 23736, 10798, 46767, 10106, 12990, 10114, 25974, 10798, 21535, 11942, 47775, 10107, 10106, 10105, 16711, 119, 102], [101, 11301, 11419, 13311, 11269, 10105, 12078, 10213, 11355, 10108, 169, 12253, 10106, 169, 12485, 11661, 117, 37284, 10105, 16455, 10114, 10319, 10105, 38385, 11121, 15282, 46767, 10111, 102], [101, 11301, 15566, 16297, 169, 18077, 117, 37284, 10105, 16455, 10114, 10319, 10105, 18077, 10134, 100679, 10162, 10146, 65763, 10454, 10146, 14128, 102], [101, 73784, 35885, 10112, 11165, 10106, 13145, 10108, 169, 79357, 119, 102], [101, 73784, 35885, 10112, 10105, 29811, 112, 187, 26874, 14010, 11610, 15378, 10105, 13596, 112, 67136, 119, 102], [101, 13491, 11155, 13501, 10479, 14819, 10472, 11760, 10105, 32548, 22414, 136, 102], [101, 13491, 13028, 169, 119, 119, 119, 15042, 136, 102], [101, 77014, 22094, 10105, 49781, 14010, 10108, 10151, 17034, 112, 187, 47775, 10107, 11610, 10135, 10105, 18713, 13507, 119, 102], [101, 77014, 22094, 10105, 21912, 10108, 37149, 11226, 10415, 20194, 21891, 119, 102], [101, 77014, 22094, 10105, 25315, 26874, 14010, 10108, 12902, 73201, 10415, 43847, 10107, 10108, 10105, 11561, 11165, 10345, 48806, 19228, 119, 102], [101, 77014, 22094, 10105, 33318, 10107, 10111, 61285, 14010, 10171, 10108, 10105, 14978, 19185, 10111, 11639, 22530, 101480, 14204, 10189, 14819, 10347, 15109, 10106, 16711, 19185, 131, 12489, 10944, 10347, 102], [101, 11514, 10105, 16108, 10114, 10105, 12504, 43542, 119, 38571, 17761, 10105, 45985, 10108, 107, 15198, 18204, 27382, 17883, 107, 10106, 12990, 10108, 21912, 10114, 13028, 119, 102], [101, 14820, 13028, 60041, 10105, 14932, 10189, 12237, 112, 187, 28005, 10169, 10105, 24109, 10240, 112, 187, 13578, 10124, 10105, 10992, 15127, 21257, 10161, 10106, 10105, 13617, 136, 102], [101, 14820, 13028, 60041, 20442, 12956, 10978, 119, 119, 119, 136, 102], [101, 50690, 14569, 169, 72700, 52561, 10142, 10105, 40347, 10108, 10151, 60180, 13926, 136, 113, 13277, 123, 114, 102], [101, 50690, 14569, 10111, 32941, 19265, 19779, 10105, 10551, 10992, 12452, 15284, 10106, 10105, 13617, 119, 102], [101, 12845, 78225, 10253, 10111, 13145, 10319, 13925, 11787, 34868, 10114, 169, 17981, 14979, 10108, 14625, 119, 102], [101, 12845, 42461, 14526, 169, 89897, 10189, 11337, 10840, 30013, 13041, 20442, 10751, 18301, 21535, 10106, 10151, 11419, 104360, 10111, 10478, 65699, 11964, 11203, 13170, 119, 102], [101, 140, 45867, 11189, 10151, 34176, 13684, 10345, 169, 14108, 43542, 119, 102], [101, 140, 45867, 11189, 10105, 10684, 16470, 112, 187, 113, 10345, 20442, 12542, 114, 29811, 117, 11610, 10135, 10105, 67136, 11951, 10529, 19549, 10531, 16715, 12765, 119, 102], [101, 46147, 13315, 21883, 13028, 10301, 10106, 19122, 10108, 12585, 10135, 169, 71027, 88975, 132, 60041, 20442, 12956, 10106, 169, 29632, 119, 102], [101, 46147, 13315, 21883, 13028, 12174, 10529, 37035, 10135, 10105, 17354, 59893, 10111, 24087, 119, 160, 39077, 10978, 24682, 10189, 10894, 10529, 10590, 109024, 14293, 62452, 10114, 102], [101, 46147, 13315, 21883, 13028, 39496, 21408, 10978, 55955, 10188, 10531, 12748, 119, 102], [101, 46147, 13315, 10319, 22102, 10894, 12504, 20241, 10105, 12956, 10108, 11652, 119, 102], [101, 46147, 13315, 10319, 15348, 10108, 14204, 10134, 10992, 26874, 102], [101, 46147, 13315, 10319, 22414, 10108, 15566, 16297, 169, 18077, 10134, 10992, 26874, 102], [101, 77955, 19342, 10105, 11901, 27445, 131, 10117, 32548, 22414, 14009, 10380, 11206, 10189, 10271, 12174, 18923, 13246, 169, 23247, 45100, 10708, 169, 69974, 26901, 20627, 119, 102], [101, 77955, 19342, 20442, 11760, 10108, 169, 19182, 40919, 10106, 15566, 16297, 10105, 18077, 119, 102], [101, 13810, 99590, 11044, 10105, 13925, 86956, 10108, 169, 50071, 79308, 10415, 19912, 119, 39007, 20442, 26799, 10169, 12929, 13028, 10529, 39496, 10188, 10531, 15348, 119, 102], [101, 17732, 169, 89601, 70427, 10189, 13028, 27874, 10992, 11426, 10894, 84874, 13382, 10105, 89601, 77596, 25083, 119, 102], [101, 10666, 91724, 11088, 12277, 169, 15092, 100, 187, 22115, 10309, 51670, 11130, 102], [101, 11791, 13028, 68312, 119, 119, 119, 136, 102], [101, 11791, 13028, 27874, 119, 119, 119, 10124, 169, 15198, 10345, 169, 15838, 40414, 136, 102], [101, 13666, 48850, 13264, 67136, 10142, 14293, 10531, 30865, 10111, 60041, 20442, 11070, 30641, 119, 102], [101, 18742, 107114, 10112, 169, 11424, 10108, 11938, 117, 24426, 10105, 31725, 10142, 20442, 70204, 119, 102], [101, 18742, 107114, 10112, 49781, 10111, 22944, 16587, 30698, 88958, 22115, 10108, 19174, 119, 102], [101, 18742, 107114, 10112, 17936, 13332, 10111, 12820, 48281, 31237, 23123, 10301, 12452, 119, 102], [101, 18742, 107114, 10112, 10105, 29162, 12333, 11046, 74265, 28615, 10108, 169, 29677, 42375, 16430, 102], [101, 18742, 107114, 10112, 10105, 13277, 10108, 79332, 46178, 10350, 26854, 11945, 10948, 10551, 13795, 10107, 13382, 25090, 37403, 16490, 10350, 12929, 136, 113, 13277, 125, 114, 102], [101, 18742, 107114, 10112, 10551, 12416, 19023, 10108, 12929, 10978, 10105, 34624, 10107, 119, 160, 39187, 10237, 10894, 10347, 169, 18322, 30865, 10142, 20442, 24564, 10111, 31237, 136, 102], [101, 18742, 107114, 10112, 21883, 10455, 13192, 10124, 169, 22024, 43847, 10108, 10105, 11436, 26069, 119, 102], [101, 18742, 107114, 10112, 20442, 12542, 10345, 169, 56921, 112, 187, 62382, 10106, 18873, 10108, 10105, 45985, 10108, 24664, 55424, 10939, 10105, 16715, 12765, 119, 102], [101, 27746, 45980, 10105, 17067, 23188, 10108, 11408, 11922, 13736, 33439, 10169, 42047, 10114, 169, 15018, 15557, 10111, 11388, 15198, 31725, 113, 11610, 10135, 45985, 55424, 10106, 13596, 114, 10142, 31237, 10464, 33439, 12956, 10124, 10798, 22497, 10114, 10347, 26874, 11084, 10105, 10684, 112, 187, 119, 102], [101, 27746, 88975, 10111, 12820, 48281, 169, 10751, 25293, 119, 102], [101, 27746, 88975, 30865, 10107, 11019, 10106, 14293, 102499, 10114, 10151, 11572, 29115, 119, 102], [101, 90491, 10151, 36847, 10135, 11178, 12956, 117, 10110, 20467, 19779, 10105, 64988, 10415, 18042, 28841, 10171, 10106, 10189, 36847, 119, 102], [101, 90491, 10105, 11165, 14579, 10135, 169, 14108, 20210, 117, 13574, 169, 12956, 10111, 60041, 10271, 119, 102], [101, 90491, 10105, 11165, 11951, 112, 10323, 59822, 10160, 10135, 10531, 57680, 117, 103730, 107114, 10112, 14796, 49781, 10531, 47775, 10124, 10111, 60041, 20442, 57085, 119, 102], [101, 90491, 10105, 10551, 44901, 10114, 10105, 17067, 27917, 18077, 117, 18344, 10105, 44901, 10106, 18873, 10108, 64416, 10111, 24944, 35717, 119, 102], [101, 90491, 11003, 14128, 63036, 10114, 92292, 10105, 23908, 11787, 117, 71695, 10105, 14128, 38119, 10107, 10111, 36474, 10162, 25314, 24115, 10108, 11948, 23068, 119, 102], [101, 90491, 10551, 14128, 44901, 117, 138, 10111, 139, 117, 10114, 15566, 16297, 10105, 13507, 16042, 13405, 18077, 117, 19068, 10135, 10105, 12504, 28502, 119, 36472, 20442, 12820, 29748, 119, 102], [101, 14962, 26874, 10301, 119, 119, 119, 136, 102], [101, 14962, 10894, 13028, 19068, 10978, 119, 119, 119, 136, 102], [101, 14962, 10894, 13028, 38008, 12277, 119, 119, 119, 136, 102], [101, 14962, 10894, 13028, 10529, 90170, 119, 119, 119, 136, 102], [101, 10796, 73099, 20709, 117, 34800, 10336, 10345, 39541, 136, 102], [101, 10167, 169, 13507, 43463, 18586, 117, 47054, 10105, 10992, 27949, 13096, 40152, 10111, 18283, 106788, 10105, 12126, 21274, 10111, 14128, 12250, 21274, 119, 102], [101, 12034, 11155, 169, 18322, 28502, 10114, 119, 119, 119, 136, 102], [101, 31617, 81506, 104739, 15510, 14197, 10111, 19808, 10114, 16711, 31313, 119, 102], [101, 31617, 10105, 66178, 13277, 10142, 20442, 43310, 119, 102], [101, 31617, 10105, 19211, 10108, 119, 119, 119, 136, 102], [101, 31617, 21883, 10271, 10894, 10347, 14128, 10114, 55681, 10135, 10151, 17354, 24087, 10111, 59893, 10336, 119, 160, 39077, 10978, 10271, 119, 102], [101, 31617, 21883, 17952, 80433, 11747, 10301, 13486, 29025, 10345, 10119, 42923, 29025, 10142, 10105, 25396, 43163, 73113, 119, 102], [101, 17116, 48281, 10111, 38316, 10216, 30360, 10114, 29320, 18882, 91253, 119, 102], [101, 17116, 48281, 10105, 12887, 11469, 30943, 169, 34987, 72453, 37398, 119, 102], [101, 69898, 10114, 10551, 13596, 36778, 10173, 97209, 10376, 10135, 54260, 10111, 27896, 10455, 14432, 10135, 10105, 17172, 10108, 10105, 34302, 21543, 10531, 16715, 12765, 119, 102], [101, 17452, 10105, 11901, 10106, 12990, 10108, 92602, 119, 119, 119, 102], [101, 90138, 106788, 12976, 11337, 84630, 13451, 10106, 119, 102], [101, 90138, 106788, 21883, 44368, 11337, 17038, 11783, 12014, 10114, 27541, 10105, 26037, 10157, 10662, 11736, 10855, 10108, 61958, 119, 77014, 17019, 10376, 10261, 30811, 10226, 78327, 12014, 119, 102], [101, 97200, 97551, 11534, 14796, 17446, 13596, 25525, 10345, 12253, 58821, 12174, 10347, 34605, 119, 102], [101, 80859, 10105, 12504, 43542, 10142, 169, 21622, 12286, 21379, 16430, 119, 102], [101, 80859, 10105, 10992, 26874, 28502, 119, 102], [101, 12271, 27060, 10562, 30360, 10106, 10319, 10271, 12174, 10529, 58040, 10798, 46767, 102], [101, 19068, 10978, 10105, 10992, 11419, 104360, 10668, 10108, 10105, 12748, 119, 11223, 62452, 10114, 18090, 10160, 16298, 11003, 31725, 31237, 136, 102], [101, 45414, 169, 31624, 10111, 33182, 10114, 71695, 10105, 33311, 112, 18267, 84874, 14751, 60610, 112, 187, 15174, 12373, 10108, 10105, 41872, 112, 119, 102], [101, 32935, 31214, 19211, 10104, 30619, 94958, 117, 19068, 10948, 10551, 61576, 118, 46267, 14510, 20779, 12682, 10142, 10105, 13684, 10108, 169, 33955, 27714, 10129, 119, 102], [101, 32935, 10105, 25090, 45985, 10108, 65978, 19534, 55424, 10106, 10531, 15348, 117, 103730, 107114, 10112, 10105, 10808, 13925, 11787, 10155, 26099, 18444, 67524, 10114, 13145, 20442, 104118, 119, 102], [101, 22034, 81579, 169, 14772, 10536, 17556, 136, 12128, 13028, 11337, 17367, 10114, 39224, 14772, 14010, 119, 102], [101, 12489, 19010, 10114, 119, 119, 119, 10894, 13028, 11639, 22530, 101480, 136, 102], [101, 12489, 67136, 10894, 13028, 11760, 10114, 13935, 22094, 10105, 64999, 11949, 10108, 169, 14155, 16108, 136, 102], [101, 12489, 67136, 10894, 13028, 11760, 10114, 13935, 22094, 119, 119, 119, 136, 102], [101, 12489, 10149, 13028, 27874, 10978, 119, 119, 119, 136, 102], [101, 12489, 10124, 10668, 10108, 10531, 12748, 12172, 13028, 11850, 12504, 119, 29091, 31237, 13028, 11850, 10271, 136, 102], [101, 12489, 10124, 10105, 10992, 12452, 119, 119, 119, 136, 102], [101, 160, 39187, 10237, 10108, 10105, 11901, 22115, 10894, 23282, 10347, 16298, 26874, 10106, 10349, 91724, 23025, 10105, 57085, 136, 102], [101, 160, 39187, 10237, 10108, 10105, 10551, 73418, 10107, 117, 11499, 55873, 30490, 10345, 69609, 30490, 117, 10124, 10798, 65763, 136, 17116, 48281, 20442, 57085, 119, 102], [101, 100393, 13028, 10529, 11850, 10162, 10114, 10529, 10374, 96258, 10142, 169, 19806, 136, 27746, 88975, 31237, 10345, 31237, 10472, 119, 102], [101, 160, 39077, 169, 13416, 10108, 67136, 10114, 31624, 10105, 30032, 35562, 10107, 119, 102], [101, 24774, 13041, 10105, 13617, 10111, 32650, 95076, 24203, 10105, 12807, 10108, 26070, 10189, 10894, 84874, 10531, 12748, 119, 102], [101, 42272, 27801, 10105, 96014, 11405, 13600, 94091, 10107, 10108, 10105, 39189, 118, 14517, 10550, 102], [101, 42272, 27801, 10105, 24179, 10108, 32342, 56507, 10142, 97129, 10106, 12902, 109036, 11077, 15647, 102], [101, 42272, 27801, 11419, 63592, 96065, 10112, 10135, 30855, 120, 36119, 14943, 102], [101, 42272, 27801, 10105, 66178, 10108, 10105, 20210, 102], [101, 42272, 27801, 40540, 14796, 11695, 10105, 94460, 15138, 19135, 102], [101, 12489, 10149, 13028, 27874, 10124, 10105, 12504, 40414, 10978, 23959, 10114, 44768, 66397, 136, 102], [101, 12489, 10149, 13028, 27874, 10124, 10105, 22038, 10111, 31237, 102], [101, 12489, 10149, 13028, 27874, 10301, 10105, 33318, 10107, 10108, 13382, 47833, 82116, 10106, 20442, 12483, 136, 102], [101, 11791, 13028, 27874, 10189, 10531, 33311, 10173, 50038, 10107, 10105, 14932, 10189, 177, 10392, 32862, 10114, 16874, 23432, 102], [101, 14962, 10149, 13028, 27874, 10105, 13354, 14819, 42254, 10345, 15453, 102], [101, 14962, 11791, 11065, 48922, 11340, 71426, 67683, 10106, 26842, 16232, 100979, 46147, 57860, 10107, 10106, 15281, 102]]>"
            ]
          },
          "metadata": {
            "tags": []
          },
          "execution_count": 319
        }
      ]
    },
    {
      "cell_type": "code",
      "metadata": {
        "id": "DpQDU8SfoWQI"
      },
      "source": [
        "lens=[len(i) for i in input_word_ids]"
      ],
      "execution_count": null,
      "outputs": []
    },
    {
      "cell_type": "code",
      "metadata": {
        "colab": {
          "base_uri": "https://localhost:8080/"
        },
        "id": "nzD65uI5pPQl",
        "outputId": "2680414d-4ad3-49f3-ae92-475c6f0cfc53"
      },
      "source": [
        "max_seq_length=max(lens)\n",
        "print(\"The maximum length is \",max_seq_length)"
      ],
      "execution_count": null,
      "outputs": [
        {
          "output_type": "stream",
          "text": [
            "The maximum length is  47\n"
          ],
          "name": "stdout"
        }
      ]
    },
    {
      "cell_type": "code",
      "metadata": {
        "colab": {
          "base_uri": "https://localhost:8080/"
        },
        "id": "Vdz_uIgepWMW",
        "outputId": "b0c356aa-7bd3-4337-aa60-6d8ce0a245ff"
      },
      "source": [
        "max_seq_length=int(2.5*max_seq_length)\n",
        "print(\"The maximum length is \",max_seq_length)"
      ],
      "execution_count": null,
      "outputs": [
        {
          "output_type": "stream",
          "text": [
            "The maximum length is  117\n"
          ],
          "name": "stdout"
        }
      ]
    },
    {
      "cell_type": "code",
      "metadata": {
        "id": "Ho2gdFONpfw5"
      },
      "source": [
        "def encode_names(n, tokenizer):\n",
        "   tokens = list(tokenizer.tokenize(n))\n",
        "   tokens.append('[SEP]')\n",
        "   return tokenizer.convert_tokens_to_ids(tokens)\n",
        "\n",
        "def bert_encode(string_list, tokenizer, max_seq_length):\n",
        "  num_examples = len(string_list)\n",
        "  \n",
        "  string_tokens = tf.ragged.constant([\n",
        "      encode_names(n, tokenizer) for n in np.array(string_list)])\n",
        "\n",
        "  cls = [tokenizer.convert_tokens_to_ids(['[CLS]'])]*string_tokens.shape[0]\n",
        "  input_word_ids = tf.concat([cls, string_tokens], axis=-1)\n",
        "\n",
        "  input_mask = tf.ones_like(input_word_ids).to_tensor(shape=(None, max_seq_length))\n",
        "\n",
        "  type_cls = tf.zeros_like(cls)\n",
        "  type_tokens = tf.ones_like(string_tokens)\n",
        "  input_type_ids = tf.concat(\n",
        "      [type_cls, type_tokens], axis=-1).to_tensor(shape=(None, max_seq_length))\n",
        "\n",
        "  inputs = {\n",
        "      'input_word_ids': input_word_ids.to_tensor(shape=(None, max_seq_length)),\n",
        "      'input_mask': input_mask,\n",
        "      'input_type_ids': input_type_ids}\n",
        "\n",
        "  return inputs\n",
        "\n"
      ],
      "execution_count": null,
      "outputs": []
    },
    {
      "cell_type": "code",
      "metadata": {
        "id": "rdE6TzANqLSC"
      },
      "source": [
        "X_train = bert_encode(trainDf['Question'], tokenizer, max_seq_length)"
      ],
      "execution_count": null,
      "outputs": []
    },
    {
      "cell_type": "code",
      "metadata": {
        "colab": {
          "base_uri": "https://localhost:8080/"
        },
        "id": "kY_ALYwDqlEg",
        "outputId": "8cd62c37-581b-4b45-b608-8102b5567333"
      },
      "source": [
        "X_train['input_word_ids'].shape"
      ],
      "execution_count": null,
      "outputs": [
        {
          "output_type": "execute_result",
          "data": {
            "text/plain": [
              "TensorShape([668, 117])"
            ]
          },
          "metadata": {
            "tags": []
          },
          "execution_count": 325
        }
      ]
    },
    {
      "cell_type": "code",
      "metadata": {
        "id": "U1A7ZwdFqhua"
      },
      "source": [
        "num_class = 6  # Based on available class selection\n",
        "max_seq_length = max_seq_length  # we calculated this a couple cells ago\n",
        "\n",
        "input_word_ids = tf.keras.layers.Input(shape=(max_seq_length,), dtype=tf.int32,\n",
        "                                       name=\"input_word_ids\")\n",
        "input_mask = tf.keras.layers.Input(shape=(max_seq_length,), dtype=tf.int32,\n",
        "                                   name=\"input_mask\")\n",
        "segment_ids = tf.keras.layers.Input(shape=(max_seq_length,), dtype=tf.int32,\n",
        "                                    name=\"segment_ids\")\n",
        "\n",
        "pooled_output, sequence_output = bertLayer([input_word_ids, input_mask, segment_ids])                                  \n",
        "\n",
        "output = tf.keras.layers.Dropout(rate=0.1)(pooled_output)\n",
        "\n",
        "output = tf.keras.layers.Dense(num_class, activation='softmax', name='output')(output)\n",
        "\n",
        "model = tf.keras.Model(\n",
        "    inputs={\n",
        "        'input_word_ids': input_word_ids,\n",
        "        'input_mask': input_mask,\n",
        "        'input_type_ids': segment_ids\n",
        "        },\n",
        "        outputs=output)"
      ],
      "execution_count": null,
      "outputs": []
    },
    {
      "cell_type": "code",
      "metadata": {
        "colab": {
          "base_uri": "https://localhost:8080/",
          "height": 220
        },
        "id": "y4VNmOELr417",
        "outputId": "ba7b46fb-fa5e-4bce-f9a5-9ca297ecaf3f"
      },
      "source": [
        "tf.keras.utils.plot_model(model, show_shapes=True, dpi=48)"
      ],
      "execution_count": null,
      "outputs": [
        {
          "output_type": "execute_result",
          "data": {
            "image/png": "[encoded data removed]",
            "text/plain": [
              "<IPython.core.display.Image object>"
            ]
          },
          "metadata": {
            "tags": []
          },
          "execution_count": 327
        }
      ]
    },
    {
      "cell_type": "code",
      "metadata": {
        "colab": {
          "base_uri": "https://localhost:8080/",
          "height": 424
        },
        "id": "ENCV3zemsWv_",
        "outputId": "132afcb4-c4eb-412f-935d-bfd5e2434777"
      },
      "source": [
        "oneHotColumns"
      ],
      "execution_count": null,
      "outputs": [
        {
          "output_type": "execute_result",
          "data": {
            "text/html": [
              "<div>\n",
              "<style scoped>\n",
              "    .dataframe tbody tr th:only-of-type {\n",
              "        vertical-align: middle;\n",
              "    }\n",
              "\n",
              "    .dataframe tbody tr th {\n",
              "        vertical-align: top;\n",
              "    }\n",
              "\n",
              "    .dataframe thead th {\n",
              "        text-align: right;\n",
              "    }\n",
              "</style>\n",
              "<table border=\"1\" class=\"dataframe\">\n",
              "  <thead>\n",
              "    <tr style=\"text-align: right;\">\n",
              "      <th></th>\n",
              "      <th>Analysis</th>\n",
              "      <th>Application</th>\n",
              "      <th>Evaluation</th>\n",
              "      <th>Knowledge</th>\n",
              "      <th>Synthesis</th>\n",
              "      <th>Understand</th>\n",
              "    </tr>\n",
              "  </thead>\n",
              "  <tbody>\n",
              "    <tr>\n",
              "      <th>0</th>\n",
              "      <td>0</td>\n",
              "      <td>0</td>\n",
              "      <td>0</td>\n",
              "      <td>1</td>\n",
              "      <td>0</td>\n",
              "      <td>0</td>\n",
              "    </tr>\n",
              "    <tr>\n",
              "      <th>1</th>\n",
              "      <td>0</td>\n",
              "      <td>0</td>\n",
              "      <td>0</td>\n",
              "      <td>1</td>\n",
              "      <td>0</td>\n",
              "      <td>0</td>\n",
              "    </tr>\n",
              "    <tr>\n",
              "      <th>2</th>\n",
              "      <td>0</td>\n",
              "      <td>0</td>\n",
              "      <td>0</td>\n",
              "      <td>1</td>\n",
              "      <td>0</td>\n",
              "      <td>0</td>\n",
              "    </tr>\n",
              "    <tr>\n",
              "      <th>3</th>\n",
              "      <td>0</td>\n",
              "      <td>0</td>\n",
              "      <td>0</td>\n",
              "      <td>1</td>\n",
              "      <td>0</td>\n",
              "      <td>0</td>\n",
              "    </tr>\n",
              "    <tr>\n",
              "      <th>4</th>\n",
              "      <td>0</td>\n",
              "      <td>0</td>\n",
              "      <td>0</td>\n",
              "      <td>0</td>\n",
              "      <td>0</td>\n",
              "      <td>1</td>\n",
              "    </tr>\n",
              "    <tr>\n",
              "      <th>...</th>\n",
              "      <td>...</td>\n",
              "      <td>...</td>\n",
              "      <td>...</td>\n",
              "      <td>...</td>\n",
              "      <td>...</td>\n",
              "      <td>...</td>\n",
              "    </tr>\n",
              "    <tr>\n",
              "      <th>663</th>\n",
              "      <td>0</td>\n",
              "      <td>0</td>\n",
              "      <td>1</td>\n",
              "      <td>0</td>\n",
              "      <td>0</td>\n",
              "      <td>0</td>\n",
              "    </tr>\n",
              "    <tr>\n",
              "      <th>664</th>\n",
              "      <td>0</td>\n",
              "      <td>0</td>\n",
              "      <td>1</td>\n",
              "      <td>0</td>\n",
              "      <td>0</td>\n",
              "      <td>0</td>\n",
              "    </tr>\n",
              "    <tr>\n",
              "      <th>665</th>\n",
              "      <td>0</td>\n",
              "      <td>0</td>\n",
              "      <td>1</td>\n",
              "      <td>0</td>\n",
              "      <td>0</td>\n",
              "      <td>0</td>\n",
              "    </tr>\n",
              "    <tr>\n",
              "      <th>666</th>\n",
              "      <td>0</td>\n",
              "      <td>0</td>\n",
              "      <td>1</td>\n",
              "      <td>0</td>\n",
              "      <td>0</td>\n",
              "      <td>0</td>\n",
              "    </tr>\n",
              "    <tr>\n",
              "      <th>667</th>\n",
              "      <td>0</td>\n",
              "      <td>0</td>\n",
              "      <td>1</td>\n",
              "      <td>0</td>\n",
              "      <td>0</td>\n",
              "      <td>0</td>\n",
              "    </tr>\n",
              "  </tbody>\n",
              "</table>\n",
              "<p>668 rows × 6 columns</p>\n",
              "</div>"
            ],
            "text/plain": [
              "     Analysis  Application  Evaluation  Knowledge  Synthesis  Understand\n",
              "0           0            0           0          1          0           0\n",
              "1           0            0           0          1          0           0\n",
              "2           0            0           0          1          0           0\n",
              "3           0            0           0          1          0           0\n",
              "4           0            0           0          0          0           1\n",
              "..        ...          ...         ...        ...        ...         ...\n",
              "663         0            0           1          0          0           0\n",
              "664         0            0           1          0          0           0\n",
              "665         0            0           1          0          0           0\n",
              "666         0            0           1          0          0           0\n",
              "667         0            0           1          0          0           0\n",
              "\n",
              "[668 rows x 6 columns]"
            ]
          },
          "metadata": {
            "tags": []
          },
          "execution_count": 328
        }
      ]
    },
    {
      "cell_type": "code",
      "metadata": {
        "id": "NlDmQahKsBo3"
      },
      "source": [
        "epochs = 7\n",
        "batch_size = 16  # select based on your GPU resources\n",
        "eval_batch_size = batch_size\n",
        "\n",
        "train_data_size = len(oneHotColumns)\n",
        "steps_per_epoch = int(train_data_size / batch_size)\n",
        "num_train_steps = steps_per_epoch * epochs\n",
        "warmup_steps = int(epochs * train_data_size * 0.1 / batch_size)\n",
        "\n",
        "optimizer = nlp.optimization.create_optimizer(\n",
        "    2e-5, num_train_steps=num_train_steps, num_warmup_steps=warmup_steps)"
      ],
      "execution_count": null,
      "outputs": []
    },
    {
      "cell_type": "code",
      "metadata": {
        "id": "N6QZFBEFsdm_"
      },
      "source": [
        "\n",
        "\n",
        "model.compile(optimizer=optimizer,\n",
        "              loss='categorical_crossentropy',\n",
        "              metrics=['accuracy'])\n",
        "\n"
      ],
      "execution_count": null,
      "outputs": []
    },
    {
      "cell_type": "code",
      "metadata": {
        "colab": {
          "base_uri": "https://localhost:8080/"
        },
        "id": "nVMOCSTxsitJ",
        "outputId": "58123f28-4806-418c-cb23-22015723cdfd"
      },
      "source": [
        "model.summary()"
      ],
      "execution_count": null,
      "outputs": [
        {
          "output_type": "stream",
          "text": [
            "Model: \"model_3\"\n",
            "__________________________________________________________________________________________________\n",
            "Layer (type)                    Output Shape         Param #     Connected to                     \n",
            "==================================================================================================\n",
            "input_word_ids (InputLayer)     [(None, 117)]        0                                            \n",
            "__________________________________________________________________________________________________\n",
            "input_mask (InputLayer)         [(None, 117)]        0                                            \n",
            "__________________________________________________________________________________________________\n",
            "segment_ids (InputLayer)        [(None, 117)]        0                                            \n",
            "__________________________________________________________________________________________________\n",
            "keras_layer_3 (KerasLayer)      [(None, 768), (None, 177853441   input_word_ids[0][0]             \n",
            "                                                                 input_mask[0][0]                 \n",
            "                                                                 segment_ids[0][0]                \n",
            "__________________________________________________________________________________________________\n",
            "dropout_3 (Dropout)             (None, 768)          0           keras_layer_3[0][0]              \n",
            "__________________________________________________________________________________________________\n",
            "output (Dense)                  (None, 6)            4614        dropout_3[0][0]                  \n",
            "==================================================================================================\n",
            "Total params: 177,858,055\n",
            "Trainable params: 177,858,054\n",
            "Non-trainable params: 1\n",
            "__________________________________________________________________________________________________\n"
          ],
          "name": "stdout"
        }
      ]
    },
    {
      "cell_type": "code",
      "metadata": {
        "colab": {
          "base_uri": "https://localhost:8080/"
        },
        "id": "6nHnv-06sjyK",
        "outputId": "4d7d1627-1960-4450-f014-81c06f85440f"
      },
      "source": [
        "history = model.fit(X_train,\n",
        "                    oneHotColumns,\n",
        "                    epochs=epochs,\n",
        "                    batch_size=batch_size,\n",
        "                    verbose=1)"
      ],
      "execution_count": null,
      "outputs": [
        {
          "output_type": "stream",
          "text": [
            "Epoch 1/7\n",
            "42/42 [==============================] - 44s 831ms/step - loss: 0.0032 - accuracy: 0.9996\n",
            "Epoch 2/7\n",
            "42/42 [==============================] - 35s 837ms/step - loss: 0.0117 - accuracy: 0.9975\n",
            "Epoch 3/7\n",
            "42/42 [==============================] - 35s 838ms/step - loss: 0.0227 - accuracy: 0.9943\n",
            "Epoch 4/7\n",
            "42/42 [==============================] - 35s 838ms/step - loss: 0.0069 - accuracy: 0.9997\n",
            "Epoch 5/7\n",
            "42/42 [==============================] - 35s 838ms/step - loss: 3.6448e-04 - accuracy: 1.0000\n",
            "Epoch 6/7\n",
            "42/42 [==============================] - 35s 838ms/step - loss: 0.0016 - accuracy: 0.9994\n",
            "Epoch 7/7\n",
            "42/42 [==============================] - 35s 837ms/step - loss: 8.6223e-04 - accuracy: 1.0000\n"
          ],
          "name": "stdout"
        }
      ]
    },
    {
      "cell_type": "code",
      "metadata": {
        "colab": {
          "base_uri": "https://localhost:8080/"
        },
        "id": "cIuad1VSsssC",
        "outputId": "ec68c09d-2955-4990-f413-e41858a84561"
      },
      "source": [
        "loss, accuracy = model.evaluate(X_train, oneHotColumns, verbose=False)\n",
        "print(\"Training Accuracy: {:.4f}\".format(accuracy))"
      ],
      "execution_count": null,
      "outputs": [
        {
          "output_type": "stream",
          "text": [
            "Training Accuracy: 1.0000\n"
          ],
          "name": "stdout"
        }
      ]
    },
    {
      "cell_type": "code",
      "metadata": {
        "id": "r3ybj1S0s8gB"
      },
      "source": [
        "import re"
      ],
      "execution_count": null,
      "outputs": []
    },
    {
      "cell_type": "code",
      "metadata": {
        "id": "eTaf3XtA-pGF"
      },
      "source": [
        "def cleanHtml(rawText):\n",
        "  clean=re.compile(\"<.*?>\");\n",
        "  cleanText=re.sub(clean,\"\",rawText);\n",
        "  return cleanText"
      ],
      "execution_count": null,
      "outputs": []
    },
    {
      "cell_type": "code",
      "metadata": {
        "colab": {
          "base_uri": "https://localhost:8080/"
        },
        "id": "SCPFYArZ95-O",
        "outputId": "fb0a2cef-c5f1-4b25-de64-5061c3e3fb29"
      },
      "source": [
        "testDf.isnull().sum()"
      ],
      "execution_count": null,
      "outputs": [
        {
          "output_type": "execute_result",
          "data": {
            "text/plain": [
              "Number      0\n",
              "Question    0\n",
              "Level       0\n",
              "dtype: int64"
            ]
          },
          "metadata": {
            "tags": []
          },
          "execution_count": 384
        }
      ]
    },
    {
      "cell_type": "code",
      "metadata": {
        "id": "0vc4iz3q957Y"
      },
      "source": [
        "testDf.dropna(inplace=True)"
      ],
      "execution_count": null,
      "outputs": []
    },
    {
      "cell_type": "code",
      "metadata": {
        "colab": {
          "base_uri": "https://localhost:8080/",
          "height": 175
        },
        "id": "ZFp-tg7x954R",
        "outputId": "6976d0f8-8e84-41ef-cbbf-8ff4a4e03454"
      },
      "source": [
        "testDf.head()"
      ],
      "execution_count": null,
      "outputs": [
        {
          "output_type": "execute_result",
          "data": {
            "text/html": [
              "<div>\n",
              "<style scoped>\n",
              "    .dataframe tbody tr th:only-of-type {\n",
              "        vertical-align: middle;\n",
              "    }\n",
              "\n",
              "    .dataframe tbody tr th {\n",
              "        vertical-align: top;\n",
              "    }\n",
              "\n",
              "    .dataframe thead th {\n",
              "        text-align: right;\n",
              "    }\n",
              "</style>\n",
              "<table border=\"1\" class=\"dataframe\">\n",
              "  <thead>\n",
              "    <tr style=\"text-align: right;\">\n",
              "      <th></th>\n",
              "      <th>Number</th>\n",
              "      <th>Question</th>\n",
              "      <th>Level</th>\n",
              "    </tr>\n",
              "  </thead>\n",
              "  <tbody>\n",
              "    <tr>\n",
              "      <th>0</th>\n",
              "      <td>1</td>\n",
              "      <td>In the movie recommendation system example the...</td>\n",
              "      <td>Analysis/</td>\n",
              "    </tr>\n",
              "    <tr>\n",
              "      <th>1</th>\n",
              "      <td>2</td>\n",
              "      <td>Prediction is done by doing a dot product of t...</td>\n",
              "      <td>Analysis/Understand</td>\n",
              "    </tr>\n",
              "    <tr>\n",
              "      <th>2</th>\n",
              "      <td>3</td>\n",
              "      <td>Hi Harshit, I would have had no issues if the ...</td>\n",
              "      <td>Analysis/understand</td>\n",
              "    </tr>\n",
              "    <tr>\n",
              "      <th>3</th>\n",
              "      <td>4</td>\n",
              "      <td>Hi Akbar,Really Sorry, I hadnt noticed this. Y...</td>\n",
              "      <td>Understand</td>\n",
              "    </tr>\n",
              "  </tbody>\n",
              "</table>\n",
              "</div>"
            ],
            "text/plain": [
              "   Number  ...                Level\n",
              "0       1  ...            Analysis/\n",
              "1       2  ...  Analysis/Understand\n",
              "2       3  ...  Analysis/understand\n",
              "3       4  ...           Understand\n",
              "\n",
              "[4 rows x 3 columns]"
            ]
          },
          "metadata": {
            "tags": []
          },
          "execution_count": 386
        }
      ]
    },
    {
      "cell_type": "code",
      "metadata": {
        "id": "K8AFjc6o950n"
      },
      "source": [
        "testDf['Question']=testDf['Question'].apply(cleanHtml)"
      ],
      "execution_count": null,
      "outputs": []
    },
    {
      "cell_type": "code",
      "metadata": {
        "colab": {
          "base_uri": "https://localhost:8080/",
          "height": 175
        },
        "id": "5h4A7bNp95uR",
        "outputId": "2927f197-1393-47c5-a334-e2a409a19d47"
      },
      "source": [
        "testDf"
      ],
      "execution_count": null,
      "outputs": [
        {
          "output_type": "execute_result",
          "data": {
            "text/html": [
              "<div>\n",
              "<style scoped>\n",
              "    .dataframe tbody tr th:only-of-type {\n",
              "        vertical-align: middle;\n",
              "    }\n",
              "\n",
              "    .dataframe tbody tr th {\n",
              "        vertical-align: top;\n",
              "    }\n",
              "\n",
              "    .dataframe thead th {\n",
              "        text-align: right;\n",
              "    }\n",
              "</style>\n",
              "<table border=\"1\" class=\"dataframe\">\n",
              "  <thead>\n",
              "    <tr style=\"text-align: right;\">\n",
              "      <th></th>\n",
              "      <th>Number</th>\n",
              "      <th>Question</th>\n",
              "      <th>Level</th>\n",
              "    </tr>\n",
              "  </thead>\n",
              "  <tbody>\n",
              "    <tr>\n",
              "      <th>0</th>\n",
              "      <td>1</td>\n",
              "      <td>In the movie recommendation system example the...</td>\n",
              "      <td>Analysis/</td>\n",
              "    </tr>\n",
              "    <tr>\n",
              "      <th>1</th>\n",
              "      <td>2</td>\n",
              "      <td>Prediction is done by doing a dot product of t...</td>\n",
              "      <td>Analysis/Understand</td>\n",
              "    </tr>\n",
              "    <tr>\n",
              "      <th>2</th>\n",
              "      <td>3</td>\n",
              "      <td>Hi Harshit, I would have had no issues if the ...</td>\n",
              "      <td>Analysis/understand</td>\n",
              "    </tr>\n",
              "    <tr>\n",
              "      <th>3</th>\n",
              "      <td>4</td>\n",
              "      <td>Hi Akbar,Really Sorry, I hadnt noticed this. Y...</td>\n",
              "      <td>Understand</td>\n",
              "    </tr>\n",
              "  </tbody>\n",
              "</table>\n",
              "</div>"
            ],
            "text/plain": [
              "   Number  ...                Level\n",
              "0       1  ...            Analysis/\n",
              "1       2  ...  Analysis/Understand\n",
              "2       3  ...  Analysis/understand\n",
              "3       4  ...           Understand\n",
              "\n",
              "[4 rows x 3 columns]"
            ]
          },
          "metadata": {
            "tags": []
          },
          "execution_count": 388
        }
      ]
    },
    {
      "cell_type": "code",
      "metadata": {
        "colab": {
          "base_uri": "https://localhost:8080/",
          "height": 52
        },
        "id": "v2pmic_gAmT2",
        "outputId": "8203036f-75fc-4332-ef6b-e702e969733d"
      },
      "source": [
        "testDf['Question'][0]"
      ],
      "execution_count": null,
      "outputs": [
        {
          "output_type": "execute_result",
          "data": {
            "application/vnd.google.colaboratory.intrinsic+json": {
              "type": "string"
            },
            "text/plain": [
              "\"In the movie recommendation system example the test data with its ratings is used to predict the same test data. Isn't this wrong. The target variable should never be used to predict itself.\""
            ]
          },
          "metadata": {
            "tags": []
          },
          "execution_count": 389
        }
      ]
    },
    {
      "cell_type": "code",
      "metadata": {
        "colab": {
          "base_uri": "https://localhost:8080/",
          "height": 70
        },
        "id": "xjPqbKKgAlta",
        "outputId": "faefe9cc-9578-4a4c-9bdc-015ed0ea68d9"
      },
      "source": [
        "testDf['Question'][1]"
      ],
      "execution_count": null,
      "outputs": [
        {
          "output_type": "execute_result",
          "data": {
            "application/vnd.google.colaboratory.intrinsic+json": {
              "type": "string"
            },
            "text/plain": [
              "'Prediction is done by doing a dot product of the user correlation (for user based model) and the ratings made by user (using the train dataset).Test Data is used for the Evaluation purpose. The predictions made&nbsp;(predictions matrix got above) are evaluated on this test data set to evaluate how good or bad the performance of the model is and which model should be deployed.Hope that helps.'"
            ]
          },
          "metadata": {
            "tags": []
          },
          "execution_count": 390
        }
      ]
    },
    {
      "cell_type": "code",
      "metadata": {
        "colab": {
          "base_uri": "https://localhost:8080/",
          "height": 70
        },
        "id": "tzXaRrkgAeCk",
        "outputId": "265465ae-3c3f-45bc-be18-d6598e152cad"
      },
      "source": [
        "testDf['Question'][2]"
      ],
      "execution_count": null,
      "outputs": [
        {
          "output_type": "execute_result",
          "data": {
            "application/vnd.google.colaboratory.intrinsic+json": {
              "type": "string"
            },
            "text/plain": [
              "\"Hi Harshit, I would have had no issues if the predictions made on the train dataset were used for evaluation. But, this is not what was done. Please go through the movie recommendation system example's Evaluation section. The model is trained on the test&nbsp;dataset and evaluated. This is what my problem is with the methodology.&nbsp;\""
            ]
          },
          "metadata": {
            "tags": []
          },
          "execution_count": 391
        }
      ]
    },
    {
      "cell_type": "code",
      "metadata": {
        "colab": {
          "base_uri": "https://localhost:8080/",
          "height": 70
        },
        "id": "4EX9oZErAoCu",
        "outputId": "49d12a6b-be41-4291-d277-199bcb294b96"
      },
      "source": [
        "testDf['Question'][3]"
      ],
      "execution_count": null,
      "outputs": [
        {
          "output_type": "execute_result",
          "data": {
            "application/vnd.google.colaboratory.intrinsic+json": {
              "type": "string"
            },
            "text/plain": [
              "'Hi Akbar,Really Sorry, I hadnt noticed this. You have a very valid question.&nbsp;Lets wait for the TAs to respond.@TA Please clarify this.If the Test set is being used for generating the predictions and evaluation is done using these predictions,then what is the even need of having the Train dataset?? what is the need of generating prediction ratings using train dataset?Please clarify.thank you.'"
            ]
          },
          "metadata": {
            "tags": []
          },
          "execution_count": 392
        }
      ]
    },
    {
      "cell_type": "code",
      "metadata": {
        "id": "x0lib9vr_BOB"
      },
      "source": [
        "X_test = bert_encode(testDf['Question'], tokenizer, max_seq_length)"
      ],
      "execution_count": null,
      "outputs": []
    },
    {
      "cell_type": "code",
      "metadata": {
        "colab": {
          "base_uri": "https://localhost:8080/"
        },
        "id": "fS9VlIKEEmav",
        "outputId": "40a3efcd-a17c-476f-f69b-646790081189"
      },
      "source": [
        "max_seq_length"
      ],
      "execution_count": null,
      "outputs": [
        {
          "output_type": "execute_result",
          "data": {
            "text/plain": [
              "117"
            ]
          },
          "metadata": {
            "tags": []
          },
          "execution_count": 394
        }
      ]
    },
    {
      "cell_type": "code",
      "metadata": {
        "colab": {
          "base_uri": "https://localhost:8080/"
        },
        "id": "MmPftz3k_TQ9",
        "outputId": "a7e0c2f6-6a60-48f5-c31f-4fe13c31d201"
      },
      "source": [
        "y=model.predict(X_test)"
      ],
      "execution_count": null,
      "outputs": [
        {
          "output_type": "stream",
          "text": [
            "WARNING:tensorflow:5 out of the last 5 calls to <function Model.make_predict_function.<locals>.predict_function at 0x7fd68c747050> triggered tf.function retracing. Tracing is expensive and the excessive number of tracings could be due to (1) creating @tf.function repeatedly in a loop, (2) passing tensors with different shapes, (3) passing Python objects instead of tensors. For (1), please define your @tf.function outside of the loop. For (2), @tf.function has experimental_relax_shapes=True option that relaxes argument shapes that can avoid unnecessary retracing. For (3), please refer to https://www.tensorflow.org/guide/function#controlling_retracing and https://www.tensorflow.org/api_docs/python/tf/function for  more details.\n"
          ],
          "name": "stdout"
        },
        {
          "output_type": "stream",
          "text": [
            "WARNING:tensorflow:5 out of the last 5 calls to <function Model.make_predict_function.<locals>.predict_function at 0x7fd68c747050> triggered tf.function retracing. Tracing is expensive and the excessive number of tracings could be due to (1) creating @tf.function repeatedly in a loop, (2) passing tensors with different shapes, (3) passing Python objects instead of tensors. For (1), please define your @tf.function outside of the loop. For (2), @tf.function has experimental_relax_shapes=True option that relaxes argument shapes that can avoid unnecessary retracing. For (3), please refer to https://www.tensorflow.org/guide/function#controlling_retracing and https://www.tensorflow.org/api_docs/python/tf/function for  more details.\n"
          ],
          "name": "stderr"
        }
      ]
    },
    {
      "cell_type": "code",
      "metadata": {
        "colab": {
          "base_uri": "https://localhost:8080/"
        },
        "id": "v6crmaDs_dSH",
        "outputId": "dd4bda29-57b8-4448-c1c0-55da6fa1d658"
      },
      "source": [
        "y"
      ],
      "execution_count": null,
      "outputs": [
        {
          "output_type": "execute_result",
          "data": {
            "text/plain": [
              "array([[3.3233302e-06, 9.9985003e-01, 3.6101719e-05, 1.0196187e-06,\n",
              "        4.1705593e-05, 6.7831861e-05],\n",
              "       [9.0463748e-03, 8.0950066e-02, 8.9724189e-01, 4.5412624e-05,\n",
              "        1.2649169e-02, 6.6990680e-05],\n",
              "       [2.9469671e-04, 2.5798636e-03, 9.8251396e-01, 8.1504813e-06,\n",
              "        1.1386925e-02, 3.2162941e-03],\n",
              "       [1.6025032e-06, 8.7841463e-06, 9.9986351e-01, 1.0564056e-06,\n",
              "        1.6359269e-05, 1.0873275e-04]], dtype=float32)"
            ]
          },
          "metadata": {
            "tags": []
          },
          "execution_count": 396
        }
      ]
    },
    {
      "cell_type": "code",
      "metadata": {
        "id": "h4JcdnLq_mRl"
      },
      "source": [
        "mapIndex={\n",
        "    0:\"Analysis\",\n",
        "    1:\"Application\",\n",
        "    2:\"Evaluation\",\n",
        "    3:\"Knowledge\",\n",
        "    4:\"Synthesis\",\n",
        "    5:\"Understand\"\n",
        "}"
      ],
      "execution_count": null,
      "outputs": []
    },
    {
      "cell_type": "code",
      "metadata": {
        "id": "VgM2EjPxAG-u"
      },
      "source": [
        ""
      ],
      "execution_count": null,
      "outputs": []
    },
    {
      "cell_type": "code",
      "metadata": {
        "colab": {
          "base_uri": "https://localhost:8080/"
        },
        "id": "BrDKgHgz_4lC",
        "outputId": "593578fc-688c-4ac7-f0ca-01c74fa2d2bf"
      },
      "source": [
        "finalAnswer=[];\n",
        "for arr in y:\n",
        "  ind=np.argmax(arr);\n",
        "  print(ind)\n",
        "  print(mapIndex[ind])\n",
        "  finalAnswer.append(mapIndex[ind])"
      ],
      "execution_count": null,
      "outputs": [
        {
          "output_type": "stream",
          "text": [
            "1\n",
            "Application\n",
            "2\n",
            "Evaluation\n",
            "2\n",
            "Evaluation\n",
            "2\n",
            "Evaluation\n"
          ],
          "name": "stdout"
        }
      ]
    },
    {
      "cell_type": "code",
      "metadata": {
        "colab": {
          "base_uri": "https://localhost:8080/"
        },
        "id": "M9f8A5zx_eU0",
        "outputId": "e55e98a9-83df-4308-bcc3-cb1373a69610"
      },
      "source": [
        "testDf['Level']"
      ],
      "execution_count": null,
      "outputs": [
        {
          "output_type": "execute_result",
          "data": {
            "text/plain": [
              "0              Analysis/\n",
              "1    Analysis/Understand\n",
              "2    Analysis/understand\n",
              "3             Understand\n",
              "Name: Level, dtype: object"
            ]
          },
          "metadata": {
            "tags": []
          },
          "execution_count": 399
        }
      ]
    },
    {
      "cell_type": "code",
      "metadata": {
        "colab": {
          "base_uri": "https://localhost:8080/"
        },
        "id": "G5hVLeW3_kMH",
        "outputId": "ee0511ce-5d4c-4599-a858-1bc3c61ef713"
      },
      "source": [
        "finalAnswer"
      ],
      "execution_count": null,
      "outputs": [
        {
          "output_type": "execute_result",
          "data": {
            "text/plain": [
              "['Application', 'Evaluation', 'Evaluation', 'Evaluation']"
            ]
          },
          "metadata": {
            "tags": []
          },
          "execution_count": 400
        }
      ]
    }
  ]
}